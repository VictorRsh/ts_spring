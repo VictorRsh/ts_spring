{
 "cells": [
  {
   "cell_type": "code",
   "execution_count": 78,
   "id": "stuck-blood",
   "metadata": {},
   "outputs": [
    {
     "name": "stdout",
     "output_type": "stream",
     "text": [
      "The autoreload extension is already loaded. To reload it, use:\n",
      "  %reload_ext autoreload\n"
     ]
    }
   ],
   "source": [
    "%load_ext autoreload\n",
    "%autoreload 2"
   ]
  },
  {
   "cell_type": "code",
   "execution_count": 79,
   "id": "starting-teacher",
   "metadata": {},
   "outputs": [],
   "source": [
    "import sys\n",
    "from pathlib import Path\n",
    "\n",
    "sys.path.append(str(Path().cwd().parent))"
   ]
  },
  {
   "cell_type": "code",
   "execution_count": 80,
   "id": "initial-owner",
   "metadata": {},
   "outputs": [],
   "source": [
    "from plotting import plot_ts"
   ]
  },
  {
   "cell_type": "markdown",
   "id": "sharing-happening",
   "metadata": {},
   "source": [
    "### Возьмем временной ряд"
   ]
  },
  {
   "cell_type": "code",
   "execution_count": 81,
   "id": "toxic-wayne",
   "metadata": {},
   "outputs": [],
   "source": [
    "from load_dataset import Dataset"
   ]
  },
  {
   "cell_type": "code",
   "execution_count": 82,
   "id": "infinite-financing",
   "metadata": {},
   "outputs": [],
   "source": [
    "ds = Dataset('../data/dataset/')"
   ]
  },
  {
   "cell_type": "code",
   "execution_count": 83,
   "id": "asian-guitar",
   "metadata": {},
   "outputs": [],
   "source": [
    "ts = ds['daily-min-temperatures.csv']"
   ]
  },
  {
   "cell_type": "markdown",
   "id": "breathing-hebrew",
   "metadata": {},
   "source": [
    "### Cоздание инстанса"
   ]
  },
  {
   "cell_type": "code",
   "execution_count": 84,
   "id": "described-morrison",
   "metadata": {},
   "outputs": [],
   "source": [
    "from model import TimeSeriesPredictor"
   ]
  },
  {
   "cell_type": "markdown",
   "id": "cognitive-arthritis",
   "metadata": {},
   "source": [
    "в качестве обязательных параметров принимает частоту ряда в формате iso8601\n",
    "и количество лагов для построения модели - granularity и num_lags"
   ]
  },
  {
   "cell_type": "code",
   "execution_count": 88,
   "id": "blank-innocent",
   "metadata": {},
   "outputs": [],
   "source": [
    "predictor = TimeSeriesPredictor('P1D', 365)"
   ]
  },
  {
   "cell_type": "markdown",
   "id": "narrow-publisher",
   "metadata": {},
   "source": [
    "также predictor'y можно передать параметр model, чтобы использовать конкретную модель для прогнозирования, модель может быть любым sklearn-совместимым эстиматором"
   ]
  },
  {
   "cell_type": "code",
   "execution_count": 87,
   "id": "rural-effect",
   "metadata": {},
   "outputs": [],
   "source": [
    "from sklearn.ensemble import GradientBoostingRegressor\n",
    "\n",
    "predictor = TimeSeriesPredictor('P1D', 365, model=GradientBoostingRegressor)"
   ]
  },
  {
   "cell_type": "markdown",
   "id": "crude-stockholm",
   "metadata": {},
   "source": [
    "model по умолчанию - LinearRegression"
   ]
  },
  {
   "cell_type": "code",
   "execution_count": 89,
   "id": "hourly-fishing",
   "metadata": {},
   "outputs": [
    {
     "data": {
      "text/plain": [
       "LinearRegression()"
      ]
     },
     "execution_count": 89,
     "metadata": {},
     "output_type": "execute_result"
    }
   ],
   "source": [
    "predictor = TimeSeriesPredictor('P1D', 365)\n",
    "predictor.model"
   ]
  },
  {
   "cell_type": "markdown",
   "id": "smooth-engine",
   "metadata": {},
   "source": [
    "также для передачи дополнительной информации в модель вы можете использовать параметр mappers куда нужно передать ваши функции, принимающие timestamp и возвращающие для него значение вашего доп признака"
   ]
  },
  {
   "cell_type": "code",
   "execution_count": 90,
   "id": "armed-water",
   "metadata": {},
   "outputs": [],
   "source": [
    "def get_hour(timestamp):\n",
    "    return timestamp.hour\n",
    "\n",
    "external_features = {\n",
    "    'hour': get_hour\n",
    "}\n",
    "\n",
    "predictor = TimeSeriesPredictor('P1D', 365, mappers=external_features)"
   ]
  },
  {
   "cell_type": "markdown",
   "id": "informed-nevada",
   "metadata": {},
   "source": [
    "Помимо основных параметровв модель также можно передать любое произвольно количество именованных аргументов **kwargs, которые будут переданы в конструктор `model`"
   ]
  },
  {
   "cell_type": "code",
   "execution_count": 91,
   "id": "raised-demographic",
   "metadata": {},
   "outputs": [],
   "source": [
    "from sklearn.ensemble import GradientBoostingRegressor\n",
    "\n",
    "predictor = TimeSeriesPredictor('P1D', 365, model=GradientBoostingRegressor, max_depth=6, n_estimators=1000)"
   ]
  },
  {
   "cell_type": "markdown",
   "id": "involved-suspension",
   "metadata": {},
   "source": [
    "### Получение и установка параметров и функционал get/set params"
   ]
  },
  {
   "cell_type": "markdown",
   "id": "involved-compensation",
   "metadata": {},
   "source": [
    "классическое получение и задание аттрибутов"
   ]
  },
  {
   "cell_type": "code",
   "execution_count": 93,
   "id": "known-turkey",
   "metadata": {},
   "outputs": [
    {
     "data": {
      "text/plain": [
       "0.1"
      ]
     },
     "execution_count": 93,
     "metadata": {},
     "output_type": "execute_result"
    }
   ],
   "source": [
    "predictor.num_lags\n",
    "predictor.model\n",
    "predictor.model.learning_rate"
   ]
  },
  {
   "cell_type": "code",
   "execution_count": 94,
   "id": "designed-alfred",
   "metadata": {},
   "outputs": [],
   "source": [
    "predictor.model.learning_rate = 0.2"
   ]
  },
  {
   "cell_type": "code",
   "execution_count": 95,
   "id": "interstate-refrigerator",
   "metadata": {},
   "outputs": [
    {
     "data": {
      "text/plain": [
       "0.2"
      ]
     },
     "execution_count": 95,
     "metadata": {},
     "output_type": "execute_result"
    }
   ],
   "source": [
    "predictor.model.learning_rate"
   ]
  },
  {
   "cell_type": "markdown",
   "id": "acoustic-blowing",
   "metadata": {},
   "source": [
    "метод get_params получает словарь всех параметров модели включая sub-параметры модели, в таком случае они идут с префиксом\n",
    "`model__`"
   ]
  },
  {
   "cell_type": "code",
   "execution_count": 97,
   "id": "statewide-writer",
   "metadata": {},
   "outputs": [
    {
     "data": {
      "text/plain": [
       "{'granularity': 'P1D',\n",
       " 'mappers': {},\n",
       " 'model__alpha': 0.9,\n",
       " 'model__ccp_alpha': 0.0,\n",
       " 'model__criterion': 'friedman_mse',\n",
       " 'model__init': None,\n",
       " 'model__learning_rate': 0.2,\n",
       " 'model__loss': 'ls',\n",
       " 'model__max_depth': 6,\n",
       " 'model__max_features': None,\n",
       " 'model__max_leaf_nodes': None,\n",
       " 'model__min_impurity_decrease': 0.0,\n",
       " 'model__min_impurity_split': None,\n",
       " 'model__min_samples_leaf': 1,\n",
       " 'model__min_samples_split': 2,\n",
       " 'model__min_weight_fraction_leaf': 0.0,\n",
       " 'model__n_estimators': 1000,\n",
       " 'model__n_iter_no_change': None,\n",
       " 'model__random_state': None,\n",
       " 'model__subsample': 1.0,\n",
       " 'model__tol': 0.0001,\n",
       " 'model__validation_fraction': 0.1,\n",
       " 'model__verbose': 0,\n",
       " 'model__warm_start': False,\n",
       " 'model': GradientBoostingRegressor(learning_rate=0.2, max_depth=6, n_estimators=1000),\n",
       " 'num_lags': 365}"
      ]
     },
     "execution_count": 97,
     "metadata": {},
     "output_type": "execute_result"
    }
   ],
   "source": [
    "predictor.get_params()"
   ]
  },
  {
   "cell_type": "markdown",
   "id": "rural-contrary",
   "metadata": {},
   "source": [
    "метод set_params реализует обратную логику, принимая набор параметров для установки, включая sub-параметры модели, в таком случае их нужно указывать с префиксом `model__`"
   ]
  },
  {
   "cell_type": "code",
   "execution_count": 98,
   "id": "controlled-shoulder",
   "metadata": {},
   "outputs": [
    {
     "data": {
      "text/plain": [
       "<model.TimeSeriesPredictor at 0x131552f10>"
      ]
     },
     "execution_count": 98,
     "metadata": {},
     "output_type": "execute_result"
    }
   ],
   "source": [
    "from sklearn.ensemble import RandomForestRegressor\n",
    "\n",
    "\n",
    "params = {\n",
    "    'num_lags': 730,\n",
    "    'model': RandomForestRegressor(),  # обратите внимание, что в данном случае требуется создать инстанс модели!!\n",
    "    'model__max_depth': 3,\n",
    "    'model__n_estimators': 400,\n",
    "}\n",
    "\n",
    "predictor.set_params(**params)  # параметры необходимо распаковать"
   ]
  },
  {
   "cell_type": "code",
   "execution_count": 99,
   "id": "forced-summary",
   "metadata": {},
   "outputs": [
    {
     "data": {
      "text/plain": [
       "{'granularity': 'P1D',\n",
       " 'mappers': {},\n",
       " 'model__bootstrap': True,\n",
       " 'model__ccp_alpha': 0.0,\n",
       " 'model__criterion': 'mse',\n",
       " 'model__max_depth': 3,\n",
       " 'model__max_features': 'auto',\n",
       " 'model__max_leaf_nodes': None,\n",
       " 'model__max_samples': None,\n",
       " 'model__min_impurity_decrease': 0.0,\n",
       " 'model__min_impurity_split': None,\n",
       " 'model__min_samples_leaf': 1,\n",
       " 'model__min_samples_split': 2,\n",
       " 'model__min_weight_fraction_leaf': 0.0,\n",
       " 'model__n_estimators': 400,\n",
       " 'model__n_jobs': None,\n",
       " 'model__oob_score': False,\n",
       " 'model__random_state': None,\n",
       " 'model__verbose': 0,\n",
       " 'model__warm_start': False,\n",
       " 'model': RandomForestRegressor(max_depth=3, n_estimators=400),\n",
       " 'num_lags': 730}"
      ]
     },
     "execution_count": 99,
     "metadata": {},
     "output_type": "execute_result"
    }
   ],
   "source": [
    "predictor.get_params()"
   ]
  },
  {
   "cell_type": "markdown",
   "id": "public-engine",
   "metadata": {},
   "source": [
    "###  Обучение модели"
   ]
  },
  {
   "cell_type": "markdown",
   "id": "guilty-international",
   "metadata": {},
   "source": [
    "в данном случае на вход подается временной ряд в формате pd.Series"
   ]
  },
  {
   "cell_type": "code",
   "execution_count": 100,
   "id": "stretch-jersey",
   "metadata": {},
   "outputs": [],
   "source": [
    "split_idx = int(len(ts) * 0.7)\n",
    "\n",
    "ts_train, ts_test = ts[:split_idx], ts[split_idx:]"
   ]
  },
  {
   "cell_type": "code",
   "execution_count": 101,
   "id": "narrative-glass",
   "metadata": {},
   "outputs": [],
   "source": [
    "predictor.fit(ts_train)"
   ]
  },
  {
   "cell_type": "markdown",
   "id": "paperback-attribute",
   "metadata": {},
   "source": [
    "### Получение out-of-sample прогноза"
   ]
  },
  {
   "cell_type": "markdown",
   "id": "scenic-richmond",
   "metadata": {},
   "source": [
    "на вход подаем временной ряд от которого нужно сделать прогноз (длинной минимум num_lags) + горизонт прогнозирования"
   ]
  },
  {
   "cell_type": "code",
   "execution_count": 104,
   "id": "distant-sound",
   "metadata": {},
   "outputs": [],
   "source": [
    "from sklearn.metrics import mean_squared_error as mse"
   ]
  },
  {
   "cell_type": "code",
   "execution_count": 105,
   "id": "prospective-rhythm",
   "metadata": {},
   "outputs": [],
   "source": [
    "preds = predictor.predict_next(ts_train, n_steps=len(ts_test))"
   ]
  },
  {
   "cell_type": "code",
   "execution_count": 106,
   "id": "dutch-grace",
   "metadata": {},
   "outputs": [
    {
     "data": {
      "text/html": [
       "\n",
       "    <div class=\"bk-root\">\n",
       "        <a href=\"https://bokeh.org\" target=\"_blank\" class=\"bk-logo bk-logo-small bk-logo-notebook\"></a>\n",
       "        <span id=\"1918\">Loading BokehJS ...</span>\n",
       "    </div>"
      ]
     },
     "metadata": {},
     "output_type": "display_data"
    },
    {
     "data": {
      "application/javascript": [
       "\n",
       "(function(root) {\n",
       "  function now() {\n",
       "    return new Date();\n",
       "  }\n",
       "\n",
       "  var force = true;\n",
       "\n",
       "  if (typeof root._bokeh_onload_callbacks === \"undefined\" || force === true) {\n",
       "    root._bokeh_onload_callbacks = [];\n",
       "    root._bokeh_is_loading = undefined;\n",
       "  }\n",
       "\n",
       "  var JS_MIME_TYPE = 'application/javascript';\n",
       "  var HTML_MIME_TYPE = 'text/html';\n",
       "  var EXEC_MIME_TYPE = 'application/vnd.bokehjs_exec.v0+json';\n",
       "  var CLASS_NAME = 'output_bokeh rendered_html';\n",
       "\n",
       "  /**\n",
       "   * Render data to the DOM node\n",
       "   */\n",
       "  function render(props, node) {\n",
       "    var script = document.createElement(\"script\");\n",
       "    node.appendChild(script);\n",
       "  }\n",
       "\n",
       "  /**\n",
       "   * Handle when an output is cleared or removed\n",
       "   */\n",
       "  function handleClearOutput(event, handle) {\n",
       "    var cell = handle.cell;\n",
       "\n",
       "    var id = cell.output_area._bokeh_element_id;\n",
       "    var server_id = cell.output_area._bokeh_server_id;\n",
       "    // Clean up Bokeh references\n",
       "    if (id != null && id in Bokeh.index) {\n",
       "      Bokeh.index[id].model.document.clear();\n",
       "      delete Bokeh.index[id];\n",
       "    }\n",
       "\n",
       "    if (server_id !== undefined) {\n",
       "      // Clean up Bokeh references\n",
       "      var cmd = \"from bokeh.io.state import curstate; print(curstate().uuid_to_server['\" + server_id + \"'].get_sessions()[0].document.roots[0]._id)\";\n",
       "      cell.notebook.kernel.execute(cmd, {\n",
       "        iopub: {\n",
       "          output: function(msg) {\n",
       "            var id = msg.content.text.trim();\n",
       "            if (id in Bokeh.index) {\n",
       "              Bokeh.index[id].model.document.clear();\n",
       "              delete Bokeh.index[id];\n",
       "            }\n",
       "          }\n",
       "        }\n",
       "      });\n",
       "      // Destroy server and session\n",
       "      var cmd = \"import bokeh.io.notebook as ion; ion.destroy_server('\" + server_id + \"')\";\n",
       "      cell.notebook.kernel.execute(cmd);\n",
       "    }\n",
       "  }\n",
       "\n",
       "  /**\n",
       "   * Handle when a new output is added\n",
       "   */\n",
       "  function handleAddOutput(event, handle) {\n",
       "    var output_area = handle.output_area;\n",
       "    var output = handle.output;\n",
       "\n",
       "    // limit handleAddOutput to display_data with EXEC_MIME_TYPE content only\n",
       "    if ((output.output_type != \"display_data\") || (!Object.prototype.hasOwnProperty.call(output.data, EXEC_MIME_TYPE))) {\n",
       "      return\n",
       "    }\n",
       "\n",
       "    var toinsert = output_area.element.find(\".\" + CLASS_NAME.split(' ')[0]);\n",
       "\n",
       "    if (output.metadata[EXEC_MIME_TYPE][\"id\"] !== undefined) {\n",
       "      toinsert[toinsert.length - 1].firstChild.textContent = output.data[JS_MIME_TYPE];\n",
       "      // store reference to embed id on output_area\n",
       "      output_area._bokeh_element_id = output.metadata[EXEC_MIME_TYPE][\"id\"];\n",
       "    }\n",
       "    if (output.metadata[EXEC_MIME_TYPE][\"server_id\"] !== undefined) {\n",
       "      var bk_div = document.createElement(\"div\");\n",
       "      bk_div.innerHTML = output.data[HTML_MIME_TYPE];\n",
       "      var script_attrs = bk_div.children[0].attributes;\n",
       "      for (var i = 0; i < script_attrs.length; i++) {\n",
       "        toinsert[toinsert.length - 1].firstChild.setAttribute(script_attrs[i].name, script_attrs[i].value);\n",
       "        toinsert[toinsert.length - 1].firstChild.textContent = bk_div.children[0].textContent\n",
       "      }\n",
       "      // store reference to server id on output_area\n",
       "      output_area._bokeh_server_id = output.metadata[EXEC_MIME_TYPE][\"server_id\"];\n",
       "    }\n",
       "  }\n",
       "\n",
       "  function register_renderer(events, OutputArea) {\n",
       "\n",
       "    function append_mime(data, metadata, element) {\n",
       "      // create a DOM node to render to\n",
       "      var toinsert = this.create_output_subarea(\n",
       "        metadata,\n",
       "        CLASS_NAME,\n",
       "        EXEC_MIME_TYPE\n",
       "      );\n",
       "      this.keyboard_manager.register_events(toinsert);\n",
       "      // Render to node\n",
       "      var props = {data: data, metadata: metadata[EXEC_MIME_TYPE]};\n",
       "      render(props, toinsert[toinsert.length - 1]);\n",
       "      element.append(toinsert);\n",
       "      return toinsert\n",
       "    }\n",
       "\n",
       "    /* Handle when an output is cleared or removed */\n",
       "    events.on('clear_output.CodeCell', handleClearOutput);\n",
       "    events.on('delete.Cell', handleClearOutput);\n",
       "\n",
       "    /* Handle when a new output is added */\n",
       "    events.on('output_added.OutputArea', handleAddOutput);\n",
       "\n",
       "    /**\n",
       "     * Register the mime type and append_mime function with output_area\n",
       "     */\n",
       "    OutputArea.prototype.register_mime_type(EXEC_MIME_TYPE, append_mime, {\n",
       "      /* Is output safe? */\n",
       "      safe: true,\n",
       "      /* Index of renderer in `output_area.display_order` */\n",
       "      index: 0\n",
       "    });\n",
       "  }\n",
       "\n",
       "  // register the mime type if in Jupyter Notebook environment and previously unregistered\n",
       "  if (root.Jupyter !== undefined) {\n",
       "    var events = require('base/js/events');\n",
       "    var OutputArea = require('notebook/js/outputarea').OutputArea;\n",
       "\n",
       "    if (OutputArea.prototype.mime_types().indexOf(EXEC_MIME_TYPE) == -1) {\n",
       "      register_renderer(events, OutputArea);\n",
       "    }\n",
       "  }\n",
       "\n",
       "  \n",
       "  if (typeof (root._bokeh_timeout) === \"undefined\" || force === true) {\n",
       "    root._bokeh_timeout = Date.now() + 5000;\n",
       "    root._bokeh_failed_load = false;\n",
       "  }\n",
       "\n",
       "  var NB_LOAD_WARNING = {'data': {'text/html':\n",
       "     \"<div style='background-color: #fdd'>\\n\"+\n",
       "     \"<p>\\n\"+\n",
       "     \"BokehJS does not appear to have successfully loaded. If loading BokehJS from CDN, this \\n\"+\n",
       "     \"may be due to a slow or bad network connection. Possible fixes:\\n\"+\n",
       "     \"</p>\\n\"+\n",
       "     \"<ul>\\n\"+\n",
       "     \"<li>re-rerun `output_notebook()` to attempt to load from CDN again, or</li>\\n\"+\n",
       "     \"<li>use INLINE resources instead, as so:</li>\\n\"+\n",
       "     \"</ul>\\n\"+\n",
       "     \"<code>\\n\"+\n",
       "     \"from bokeh.resources import INLINE\\n\"+\n",
       "     \"output_notebook(resources=INLINE)\\n\"+\n",
       "     \"</code>\\n\"+\n",
       "     \"</div>\"}};\n",
       "\n",
       "  function display_loaded() {\n",
       "    var el = document.getElementById(\"1918\");\n",
       "    if (el != null) {\n",
       "      el.textContent = \"BokehJS is loading...\";\n",
       "    }\n",
       "    if (root.Bokeh !== undefined) {\n",
       "      if (el != null) {\n",
       "        el.textContent = \"BokehJS \" + root.Bokeh.version + \" successfully loaded.\";\n",
       "      }\n",
       "    } else if (Date.now() < root._bokeh_timeout) {\n",
       "      setTimeout(display_loaded, 100)\n",
       "    }\n",
       "  }\n",
       "\n",
       "\n",
       "  function run_callbacks() {\n",
       "    try {\n",
       "      root._bokeh_onload_callbacks.forEach(function(callback) {\n",
       "        if (callback != null)\n",
       "          callback();\n",
       "      });\n",
       "    } finally {\n",
       "      delete root._bokeh_onload_callbacks\n",
       "    }\n",
       "    console.debug(\"Bokeh: all callbacks have finished\");\n",
       "  }\n",
       "\n",
       "  function load_libs(css_urls, js_urls, callback) {\n",
       "    if (css_urls == null) css_urls = [];\n",
       "    if (js_urls == null) js_urls = [];\n",
       "\n",
       "    root._bokeh_onload_callbacks.push(callback);\n",
       "    if (root._bokeh_is_loading > 0) {\n",
       "      console.debug(\"Bokeh: BokehJS is being loaded, scheduling callback at\", now());\n",
       "      return null;\n",
       "    }\n",
       "    if (js_urls == null || js_urls.length === 0) {\n",
       "      run_callbacks();\n",
       "      return null;\n",
       "    }\n",
       "    console.debug(\"Bokeh: BokehJS not loaded, scheduling load and callback at\", now());\n",
       "    root._bokeh_is_loading = css_urls.length + js_urls.length;\n",
       "\n",
       "    function on_load() {\n",
       "      root._bokeh_is_loading--;\n",
       "      if (root._bokeh_is_loading === 0) {\n",
       "        console.debug(\"Bokeh: all BokehJS libraries/stylesheets loaded\");\n",
       "        run_callbacks()\n",
       "      }\n",
       "    }\n",
       "\n",
       "    function on_error(url) {\n",
       "      console.error(\"failed to load \" + url);\n",
       "    }\n",
       "\n",
       "    for (let i = 0; i < css_urls.length; i++) {\n",
       "      const url = css_urls[i];\n",
       "      const element = document.createElement(\"link\");\n",
       "      element.onload = on_load;\n",
       "      element.onerror = on_error.bind(null, url);\n",
       "      element.rel = \"stylesheet\";\n",
       "      element.type = \"text/css\";\n",
       "      element.href = url;\n",
       "      console.debug(\"Bokeh: injecting link tag for BokehJS stylesheet: \", url);\n",
       "      document.body.appendChild(element);\n",
       "    }\n",
       "\n",
       "    const hashes = {\"https://cdn.bokeh.org/bokeh/release/bokeh-2.3.0.min.js\": \"HjagQp6T0/7bxYTAXbLotF1MLAGWmhkY5siA1Gc/pcEgvgRPtMsRn0gQtMwGKiw1\", \"https://cdn.bokeh.org/bokeh/release/bokeh-widgets-2.3.0.min.js\": \"ZEPPTjL+mdyqgIq+/pl9KTwzji8Kow2NnI3zWY8+sFinWP/SYJ80BnfeJsa45iYj\", \"https://cdn.bokeh.org/bokeh/release/bokeh-tables-2.3.0.min.js\": \"exLqv2ACDRIaV7ZK1iL8aGzGYQvKVuT3U2CT7FsQREBxRah6JrkVCoFy0koY1YqV\"};\n",
       "\n",
       "    for (let i = 0; i < js_urls.length; i++) {\n",
       "      const url = js_urls[i];\n",
       "      const element = document.createElement('script');\n",
       "      element.onload = on_load;\n",
       "      element.onerror = on_error.bind(null, url);\n",
       "      element.async = false;\n",
       "      element.src = url;\n",
       "      if (url in hashes) {\n",
       "        element.crossOrigin = \"anonymous\";\n",
       "        element.integrity = \"sha384-\" + hashes[url];\n",
       "      }\n",
       "      console.debug(\"Bokeh: injecting script tag for BokehJS library: \", url);\n",
       "      document.head.appendChild(element);\n",
       "    }\n",
       "  };\n",
       "\n",
       "  function inject_raw_css(css) {\n",
       "    const element = document.createElement(\"style\");\n",
       "    element.appendChild(document.createTextNode(css));\n",
       "    document.body.appendChild(element);\n",
       "  }\n",
       "\n",
       "  \n",
       "  var js_urls = [\"https://cdn.bokeh.org/bokeh/release/bokeh-2.3.0.min.js\", \"https://cdn.bokeh.org/bokeh/release/bokeh-widgets-2.3.0.min.js\", \"https://cdn.bokeh.org/bokeh/release/bokeh-tables-2.3.0.min.js\"];\n",
       "  var css_urls = [];\n",
       "  \n",
       "\n",
       "  var inline_js = [\n",
       "    function(Bokeh) {\n",
       "      Bokeh.set_log_level(\"info\");\n",
       "    },\n",
       "    function(Bokeh) {\n",
       "    \n",
       "    \n",
       "    }\n",
       "  ];\n",
       "\n",
       "  function run_inline_js() {\n",
       "    \n",
       "    if (root.Bokeh !== undefined || force === true) {\n",
       "      \n",
       "    for (var i = 0; i < inline_js.length; i++) {\n",
       "      inline_js[i].call(root, root.Bokeh);\n",
       "    }\n",
       "    if (force === true) {\n",
       "        display_loaded();\n",
       "      }} else if (Date.now() < root._bokeh_timeout) {\n",
       "      setTimeout(run_inline_js, 100);\n",
       "    } else if (!root._bokeh_failed_load) {\n",
       "      console.log(\"Bokeh: BokehJS failed to load within specified timeout.\");\n",
       "      root._bokeh_failed_load = true;\n",
       "    } else if (force !== true) {\n",
       "      var cell = $(document.getElementById(\"1918\")).parents('.cell').data().cell;\n",
       "      cell.output_area.append_execute_result(NB_LOAD_WARNING)\n",
       "    }\n",
       "\n",
       "  }\n",
       "\n",
       "  if (root._bokeh_is_loading === 0) {\n",
       "    console.debug(\"Bokeh: BokehJS loaded, going straight to plotting\");\n",
       "    run_inline_js();\n",
       "  } else {\n",
       "    load_libs(css_urls, js_urls, function() {\n",
       "      console.debug(\"Bokeh: BokehJS plotting callback run at\", now());\n",
       "      run_inline_js();\n",
       "    });\n",
       "  }\n",
       "}(window));"
      ],
      "application/vnd.bokehjs_load.v0+json": "\n(function(root) {\n  function now() {\n    return new Date();\n  }\n\n  var force = true;\n\n  if (typeof root._bokeh_onload_callbacks === \"undefined\" || force === true) {\n    root._bokeh_onload_callbacks = [];\n    root._bokeh_is_loading = undefined;\n  }\n\n  \n\n  \n  if (typeof (root._bokeh_timeout) === \"undefined\" || force === true) {\n    root._bokeh_timeout = Date.now() + 5000;\n    root._bokeh_failed_load = false;\n  }\n\n  var NB_LOAD_WARNING = {'data': {'text/html':\n     \"<div style='background-color: #fdd'>\\n\"+\n     \"<p>\\n\"+\n     \"BokehJS does not appear to have successfully loaded. If loading BokehJS from CDN, this \\n\"+\n     \"may be due to a slow or bad network connection. Possible fixes:\\n\"+\n     \"</p>\\n\"+\n     \"<ul>\\n\"+\n     \"<li>re-rerun `output_notebook()` to attempt to load from CDN again, or</li>\\n\"+\n     \"<li>use INLINE resources instead, as so:</li>\\n\"+\n     \"</ul>\\n\"+\n     \"<code>\\n\"+\n     \"from bokeh.resources import INLINE\\n\"+\n     \"output_notebook(resources=INLINE)\\n\"+\n     \"</code>\\n\"+\n     \"</div>\"}};\n\n  function display_loaded() {\n    var el = document.getElementById(\"1918\");\n    if (el != null) {\n      el.textContent = \"BokehJS is loading...\";\n    }\n    if (root.Bokeh !== undefined) {\n      if (el != null) {\n        el.textContent = \"BokehJS \" + root.Bokeh.version + \" successfully loaded.\";\n      }\n    } else if (Date.now() < root._bokeh_timeout) {\n      setTimeout(display_loaded, 100)\n    }\n  }\n\n\n  function run_callbacks() {\n    try {\n      root._bokeh_onload_callbacks.forEach(function(callback) {\n        if (callback != null)\n          callback();\n      });\n    } finally {\n      delete root._bokeh_onload_callbacks\n    }\n    console.debug(\"Bokeh: all callbacks have finished\");\n  }\n\n  function load_libs(css_urls, js_urls, callback) {\n    if (css_urls == null) css_urls = [];\n    if (js_urls == null) js_urls = [];\n\n    root._bokeh_onload_callbacks.push(callback);\n    if (root._bokeh_is_loading > 0) {\n      console.debug(\"Bokeh: BokehJS is being loaded, scheduling callback at\", now());\n      return null;\n    }\n    if (js_urls == null || js_urls.length === 0) {\n      run_callbacks();\n      return null;\n    }\n    console.debug(\"Bokeh: BokehJS not loaded, scheduling load and callback at\", now());\n    root._bokeh_is_loading = css_urls.length + js_urls.length;\n\n    function on_load() {\n      root._bokeh_is_loading--;\n      if (root._bokeh_is_loading === 0) {\n        console.debug(\"Bokeh: all BokehJS libraries/stylesheets loaded\");\n        run_callbacks()\n      }\n    }\n\n    function on_error(url) {\n      console.error(\"failed to load \" + url);\n    }\n\n    for (let i = 0; i < css_urls.length; i++) {\n      const url = css_urls[i];\n      const element = document.createElement(\"link\");\n      element.onload = on_load;\n      element.onerror = on_error.bind(null, url);\n      element.rel = \"stylesheet\";\n      element.type = \"text/css\";\n      element.href = url;\n      console.debug(\"Bokeh: injecting link tag for BokehJS stylesheet: \", url);\n      document.body.appendChild(element);\n    }\n\n    const hashes = {\"https://cdn.bokeh.org/bokeh/release/bokeh-2.3.0.min.js\": \"HjagQp6T0/7bxYTAXbLotF1MLAGWmhkY5siA1Gc/pcEgvgRPtMsRn0gQtMwGKiw1\", \"https://cdn.bokeh.org/bokeh/release/bokeh-widgets-2.3.0.min.js\": \"ZEPPTjL+mdyqgIq+/pl9KTwzji8Kow2NnI3zWY8+sFinWP/SYJ80BnfeJsa45iYj\", \"https://cdn.bokeh.org/bokeh/release/bokeh-tables-2.3.0.min.js\": \"exLqv2ACDRIaV7ZK1iL8aGzGYQvKVuT3U2CT7FsQREBxRah6JrkVCoFy0koY1YqV\"};\n\n    for (let i = 0; i < js_urls.length; i++) {\n      const url = js_urls[i];\n      const element = document.createElement('script');\n      element.onload = on_load;\n      element.onerror = on_error.bind(null, url);\n      element.async = false;\n      element.src = url;\n      if (url in hashes) {\n        element.crossOrigin = \"anonymous\";\n        element.integrity = \"sha384-\" + hashes[url];\n      }\n      console.debug(\"Bokeh: injecting script tag for BokehJS library: \", url);\n      document.head.appendChild(element);\n    }\n  };\n\n  function inject_raw_css(css) {\n    const element = document.createElement(\"style\");\n    element.appendChild(document.createTextNode(css));\n    document.body.appendChild(element);\n  }\n\n  \n  var js_urls = [\"https://cdn.bokeh.org/bokeh/release/bokeh-2.3.0.min.js\", \"https://cdn.bokeh.org/bokeh/release/bokeh-widgets-2.3.0.min.js\", \"https://cdn.bokeh.org/bokeh/release/bokeh-tables-2.3.0.min.js\"];\n  var css_urls = [];\n  \n\n  var inline_js = [\n    function(Bokeh) {\n      Bokeh.set_log_level(\"info\");\n    },\n    function(Bokeh) {\n    \n    \n    }\n  ];\n\n  function run_inline_js() {\n    \n    if (root.Bokeh !== undefined || force === true) {\n      \n    for (var i = 0; i < inline_js.length; i++) {\n      inline_js[i].call(root, root.Bokeh);\n    }\n    if (force === true) {\n        display_loaded();\n      }} else if (Date.now() < root._bokeh_timeout) {\n      setTimeout(run_inline_js, 100);\n    } else if (!root._bokeh_failed_load) {\n      console.log(\"Bokeh: BokehJS failed to load within specified timeout.\");\n      root._bokeh_failed_load = true;\n    } else if (force !== true) {\n      var cell = $(document.getElementById(\"1918\")).parents('.cell').data().cell;\n      cell.output_area.append_execute_result(NB_LOAD_WARNING)\n    }\n\n  }\n\n  if (root._bokeh_is_loading === 0) {\n    console.debug(\"Bokeh: BokehJS loaded, going straight to plotting\");\n    run_inline_js();\n  } else {\n    load_libs(css_urls, js_urls, function() {\n      console.debug(\"Bokeh: BokehJS plotting callback run at\", now());\n      run_inline_js();\n    });\n  }\n}(window));"
     },
     "metadata": {},
     "output_type": "display_data"
    },
    {
     "data": {
      "text/html": [
       "\n",
       "\n",
       "\n",
       "\n",
       "\n",
       "\n",
       "  <div class=\"bk-root\" id=\"7af1429a-4b77-407c-b7d6-14401f4b1ed5\" data-root-id=\"1921\"></div>\n"
      ]
     },
     "metadata": {},
     "output_type": "display_data"
    },
    {
     "data": {
      "application/javascript": [
       "(function(root) {\n",
       "  function embed_document(root) {\n",
       "    \n",
       "  var docs_json = {\"8a587a85-e825-4e13-a16b-e97e31fac1f8\":{\"defs\":[{\"extends\":null,\"module\":null,\"name\":\"DataModel\",\"overrides\":[],\"properties\":[]}],\"roots\":{\"references\":[{\"attributes\":{\"below\":[{\"id\":\"1932\"}],\"center\":[{\"id\":\"1935\"},{\"id\":\"1939\"}],\"left\":[{\"id\":\"1936\"}],\"renderers\":[{\"id\":\"1960\"},{\"id\":\"1965\"}],\"title\":{\"id\":\"1922\"},\"toolbar\":{\"id\":\"1948\"},\"width\":900,\"x_range\":{\"id\":\"1924\"},\"x_scale\":{\"id\":\"1928\"},\"y_range\":{\"id\":\"1926\"},\"y_scale\":{\"id\":\"1930\"}},\"id\":\"1921\",\"subtype\":\"Figure\",\"type\":\"Plot\"},{\"attributes\":{\"overlay\":{\"id\":\"1946\"}},\"id\":\"1945\",\"type\":\"BoxSelectTool\"},{\"attributes\":{\"line_alpha\":0.1,\"line_color\":\"orange\",\"line_width\":2,\"x\":{\"field\":\"x\"},\"y\":{\"field\":\"y\"}},\"id\":\"1964\",\"type\":\"Line\"},{\"attributes\":{},\"id\":\"1928\",\"type\":\"LinearScale\"},{\"attributes\":{\"days\":[1,15]},\"id\":\"2077\",\"type\":\"DaysTicker\"},{\"attributes\":{\"days\":[1,8,15,22]},\"id\":\"2076\",\"type\":\"DaysTicker\"},{\"attributes\":{},\"id\":\"2085\",\"type\":\"UnionRenderers\"},{\"attributes\":{\"active_multi\":null,\"active_scroll\":{\"id\":\"1941\"},\"tools\":[{\"id\":\"1940\"},{\"id\":\"1941\"},{\"id\":\"1942\"},{\"id\":\"1943\"},{\"id\":\"1944\"},{\"id\":\"1945\"},{\"id\":\"1920\"}]},\"id\":\"1948\",\"type\":\"Toolbar\"},{\"attributes\":{},\"id\":\"2066\",\"type\":\"BasicTickFormatter\"},{\"attributes\":{\"days\":[1,4,7,10,13,16,19,22,25,28]},\"id\":\"2075\",\"type\":\"DaysTicker\"},{\"attributes\":{\"base\":24,\"mantissas\":[1,2,4,6,8,12],\"max_interval\":43200000.0,\"min_interval\":3600000.0,\"num_minor_ticks\":0},\"id\":\"2073\",\"type\":\"AdaptiveTicker\"},{\"attributes\":{\"line_color\":\"#1f77b4\",\"line_width\":2,\"x\":{\"field\":\"x\"},\"y\":{\"field\":\"y\"}},\"id\":\"1958\",\"type\":\"Line\"},{\"attributes\":{\"months\":[0,2,4,6,8,10]},\"id\":\"2079\",\"type\":\"MonthsTicker\"},{\"attributes\":{\"source\":{\"id\":\"1962\"}},\"id\":\"1966\",\"type\":\"CDSView\"},{\"attributes\":{\"months\":[0,4,8]},\"id\":\"2080\",\"type\":\"MonthsTicker\"},{\"attributes\":{},\"id\":\"1937\",\"type\":\"BasicTicker\"},{\"attributes\":{},\"id\":\"2082\",\"type\":\"YearsTicker\"},{\"attributes\":{},\"id\":\"1926\",\"type\":\"DataRange1d\"},{\"attributes\":{\"overlay\":{\"id\":\"1947\"}},\"id\":\"1942\",\"type\":\"BoxZoomTool\"},{\"attributes\":{\"data\":{\"x\":{\"__ndarray__\":\"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\",\"dtype\":\"float64\",\"order\":\"little\",\"shape\":[1095]},\"y\":{\"__ndarray__\":\"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\",\"dtype\":\"float64\",\"order\":\"little\",\"shape\":[1095]}},\"selected\":{\"id\":\"2086\"},\"selection_policy\":{\"id\":\"2085\"}},\"id\":\"1962\",\"type\":\"ColumnDataSource\"},{\"attributes\":{\"source\":{\"id\":\"1957\"}},\"id\":\"1961\",\"type\":\"CDSView\"},{\"attributes\":{\"line_color\":\"orange\",\"line_width\":2,\"x\":{\"field\":\"x\"},\"y\":{\"field\":\"y\"}},\"id\":\"1963\",\"type\":\"Line\"},{\"attributes\":{},\"id\":\"1930\",\"type\":\"LinearScale\"},{\"attributes\":{},\"id\":\"2067\",\"type\":\"AllLabels\"},{\"attributes\":{\"line_alpha\":0.1,\"line_color\":\"#1f77b4\",\"line_width\":2,\"x\":{\"field\":\"x\"},\"y\":{\"field\":\"y\"}},\"id\":\"1959\",\"type\":\"Line\"},{\"attributes\":{\"axis_label\":\"value\",\"formatter\":{\"id\":\"2066\"},\"major_label_policy\":{\"id\":\"2064\"},\"ticker\":{\"id\":\"1937\"}},\"id\":\"1936\",\"type\":\"LinearAxis\"},{\"attributes\":{\"callback\":null,\"formatters\":{\"@x\":\"datetime\"},\"mode\":\"vline\",\"tooltips\":[[\"date\",\"@x{%d-%m-%YT%H:%M:%S}\"],[\"value\",\"@y\"]]},\"id\":\"1920\",\"type\":\"HoverTool\"},{\"attributes\":{\"base\":60,\"mantissas\":[1,2,5,10,15,20,30],\"max_interval\":1800000.0,\"min_interval\":1000.0,\"num_minor_ticks\":0},\"id\":\"2072\",\"type\":\"AdaptiveTicker\"},{\"attributes\":{\"days\":[1,2,3,4,5,6,7,8,9,10,11,12,13,14,15,16,17,18,19,20,21,22,23,24,25,26,27,28,29,30,31]},\"id\":\"2074\",\"type\":\"DaysTicker\"},{\"attributes\":{\"bottom_units\":\"screen\",\"fill_alpha\":0.5,\"fill_color\":\"lightgrey\",\"left_units\":\"screen\",\"level\":\"overlay\",\"line_alpha\":1.0,\"line_color\":\"black\",\"line_dash\":[4,4],\"line_width\":2,\"right_units\":\"screen\",\"syncable\":false,\"top_units\":\"screen\"},\"id\":\"1947\",\"type\":\"BoxAnnotation\"},{\"attributes\":{},\"id\":\"1924\",\"type\":\"DataRange1d\"},{\"attributes\":{\"data_source\":{\"id\":\"1962\"},\"glyph\":{\"id\":\"1963\"},\"hover_glyph\":null,\"muted_glyph\":null,\"nonselection_glyph\":{\"id\":\"1964\"},\"view\":{\"id\":\"1966\"}},\"id\":\"1965\",\"type\":\"GlyphRenderer\"},{\"attributes\":{\"axis\":{\"id\":\"1932\"},\"ticker\":null},\"id\":\"1935\",\"type\":\"Grid\"},{\"attributes\":{\"months\":[0,6]},\"id\":\"2081\",\"type\":\"MonthsTicker\"},{\"attributes\":{},\"id\":\"2083\",\"type\":\"UnionRenderers\"},{\"attributes\":{},\"id\":\"1944\",\"type\":\"SaveTool\"},{\"attributes\":{\"axis\":{\"id\":\"1936\"},\"dimension\":1,\"ticker\":null},\"id\":\"1939\",\"type\":\"Grid\"},{\"attributes\":{},\"id\":\"2086\",\"type\":\"Selection\"},{\"attributes\":{\"bottom_units\":\"screen\",\"fill_alpha\":0.5,\"fill_color\":\"lightgrey\",\"left_units\":\"screen\",\"level\":\"overlay\",\"line_alpha\":1.0,\"line_color\":\"black\",\"line_dash\":[4,4],\"line_width\":2,\"right_units\":\"screen\",\"syncable\":false,\"top_units\":\"screen\"},\"id\":\"1946\",\"type\":\"BoxAnnotation\"},{\"attributes\":{\"data_source\":{\"id\":\"1957\"},\"glyph\":{\"id\":\"1958\"},\"hover_glyph\":null,\"muted_glyph\":null,\"nonselection_glyph\":{\"id\":\"1959\"},\"view\":{\"id\":\"1961\"}},\"id\":\"1960\",\"type\":\"GlyphRenderer\"},{\"attributes\":{},\"id\":\"1943\",\"type\":\"ResetTool\"},{\"attributes\":{},\"id\":\"2064\",\"type\":\"AllLabels\"},{\"attributes\":{\"days\":[\"%d %B %Y\"],\"hours\":[\"%d %B %Y\"],\"months\":[\"%d %B %Y\"],\"years\":[\"%d %B %Y\"]},\"id\":\"1919\",\"type\":\"DatetimeTickFormatter\"},{\"attributes\":{\"num_minor_ticks\":5,\"tickers\":[{\"id\":\"2071\"},{\"id\":\"2072\"},{\"id\":\"2073\"},{\"id\":\"2074\"},{\"id\":\"2075\"},{\"id\":\"2076\"},{\"id\":\"2077\"},{\"id\":\"2078\"},{\"id\":\"2079\"},{\"id\":\"2080\"},{\"id\":\"2081\"},{\"id\":\"2082\"}]},\"id\":\"1933\",\"type\":\"DatetimeTicker\"},{\"attributes\":{\"mantissas\":[1,2,5],\"max_interval\":500.0,\"num_minor_ticks\":0},\"id\":\"2071\",\"type\":\"AdaptiveTicker\"},{\"attributes\":{},\"id\":\"1941\",\"type\":\"WheelZoomTool\"},{\"attributes\":{\"axis_label\":\"time\",\"formatter\":{\"id\":\"1919\"},\"major_label_policy\":{\"id\":\"2067\"},\"ticker\":{\"id\":\"1933\"}},\"id\":\"1932\",\"type\":\"DatetimeAxis\"},{\"attributes\":{\"data\":{\"x\":{\"__ndarray__\":\"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\",\"dtype\":\"float64\",\"order\":\"little\",\"shape\":[1095]},\"y\":{\"__ndarray__\":\"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\",\"dtype\":\"float64\",\"order\":\"little\",\"shape\":[1095]}},\"selected\":{\"id\":\"2084\"},\"selection_policy\":{\"id\":\"2083\"}},\"id\":\"1957\",\"type\":\"ColumnDataSource\"},{\"attributes\":{},\"id\":\"2084\",\"type\":\"Selection\"},{\"attributes\":{},\"id\":\"1940\",\"type\":\"PanTool\"},{\"attributes\":{},\"id\":\"1922\",\"type\":\"Title\"},{\"attributes\":{\"months\":[0,1,2,3,4,5,6,7,8,9,10,11]},\"id\":\"2078\",\"type\":\"MonthsTicker\"}],\"root_ids\":[\"1921\"]},\"title\":\"Bokeh Application\",\"version\":\"2.3.0\"}};\n",
       "  var render_items = [{\"docid\":\"8a587a85-e825-4e13-a16b-e97e31fac1f8\",\"root_ids\":[\"1921\"],\"roots\":{\"1921\":\"7af1429a-4b77-407c-b7d6-14401f4b1ed5\"}}];\n",
       "  root.Bokeh.embed.embed_items_notebook(docs_json, render_items);\n",
       "\n",
       "  }\n",
       "  if (root.Bokeh !== undefined) {\n",
       "    embed_document(root);\n",
       "  } else {\n",
       "    var attempts = 0;\n",
       "    var timer = setInterval(function(root) {\n",
       "      if (root.Bokeh !== undefined) {\n",
       "        clearInterval(timer);\n",
       "        embed_document(root);\n",
       "      } else {\n",
       "        attempts++;\n",
       "        if (attempts > 100) {\n",
       "          clearInterval(timer);\n",
       "          console.log(\"Bokeh: ERROR: Unable to run BokehJS code because BokehJS library is missing\");\n",
       "        }\n",
       "      }\n",
       "    }, 10, root)\n",
       "  }\n",
       "})(window);"
      ],
      "application/vnd.bokehjs_exec.v0+json": ""
     },
     "metadata": {
      "application/vnd.bokehjs_exec.v0+json": {
       "id": "1921"
      }
     },
     "output_type": "display_data"
    }
   ],
   "source": [
    "plot_ts(ts_test, preds)"
   ]
  },
  {
   "cell_type": "code",
   "execution_count": 107,
   "id": "municipal-backing",
   "metadata": {},
   "outputs": [
    {
     "data": {
      "text/plain": [
       "10.200515698171426"
      ]
     },
     "execution_count": 107,
     "metadata": {},
     "output_type": "execute_result"
    }
   ],
   "source": [
    "mse(ts_test, preds)"
   ]
  },
  {
   "cell_type": "markdown",
   "id": "regular-serbia",
   "metadata": {},
   "source": [
    "### Получение in-sample (когда каждая точка нам известна) прогноза"
   ]
  },
  {
   "cell_type": "markdown",
   "id": "consecutive-discount",
   "metadata": {},
   "source": [
    "в таком случае мы должны вторым аргументов передать реальный тест, такм образом этим методом мы смотрим как бы мы предсказали ts_test если бы мы предсказывали на одну точку вперед, т.е. нам всегда известна реальная предыдущая точка"
   ]
  },
  {
   "cell_type": "code",
   "execution_count": 108,
   "id": "obvious-dollar",
   "metadata": {},
   "outputs": [],
   "source": [
    "preds = predictor.predict_batch(ts_train, ts_test)"
   ]
  },
  {
   "cell_type": "code",
   "execution_count": 109,
   "id": "integrated-treatment",
   "metadata": {},
   "outputs": [
    {
     "data": {
      "text/html": [
       "\n",
       "    <div class=\"bk-root\">\n",
       "        <a href=\"https://bokeh.org\" target=\"_blank\" class=\"bk-logo bk-logo-small bk-logo-notebook\"></a>\n",
       "        <span id=\"2207\">Loading BokehJS ...</span>\n",
       "    </div>"
      ]
     },
     "metadata": {},
     "output_type": "display_data"
    },
    {
     "data": {
      "application/javascript": [
       "\n",
       "(function(root) {\n",
       "  function now() {\n",
       "    return new Date();\n",
       "  }\n",
       "\n",
       "  var force = true;\n",
       "\n",
       "  if (typeof root._bokeh_onload_callbacks === \"undefined\" || force === true) {\n",
       "    root._bokeh_onload_callbacks = [];\n",
       "    root._bokeh_is_loading = undefined;\n",
       "  }\n",
       "\n",
       "  var JS_MIME_TYPE = 'application/javascript';\n",
       "  var HTML_MIME_TYPE = 'text/html';\n",
       "  var EXEC_MIME_TYPE = 'application/vnd.bokehjs_exec.v0+json';\n",
       "  var CLASS_NAME = 'output_bokeh rendered_html';\n",
       "\n",
       "  /**\n",
       "   * Render data to the DOM node\n",
       "   */\n",
       "  function render(props, node) {\n",
       "    var script = document.createElement(\"script\");\n",
       "    node.appendChild(script);\n",
       "  }\n",
       "\n",
       "  /**\n",
       "   * Handle when an output is cleared or removed\n",
       "   */\n",
       "  function handleClearOutput(event, handle) {\n",
       "    var cell = handle.cell;\n",
       "\n",
       "    var id = cell.output_area._bokeh_element_id;\n",
       "    var server_id = cell.output_area._bokeh_server_id;\n",
       "    // Clean up Bokeh references\n",
       "    if (id != null && id in Bokeh.index) {\n",
       "      Bokeh.index[id].model.document.clear();\n",
       "      delete Bokeh.index[id];\n",
       "    }\n",
       "\n",
       "    if (server_id !== undefined) {\n",
       "      // Clean up Bokeh references\n",
       "      var cmd = \"from bokeh.io.state import curstate; print(curstate().uuid_to_server['\" + server_id + \"'].get_sessions()[0].document.roots[0]._id)\";\n",
       "      cell.notebook.kernel.execute(cmd, {\n",
       "        iopub: {\n",
       "          output: function(msg) {\n",
       "            var id = msg.content.text.trim();\n",
       "            if (id in Bokeh.index) {\n",
       "              Bokeh.index[id].model.document.clear();\n",
       "              delete Bokeh.index[id];\n",
       "            }\n",
       "          }\n",
       "        }\n",
       "      });\n",
       "      // Destroy server and session\n",
       "      var cmd = \"import bokeh.io.notebook as ion; ion.destroy_server('\" + server_id + \"')\";\n",
       "      cell.notebook.kernel.execute(cmd);\n",
       "    }\n",
       "  }\n",
       "\n",
       "  /**\n",
       "   * Handle when a new output is added\n",
       "   */\n",
       "  function handleAddOutput(event, handle) {\n",
       "    var output_area = handle.output_area;\n",
       "    var output = handle.output;\n",
       "\n",
       "    // limit handleAddOutput to display_data with EXEC_MIME_TYPE content only\n",
       "    if ((output.output_type != \"display_data\") || (!Object.prototype.hasOwnProperty.call(output.data, EXEC_MIME_TYPE))) {\n",
       "      return\n",
       "    }\n",
       "\n",
       "    var toinsert = output_area.element.find(\".\" + CLASS_NAME.split(' ')[0]);\n",
       "\n",
       "    if (output.metadata[EXEC_MIME_TYPE][\"id\"] !== undefined) {\n",
       "      toinsert[toinsert.length - 1].firstChild.textContent = output.data[JS_MIME_TYPE];\n",
       "      // store reference to embed id on output_area\n",
       "      output_area._bokeh_element_id = output.metadata[EXEC_MIME_TYPE][\"id\"];\n",
       "    }\n",
       "    if (output.metadata[EXEC_MIME_TYPE][\"server_id\"] !== undefined) {\n",
       "      var bk_div = document.createElement(\"div\");\n",
       "      bk_div.innerHTML = output.data[HTML_MIME_TYPE];\n",
       "      var script_attrs = bk_div.children[0].attributes;\n",
       "      for (var i = 0; i < script_attrs.length; i++) {\n",
       "        toinsert[toinsert.length - 1].firstChild.setAttribute(script_attrs[i].name, script_attrs[i].value);\n",
       "        toinsert[toinsert.length - 1].firstChild.textContent = bk_div.children[0].textContent\n",
       "      }\n",
       "      // store reference to server id on output_area\n",
       "      output_area._bokeh_server_id = output.metadata[EXEC_MIME_TYPE][\"server_id\"];\n",
       "    }\n",
       "  }\n",
       "\n",
       "  function register_renderer(events, OutputArea) {\n",
       "\n",
       "    function append_mime(data, metadata, element) {\n",
       "      // create a DOM node to render to\n",
       "      var toinsert = this.create_output_subarea(\n",
       "        metadata,\n",
       "        CLASS_NAME,\n",
       "        EXEC_MIME_TYPE\n",
       "      );\n",
       "      this.keyboard_manager.register_events(toinsert);\n",
       "      // Render to node\n",
       "      var props = {data: data, metadata: metadata[EXEC_MIME_TYPE]};\n",
       "      render(props, toinsert[toinsert.length - 1]);\n",
       "      element.append(toinsert);\n",
       "      return toinsert\n",
       "    }\n",
       "\n",
       "    /* Handle when an output is cleared or removed */\n",
       "    events.on('clear_output.CodeCell', handleClearOutput);\n",
       "    events.on('delete.Cell', handleClearOutput);\n",
       "\n",
       "    /* Handle when a new output is added */\n",
       "    events.on('output_added.OutputArea', handleAddOutput);\n",
       "\n",
       "    /**\n",
       "     * Register the mime type and append_mime function with output_area\n",
       "     */\n",
       "    OutputArea.prototype.register_mime_type(EXEC_MIME_TYPE, append_mime, {\n",
       "      /* Is output safe? */\n",
       "      safe: true,\n",
       "      /* Index of renderer in `output_area.display_order` */\n",
       "      index: 0\n",
       "    });\n",
       "  }\n",
       "\n",
       "  // register the mime type if in Jupyter Notebook environment and previously unregistered\n",
       "  if (root.Jupyter !== undefined) {\n",
       "    var events = require('base/js/events');\n",
       "    var OutputArea = require('notebook/js/outputarea').OutputArea;\n",
       "\n",
       "    if (OutputArea.prototype.mime_types().indexOf(EXEC_MIME_TYPE) == -1) {\n",
       "      register_renderer(events, OutputArea);\n",
       "    }\n",
       "  }\n",
       "\n",
       "  \n",
       "  if (typeof (root._bokeh_timeout) === \"undefined\" || force === true) {\n",
       "    root._bokeh_timeout = Date.now() + 5000;\n",
       "    root._bokeh_failed_load = false;\n",
       "  }\n",
       "\n",
       "  var NB_LOAD_WARNING = {'data': {'text/html':\n",
       "     \"<div style='background-color: #fdd'>\\n\"+\n",
       "     \"<p>\\n\"+\n",
       "     \"BokehJS does not appear to have successfully loaded. If loading BokehJS from CDN, this \\n\"+\n",
       "     \"may be due to a slow or bad network connection. Possible fixes:\\n\"+\n",
       "     \"</p>\\n\"+\n",
       "     \"<ul>\\n\"+\n",
       "     \"<li>re-rerun `output_notebook()` to attempt to load from CDN again, or</li>\\n\"+\n",
       "     \"<li>use INLINE resources instead, as so:</li>\\n\"+\n",
       "     \"</ul>\\n\"+\n",
       "     \"<code>\\n\"+\n",
       "     \"from bokeh.resources import INLINE\\n\"+\n",
       "     \"output_notebook(resources=INLINE)\\n\"+\n",
       "     \"</code>\\n\"+\n",
       "     \"</div>\"}};\n",
       "\n",
       "  function display_loaded() {\n",
       "    var el = document.getElementById(\"2207\");\n",
       "    if (el != null) {\n",
       "      el.textContent = \"BokehJS is loading...\";\n",
       "    }\n",
       "    if (root.Bokeh !== undefined) {\n",
       "      if (el != null) {\n",
       "        el.textContent = \"BokehJS \" + root.Bokeh.version + \" successfully loaded.\";\n",
       "      }\n",
       "    } else if (Date.now() < root._bokeh_timeout) {\n",
       "      setTimeout(display_loaded, 100)\n",
       "    }\n",
       "  }\n",
       "\n",
       "\n",
       "  function run_callbacks() {\n",
       "    try {\n",
       "      root._bokeh_onload_callbacks.forEach(function(callback) {\n",
       "        if (callback != null)\n",
       "          callback();\n",
       "      });\n",
       "    } finally {\n",
       "      delete root._bokeh_onload_callbacks\n",
       "    }\n",
       "    console.debug(\"Bokeh: all callbacks have finished\");\n",
       "  }\n",
       "\n",
       "  function load_libs(css_urls, js_urls, callback) {\n",
       "    if (css_urls == null) css_urls = [];\n",
       "    if (js_urls == null) js_urls = [];\n",
       "\n",
       "    root._bokeh_onload_callbacks.push(callback);\n",
       "    if (root._bokeh_is_loading > 0) {\n",
       "      console.debug(\"Bokeh: BokehJS is being loaded, scheduling callback at\", now());\n",
       "      return null;\n",
       "    }\n",
       "    if (js_urls == null || js_urls.length === 0) {\n",
       "      run_callbacks();\n",
       "      return null;\n",
       "    }\n",
       "    console.debug(\"Bokeh: BokehJS not loaded, scheduling load and callback at\", now());\n",
       "    root._bokeh_is_loading = css_urls.length + js_urls.length;\n",
       "\n",
       "    function on_load() {\n",
       "      root._bokeh_is_loading--;\n",
       "      if (root._bokeh_is_loading === 0) {\n",
       "        console.debug(\"Bokeh: all BokehJS libraries/stylesheets loaded\");\n",
       "        run_callbacks()\n",
       "      }\n",
       "    }\n",
       "\n",
       "    function on_error(url) {\n",
       "      console.error(\"failed to load \" + url);\n",
       "    }\n",
       "\n",
       "    for (let i = 0; i < css_urls.length; i++) {\n",
       "      const url = css_urls[i];\n",
       "      const element = document.createElement(\"link\");\n",
       "      element.onload = on_load;\n",
       "      element.onerror = on_error.bind(null, url);\n",
       "      element.rel = \"stylesheet\";\n",
       "      element.type = \"text/css\";\n",
       "      element.href = url;\n",
       "      console.debug(\"Bokeh: injecting link tag for BokehJS stylesheet: \", url);\n",
       "      document.body.appendChild(element);\n",
       "    }\n",
       "\n",
       "    const hashes = {\"https://cdn.bokeh.org/bokeh/release/bokeh-2.3.0.min.js\": \"HjagQp6T0/7bxYTAXbLotF1MLAGWmhkY5siA1Gc/pcEgvgRPtMsRn0gQtMwGKiw1\", \"https://cdn.bokeh.org/bokeh/release/bokeh-widgets-2.3.0.min.js\": \"ZEPPTjL+mdyqgIq+/pl9KTwzji8Kow2NnI3zWY8+sFinWP/SYJ80BnfeJsa45iYj\", \"https://cdn.bokeh.org/bokeh/release/bokeh-tables-2.3.0.min.js\": \"exLqv2ACDRIaV7ZK1iL8aGzGYQvKVuT3U2CT7FsQREBxRah6JrkVCoFy0koY1YqV\"};\n",
       "\n",
       "    for (let i = 0; i < js_urls.length; i++) {\n",
       "      const url = js_urls[i];\n",
       "      const element = document.createElement('script');\n",
       "      element.onload = on_load;\n",
       "      element.onerror = on_error.bind(null, url);\n",
       "      element.async = false;\n",
       "      element.src = url;\n",
       "      if (url in hashes) {\n",
       "        element.crossOrigin = \"anonymous\";\n",
       "        element.integrity = \"sha384-\" + hashes[url];\n",
       "      }\n",
       "      console.debug(\"Bokeh: injecting script tag for BokehJS library: \", url);\n",
       "      document.head.appendChild(element);\n",
       "    }\n",
       "  };\n",
       "\n",
       "  function inject_raw_css(css) {\n",
       "    const element = document.createElement(\"style\");\n",
       "    element.appendChild(document.createTextNode(css));\n",
       "    document.body.appendChild(element);\n",
       "  }\n",
       "\n",
       "  \n",
       "  var js_urls = [\"https://cdn.bokeh.org/bokeh/release/bokeh-2.3.0.min.js\", \"https://cdn.bokeh.org/bokeh/release/bokeh-widgets-2.3.0.min.js\", \"https://cdn.bokeh.org/bokeh/release/bokeh-tables-2.3.0.min.js\"];\n",
       "  var css_urls = [];\n",
       "  \n",
       "\n",
       "  var inline_js = [\n",
       "    function(Bokeh) {\n",
       "      Bokeh.set_log_level(\"info\");\n",
       "    },\n",
       "    function(Bokeh) {\n",
       "    \n",
       "    \n",
       "    }\n",
       "  ];\n",
       "\n",
       "  function run_inline_js() {\n",
       "    \n",
       "    if (root.Bokeh !== undefined || force === true) {\n",
       "      \n",
       "    for (var i = 0; i < inline_js.length; i++) {\n",
       "      inline_js[i].call(root, root.Bokeh);\n",
       "    }\n",
       "    if (force === true) {\n",
       "        display_loaded();\n",
       "      }} else if (Date.now() < root._bokeh_timeout) {\n",
       "      setTimeout(run_inline_js, 100);\n",
       "    } else if (!root._bokeh_failed_load) {\n",
       "      console.log(\"Bokeh: BokehJS failed to load within specified timeout.\");\n",
       "      root._bokeh_failed_load = true;\n",
       "    } else if (force !== true) {\n",
       "      var cell = $(document.getElementById(\"2207\")).parents('.cell').data().cell;\n",
       "      cell.output_area.append_execute_result(NB_LOAD_WARNING)\n",
       "    }\n",
       "\n",
       "  }\n",
       "\n",
       "  if (root._bokeh_is_loading === 0) {\n",
       "    console.debug(\"Bokeh: BokehJS loaded, going straight to plotting\");\n",
       "    run_inline_js();\n",
       "  } else {\n",
       "    load_libs(css_urls, js_urls, function() {\n",
       "      console.debug(\"Bokeh: BokehJS plotting callback run at\", now());\n",
       "      run_inline_js();\n",
       "    });\n",
       "  }\n",
       "}(window));"
      ],
      "application/vnd.bokehjs_load.v0+json": "\n(function(root) {\n  function now() {\n    return new Date();\n  }\n\n  var force = true;\n\n  if (typeof root._bokeh_onload_callbacks === \"undefined\" || force === true) {\n    root._bokeh_onload_callbacks = [];\n    root._bokeh_is_loading = undefined;\n  }\n\n  \n\n  \n  if (typeof (root._bokeh_timeout) === \"undefined\" || force === true) {\n    root._bokeh_timeout = Date.now() + 5000;\n    root._bokeh_failed_load = false;\n  }\n\n  var NB_LOAD_WARNING = {'data': {'text/html':\n     \"<div style='background-color: #fdd'>\\n\"+\n     \"<p>\\n\"+\n     \"BokehJS does not appear to have successfully loaded. If loading BokehJS from CDN, this \\n\"+\n     \"may be due to a slow or bad network connection. Possible fixes:\\n\"+\n     \"</p>\\n\"+\n     \"<ul>\\n\"+\n     \"<li>re-rerun `output_notebook()` to attempt to load from CDN again, or</li>\\n\"+\n     \"<li>use INLINE resources instead, as so:</li>\\n\"+\n     \"</ul>\\n\"+\n     \"<code>\\n\"+\n     \"from bokeh.resources import INLINE\\n\"+\n     \"output_notebook(resources=INLINE)\\n\"+\n     \"</code>\\n\"+\n     \"</div>\"}};\n\n  function display_loaded() {\n    var el = document.getElementById(\"2207\");\n    if (el != null) {\n      el.textContent = \"BokehJS is loading...\";\n    }\n    if (root.Bokeh !== undefined) {\n      if (el != null) {\n        el.textContent = \"BokehJS \" + root.Bokeh.version + \" successfully loaded.\";\n      }\n    } else if (Date.now() < root._bokeh_timeout) {\n      setTimeout(display_loaded, 100)\n    }\n  }\n\n\n  function run_callbacks() {\n    try {\n      root._bokeh_onload_callbacks.forEach(function(callback) {\n        if (callback != null)\n          callback();\n      });\n    } finally {\n      delete root._bokeh_onload_callbacks\n    }\n    console.debug(\"Bokeh: all callbacks have finished\");\n  }\n\n  function load_libs(css_urls, js_urls, callback) {\n    if (css_urls == null) css_urls = [];\n    if (js_urls == null) js_urls = [];\n\n    root._bokeh_onload_callbacks.push(callback);\n    if (root._bokeh_is_loading > 0) {\n      console.debug(\"Bokeh: BokehJS is being loaded, scheduling callback at\", now());\n      return null;\n    }\n    if (js_urls == null || js_urls.length === 0) {\n      run_callbacks();\n      return null;\n    }\n    console.debug(\"Bokeh: BokehJS not loaded, scheduling load and callback at\", now());\n    root._bokeh_is_loading = css_urls.length + js_urls.length;\n\n    function on_load() {\n      root._bokeh_is_loading--;\n      if (root._bokeh_is_loading === 0) {\n        console.debug(\"Bokeh: all BokehJS libraries/stylesheets loaded\");\n        run_callbacks()\n      }\n    }\n\n    function on_error(url) {\n      console.error(\"failed to load \" + url);\n    }\n\n    for (let i = 0; i < css_urls.length; i++) {\n      const url = css_urls[i];\n      const element = document.createElement(\"link\");\n      element.onload = on_load;\n      element.onerror = on_error.bind(null, url);\n      element.rel = \"stylesheet\";\n      element.type = \"text/css\";\n      element.href = url;\n      console.debug(\"Bokeh: injecting link tag for BokehJS stylesheet: \", url);\n      document.body.appendChild(element);\n    }\n\n    const hashes = {\"https://cdn.bokeh.org/bokeh/release/bokeh-2.3.0.min.js\": \"HjagQp6T0/7bxYTAXbLotF1MLAGWmhkY5siA1Gc/pcEgvgRPtMsRn0gQtMwGKiw1\", \"https://cdn.bokeh.org/bokeh/release/bokeh-widgets-2.3.0.min.js\": \"ZEPPTjL+mdyqgIq+/pl9KTwzji8Kow2NnI3zWY8+sFinWP/SYJ80BnfeJsa45iYj\", \"https://cdn.bokeh.org/bokeh/release/bokeh-tables-2.3.0.min.js\": \"exLqv2ACDRIaV7ZK1iL8aGzGYQvKVuT3U2CT7FsQREBxRah6JrkVCoFy0koY1YqV\"};\n\n    for (let i = 0; i < js_urls.length; i++) {\n      const url = js_urls[i];\n      const element = document.createElement('script');\n      element.onload = on_load;\n      element.onerror = on_error.bind(null, url);\n      element.async = false;\n      element.src = url;\n      if (url in hashes) {\n        element.crossOrigin = \"anonymous\";\n        element.integrity = \"sha384-\" + hashes[url];\n      }\n      console.debug(\"Bokeh: injecting script tag for BokehJS library: \", url);\n      document.head.appendChild(element);\n    }\n  };\n\n  function inject_raw_css(css) {\n    const element = document.createElement(\"style\");\n    element.appendChild(document.createTextNode(css));\n    document.body.appendChild(element);\n  }\n\n  \n  var js_urls = [\"https://cdn.bokeh.org/bokeh/release/bokeh-2.3.0.min.js\", \"https://cdn.bokeh.org/bokeh/release/bokeh-widgets-2.3.0.min.js\", \"https://cdn.bokeh.org/bokeh/release/bokeh-tables-2.3.0.min.js\"];\n  var css_urls = [];\n  \n\n  var inline_js = [\n    function(Bokeh) {\n      Bokeh.set_log_level(\"info\");\n    },\n    function(Bokeh) {\n    \n    \n    }\n  ];\n\n  function run_inline_js() {\n    \n    if (root.Bokeh !== undefined || force === true) {\n      \n    for (var i = 0; i < inline_js.length; i++) {\n      inline_js[i].call(root, root.Bokeh);\n    }\n    if (force === true) {\n        display_loaded();\n      }} else if (Date.now() < root._bokeh_timeout) {\n      setTimeout(run_inline_js, 100);\n    } else if (!root._bokeh_failed_load) {\n      console.log(\"Bokeh: BokehJS failed to load within specified timeout.\");\n      root._bokeh_failed_load = true;\n    } else if (force !== true) {\n      var cell = $(document.getElementById(\"2207\")).parents('.cell').data().cell;\n      cell.output_area.append_execute_result(NB_LOAD_WARNING)\n    }\n\n  }\n\n  if (root._bokeh_is_loading === 0) {\n    console.debug(\"Bokeh: BokehJS loaded, going straight to plotting\");\n    run_inline_js();\n  } else {\n    load_libs(css_urls, js_urls, function() {\n      console.debug(\"Bokeh: BokehJS plotting callback run at\", now());\n      run_inline_js();\n    });\n  }\n}(window));"
     },
     "metadata": {},
     "output_type": "display_data"
    },
    {
     "data": {
      "text/html": [
       "\n",
       "\n",
       "\n",
       "\n",
       "\n",
       "\n",
       "  <div class=\"bk-root\" id=\"257649e1-f62f-413e-9404-87b8b62bcdfc\" data-root-id=\"2210\"></div>\n"
      ]
     },
     "metadata": {},
     "output_type": "display_data"
    },
    {
     "data": {
      "application/javascript": [
       "(function(root) {\n",
       "  function embed_document(root) {\n",
       "    \n",
       "  var docs_json = {\"c566b3eb-afc5-433d-86ef-c28de2cb459d\":{\"defs\":[{\"extends\":null,\"module\":null,\"name\":\"DataModel\",\"overrides\":[],\"properties\":[]}],\"roots\":{\"references\":[{\"attributes\":{\"below\":[{\"id\":\"2221\"}],\"center\":[{\"id\":\"2224\"},{\"id\":\"2228\"}],\"left\":[{\"id\":\"2225\"}],\"renderers\":[{\"id\":\"2249\"},{\"id\":\"2254\"}],\"title\":{\"id\":\"2211\"},\"toolbar\":{\"id\":\"2237\"},\"width\":900,\"x_range\":{\"id\":\"2213\"},\"x_scale\":{\"id\":\"2217\"},\"y_range\":{\"id\":\"2215\"},\"y_scale\":{\"id\":\"2219\"}},\"id\":\"2210\",\"subtype\":\"Figure\",\"type\":\"Plot\"},{\"attributes\":{\"data\":{\"x\":{\"__ndarray__\":\"AAAA0eGHYEIAAICchohgQgAAAGgriWBCAACAM9CJYEIAAAD/dIpgQgAAgMoZi2BCAAAAlr6LYEIAAIBhY4xgQgAAAC0IjWBCAACA+KyNYEIAAADEUY5gQgAAgI/2jmBCAAAAW5uPYEIAAIAmQJBgQgAAAPLkkGBCAACAvYmRYEIAAACJLpJgQgAAgFTTkmBCAAAAIHiTYEIAAIDrHJRgQgAAALfBlGBCAACAgmaVYEIAAABOC5ZgQgAAgBmwlmBCAAAA5VSXYEIAAICw+ZdgQgAAAHyemGBCAACAR0OZYEIAAAAT6JlgQgAAgN6MmmBCAAAAqjGbYEIAAIB11ptgQgAAAEF7nGBCAACADCCdYEIAAADYxJ1gQgAAgKNpnmBCAAAAbw6fYEIAAIA6s59gQgAAAAZYoGBCAACA0fygYEIAAACdoaFgQgAAgGhGomBCAAAANOuiYEIAAID/j6NgQgAAAMs0pGBCAACAltmkYEIAAABifqVgQgAAgC0jpmBCAAAA+cemYEIAAIDEbKdgQgAAAJARqGBCAACAW7aoYEIAAAAnW6lgQgAAgPL/qWBCAAAAvqSqYEIAAICJSatgQgAAAFXuq2BCAACAIJOsYEIAAADsN61gQgAAgLfcrWBCAAAAg4GuYEIAAIBOJq9gQgAAABrLr2BCAACA5W+wYEIAAACxFLFgQgAAgHy5sWBCAAAASF6yYEIAAIATA7NgQgAAAN+ns2BCAACAqky0YEIAAAB28bRgQgAAgEGWtWBCAAAADTu2YEIAAIDY37ZgQgAAAKSEt2BCAACAbym4YEIAAAA7zrhgQgAAgAZzuWBCAAAA0he6YEIAAICdvLpgQgAAAGlhu2BCAACANAa8YEIAAAAAq7xgQgAAgMtPvWBCAAAAl/S9YEIAAIBimb5gQgAAAC4+v2BCAACA+eK/YEIAAADFh8BgQgAAgJAswWBCAAAAXNHBYEIAAIAndsJgQgAAAPMaw2BCAACAvr/DYEIAAACKZMRgQgAAgFUJxWBCAAAAIa7FYEIAAIDsUsZgQgAAALj3xmBCAACAg5zHYEIAAABPQchgQgAAgBrmyGBCAAAA5orJYEIAAICxL8pgQgAAAH3UymBCAACASHnLYEIAAAAUHsxgQgAAgN/CzGBCAAAAq2fNYEIAAIB2DM5gQgAAAEKxzmBCAACADVbPYEIAAADZ+s9gQgAAgKSf0GBCAAAAcETRYEIAAIA76dFgQgAAAAeO0mBCAACA0jLTYEIAAACe19NgQgAAgGl81GBCAAAANSHVYEIAAIAAxtVgQgAAAMxq1mBCAACAlw/XYEIAAABjtNdgQgAAgC5Z2GBCAAAA+v3YYEIAAIDFotlgQgAAAJFH2mBCAACAXOzaYEIAAAAokdtgQgAAgPM13GBCAAAAv9rcYEIAAICKf91gQgAAAFYk3mBCAACAIcneYEIAAADtbd9gQgAAgLgS4GBCAAAAhLfgYEIAAIBPXOFgQgAAABsB4mBCAACA5qXiYEIAAACySuNgQgAAgH3v42BCAAAASZTkYEIAAIAUOeVgQgAAAODd5WBCAACAq4LmYEIAAAB3J+dgQgAAgELM52BCAAAADnHoYEIAAIDZFelgQgAAAKW66WBCAACAcF/qYEIAAAA8BOtgQgAAgAep62BCAAAA003sYEIAAICe8uxgQgAAAGqX7WBCAACANTzuYEIAAAAB4e5gQgAAgMyF72BCAAAAmCrwYEIAAIBjz/BgQgAAAC908WBCAACA+hjyYEIAAADGvfJgQgAAgJFi82BCAAAAXQf0YEIAAIAorPRgQgAAAPRQ9WBCAACAv/X1YEIAAACLmvZgQgAAgFY/92BCAAAAIuT3YEIAAIDtiPhgQgAAALkt+WBCAACAhNL5YEIAAABQd/pgQgAAgBsc+2BCAAAA58D7YEIAAICyZfxgQgAAAH4K/WBCAACASa/9YEIAAAAVVP5gQgAAgOD4/mBCAAAArJ3/YEIAAIB3QgBhQgAAAEPnAGFCAACADowBYUIAAADaMAJhQgAAgKXVAmFCAAAAcXoDYUIAAIA8HwRhQgAAAAjEBGFCAACA02gFYUIAAACfDQZhQgAAgGqyBmFCAAAANlcHYUIAAIAB/AdhQgAAAM2gCGFCAACAmEUJYUIAAABk6glhQgAAgC+PCmFCAAAA+zMLYUIAAIDG2AthQgAAAJJ9DGFCAACAXSINYUIAAAApxw1hQgAAgPRrDmFCAAAAwBAPYUIAAICLtQ9hQgAAAFdaEGFCAACAIv8QYUIAAADuoxFhQgAAgLlIEmFCAAAAhe0SYUIAAIBQkhNhQgAAABw3FGFCAACA59sUYUIAAACzgBVhQgAAgH4lFmFCAAAASsoWYUIAAIAVbxdhQgAAAOETGGFCAACArLgYYUIAAAB4XRlhQgAAgEMCGmFCAAAAD6caYUIAAIDaSxthQgAAAKbwG2FCAACAcZUcYUIAAAA9Oh1hQgAAgAjfHWFCAAAA1IMeYUIAAICfKB9hQgAAAGvNH2FCAACANnIgYUIAAAACFyFhQgAAgM27IWFCAAAAmWAiYUIAAIBkBSNhQgAAADCqI2FCAACA+04kYUIAAADH8yRhQgAAgJKYJWFCAAAAXj0mYUIAAIAp4iZhQgAAAPWGJ2FCAACAwCsoYUIAAACM0ChhQgAAgFd1KWFCAAAAIxoqYUIAAIDuviphQgAAALpjK2FCAACAhQgsYUIAAABRrSxhQgAAgBxSLWFCAAAA6PYtYUIAAICzmy5hQgAAAH9AL2FCAACASuUvYUIAAAAWijBhQgAAgOEuMWFCAAAArdMxYUIAAIB4eDJhQgAAAEQdM2FCAACAD8IzYUIAAADbZjRhQgAAgKYLNWFCAAAAcrA1YUIAAIA9VTZhQgAAAAn6NmFCAACA1J43YUIAAACgQzhhQgAAgGvoOGFCAAAAN405YUIAAIACMjphQgAAAM7WOmFCAACAmXs7YUIAAABlIDxhQgAAgDDFPGFCAAAA/Gk9YUIAAIDHDj5hQgAAAJOzPmFCAACAXlg/YUIAAAAq/T9hQgAAgPWhQGFCAAAAwUZBYUIAAICM60FhQgAAAFiQQmFCAACAIzVDYUIAAADv2UNhQgAAgLp+RGFCAAAAhiNFYUIAAIBRyEVhQgAAAB1tRmFCAACA6BFHYUIAAAC0tkdhQgAAgH9bSGFCAAAASwBJYUIAAIAWpUlhQgAAAOJJSmFCAACAre5KYUIAAAB5k0thQgAAgEQ4TGFCAAAAEN1MYUIAAIDbgU1hQgAAAKcmTmFCAACAcstOYUIAAAA+cE9hQgAAgAkVUGFCAAAA1blQYUIAAICgXlFhQgAAAGwDUmFCAACAN6hSYUIAAAADTVNhQgAAgM7xU2FCAAAAmpZUYUIAAIBlO1VhQgAAADHgVWFCAACA/IRWYUIAAADIKVdhQgAAgJPOV2FCAAAAX3NYYUIAAIAqGFlhQgAAAPa8WWFCAACAwWFaYUIAAACNBlthQgAAgFirW2FCAAAAJFBcYUIAAIDv9FxhQgAAALuZXWFCAACAhj5eYUIAAABS415hQgAAgB2IX2FCAAAA6SxgYUIAAIC00WBhQgAAAIB2YWFCAACASxtiYUIAAAAXwGJhQgAAgOJkY2FCAAAArglkYUIAAIB5rmRhQgAAAEVTZWFCAACAEPhlYUIAAADcnGZhQgAAgKdBZ2FCAAAAc+ZnYUIAAIA+i2hhQgAAAAowaWFCAACA1dRpYUIAAACheWphQgAAgGwea2FCAAAAOMNrYUIAAIADaGxhQgAAAM8MbWFCAACAmrFtYUIAAABmVm5hQgAAgDH7bmFCAAAA/Z9vYUIAAIDIRHBhQgAAAJTpcGFCAACAX45xYUIAAAArM3JhQgAAAMJ8c2FCAACAjSF0YUIAAABZxnRhQgAAgCRrdWFCAAAA8A92YUIAAIC7tHZhQgAAAIdZd2FCAACAUv53YUIAAAAeo3hhQgAAgOlHeWFCAAAAtex5YUIAAICAkXphQgAAAEw2e2FCAACAF9t7YUIAAADjf3xhQgAAgK4kfWFCAAAAesl9YUIAAIBFbn5hQgAAABETf2FCAACA3Ld/YUIAAACoXIBhQgAAgHMBgWFCAAAAP6aBYUIAAIAKS4JhQgAAANbvgmFCAACAoZSDYUIAAABtOYRhQgAAgDjehGFCAAAABIOFYUIAAIDPJ4ZhQgAAAJvMhmFCAACAZnGHYUIAAAAyFohhQgAAgP26iGFCAAAAyV+JYUIAAICUBIphQgAAAGCpimFCAACAK06LYUIAAAD38othQgAAgMKXjGFCAAAAjjyNYUIAAIBZ4Y1hQgAAACWGjmFCAACA8CqPYUIAAAC8z49hQgAAgId0kGFCAAAAUxmRYUIAAIAevpFhQgAAAOpikmFCAACAtQeTYUIAAACBrJNhQgAAgExRlGFCAAAAGPaUYUIAAIDjmpVhQgAAAK8/lmFCAACAeuSWYUIAAABGiZdhQgAAgBEumGFCAAAA3dKYYUIAAICod5lhQgAAAHQcmmFCAACAP8GaYUIAAAALZpthQgAAgNYKnGFCAAAAoq+cYUIAAIBtVJ1hQgAAADn5nWFCAACABJ6eYUIAAADQQp9hQgAAgJvnn2FCAAAAZ4ygYUIAAIAyMaFhQgAAAP7VoWFCAACAyXqiYUIAAACVH6NhQgAAgGDEo2FCAAAALGmkYUIAAID3DaVhQgAAAMOypWFCAACAjlemYUIAAABa/KZhQgAAgCWhp2FCAAAA8UWoYUIAAIC86qhhQgAAAIiPqWFCAACAUzSqYUIAAAAf2aphQgAAgOp9q2FCAAAAtiKsYUIAAICBx6xhQgAAAE1srWFCAACAGBGuYUIAAADkta5hQgAAgK9ar2FCAAAAe/+vYUIAAIBGpLBhQgAAABJJsWFCAACA3e2xYUIAAACpkrJhQgAAgHQ3s2FCAAAAQNyzYUIAAIALgbRhQgAAANcltWFCAACAosq1YUIAAABub7ZhQgAAgDkUt2FCAAAABbm3YUIAAIDQXbhhQgAAAJwCuWFCAACAZ6e5YUIAAAAzTLphQgAAgP7wumFCAAAAypW7YUIAAICVOrxhQgAAAGHfvGFCAACALIS9YUIAAAD4KL5hQgAAgMPNvmFCAAAAj3K/YUIAAIBaF8BhQgAAACa8wGFCAACA8WDBYUIAAAC9BcJhQgAAgIiqwmFCAAAAVE/DYUIAAIAf9MNhQgAAAOuYxGFCAACAtj3FYUIAAACC4sVhQgAAgE2HxmFCAAAAGSzHYUIAAIDk0MdhQgAAALB1yGFCAACAexrJYUIAAABHv8lhQgAAgBJkymFCAAAA3gjLYUIAAICprcthQgAAAHVSzGFCAACAQPfMYUIAAAAMnM1hQgAAgNdAzmFCAAAAo+XOYUIAAIBuis9hQgAAADov0GFCAACABdTQYUIAAADReNFhQgAAgJwd0mFCAAAAaMLSYUIAAIAzZ9NhQgAAAP8L1GFCAACAyrDUYUIAAACWVdVhQgAAgGH61WFCAAAALZ/WYUIAAID4Q9dhQgAAAMTo12FCAACAj43YYUIAAABbMtlhQgAAgCbX2WFCAAAA8nvaYUIAAIC9INthQgAAAInF22FCAACAVGrcYUIAAAAgD91hQgAAgOuz3WFCAAAAt1jeYUIAAICC/d5hQgAAAE6i32FCAACAGUfgYUIAAADl6+BhQgAAgLCQ4WFCAAAAfDXiYUIAAIBH2uJhQgAAABN/42FCAACA3iPkYUIAAACqyORhQgAAgHVt5WFCAAAAQRLmYUIAAIAMt+ZhQgAAANhb52FCAACAowDoYUIAAABvpehhQgAAgDpK6WFCAAAABu/pYUIAAIDRk+phQgAAAJ0462FCAACAaN3rYUIAAAA0guxhQgAAgP8m7WFCAAAAy8vtYUIAAICWcO5hQgAAAGIV72FCAACALbrvYUIAAAD5XvBhQgAAgMQD8WFCAAAAkKjxYUIAAIBbTfJhQgAAACfy8mFCAACA8pbzYUIAAAC+O/RhQgAAgIng9GFCAAAAVYX1YUIAAIAgKvZhQgAAAOzO9mFCAACAt3P3YUIAAACDGPhhQgAAgE69+GFCAAAAGmL5YUIAAIDlBvphQgAAALGr+mFCAACAfFD7YUIAAABI9fthQgAAgBOa/GFCAAAA3z79YUIAAICq4/1hQgAAAHaI/mFCAACAQS3/YUIAAAAN0v9hQgAAgNh2AGJCAAAApBsBYkIAAIBvwAFiQgAAADtlAmJCAACABgoDYkIAAADSrgNiQgAAgJ1TBGJCAAAAafgEYkIAAIA0nQViQgAAAABCBmJCAACAy+YGYkIAAACXiwdiQgAAgGIwCGJCAAAALtUIYkIAAID5eQliQgAAAMUeCmJCAACAkMMKYkIAAABcaAtiQgAAgCcNDGJCAAAA87EMYkIAAIC+Vg1iQgAAAIr7DWJCAACAVaAOYkIAAAAhRQ9iQgAAgOzpD2JCAAAAuI4QYkIAAICDMxFiQgAAAE/YEWJCAACAGn0SYkIAAADmIRNiQgAAgLHGE2JCAAAAfWsUYkIAAIBIEBViQgAAABS1FWJCAACA31kWYkIAAACr/hZiQgAAgHajF2JCAAAAQkgYYkIAAIAN7RhiQgAAANmRGWJCAACApDYaYkIAAABw2xpiQgAAgDuAG2JCAAAAByUcYkIAAIDSyRxiQgAAAJ5uHWJCAACAaRMeYkIAAAA1uB5iQgAAgABdH2JCAAAAzAEgYkIAAICXpiBiQgAAAGNLIWJCAACALvAhYkIAAAD6lCJiQgAAgMU5I2JCAAAAkd4jYkIAAIBcgyRiQgAAACgoJWJCAACA88wlYkIAAAC/cSZiQgAAgIoWJ2JCAAAAVrsnYkIAAIAhYChiQgAAAO0EKWJCAACAuKkpYkIAAACETipiQgAAgE/zKmJCAAAAG5grYkIAAIDmPCxiQgAAALLhLGJCAACAfYYtYkIAAABJKy5iQgAAgBTQLmJCAAAA4HQvYkIAAICrGTBiQgAAAHe+MGJCAACAQmMxYkIAAAAOCDJiQgAAgNmsMmJCAAAApVEzYkIAAIBw9jNiQgAAADybNGJCAACAB0A1YkIAAADT5DViQgAAgJ6JNmJCAAAAai43YkIAAIA10zdiQgAAAAF4OGJCAACAzBw5YkIAAACYwTliQgAAgGNmOmJCAAAALws7YkIAAID6rztiQgAAAMZUPGJCAACAkfk8YkIAAABdnj1iQgAAgChDPmJCAAAA9Oc+YkIAAIC/jD9iQgAAAIsxQGJCAACAVtZAYkIAAAAie0FiQgAAgO0fQmJCAAAAucRCYkIAAICEaUNiQgAAAFAORGJCAACAG7NEYkIAAADnV0ViQgAAgLL8RWJCAAAAfqFGYkIAAIBJRkdiQgAAABXrR2JCAACA4I9IYkIAAACsNEliQgAAgHfZSWJCAAAAQ35KYkIAAIAOI0tiQgAAANrHS2JCAACApWxMYkIAAABxEU1iQgAAgDy2TWJCAAAACFtOYkIAAIDT/05iQgAAAJ+kT2JCAACAaklQYkIAAAA27lBiQgAAgAGTUWJCAAAAzTdSYkIAAICY3FJiQgAAAGSBU2JCAACALyZUYkIAAAD7ylRiQgAAgMZvVWJCAAAAkhRWYkIAAIBduVZiQgAAACleV2JCAACA9AJYYkIAAADAp1hiQgAAgItMWWJCAAAAV/FZYkIAAIAillpiQgAAAO46W2JCAACAud9bYkIAAACFhFxiQgAAgFApXWJCAAAAHM5dYkIAAIDncl5iQgAAALMXX2JCAACAfrxfYkIAAABKYWBiQgAAgBUGYWJCAAAA4aphYkIAAICsT2JiQgAAAHj0YmJCAACAQ5ljYkIAAAAPPmRiQgAAgNriZGJCAAAApodlYkIAAIBxLGZiQgAAAD3RZmJCAACACHZnYkIAAADUGmhiQgAAgJ+/aGJCAAAAa2RpYkIAAIA2CWpiQgAAAAKuamJCAACAzVJrYkIAAACZ92tiQgAAgGScbGJCAAAAMEFtYkIAAID75W1iQgAAAMeKbmJCAACAki9vYkIAAABe1G9iQgAAgCl5cGJCAAAA9R1xYkIAAIDAwnFiQgAAAIxncmJCAACAVwxzYkIAAAAjsXNiQgAAgO5VdGJCAAAAuvp0YkIAAICFn3ViQgAAAFFEdmJCAACAHOl2YkIAAADojXdiQgAAgLMyeGJCAAAAf9d4YkIAAIBKfHliQgAAABYhemJCAACA4cV6YkIAAACtantiQgAAgHgPfGJCAAAARLR8YkIAAIAPWX1iQgAAANv9fWJCAACApqJ+YkIAAAByR39iQgAAgD3sf2JCAAAACZGAYkIAAIDUNYFiQgAAAKDagWJCAACAa3+CYkIAAAA3JINiQgAAgALJg2JCAAAAzm2EYkIAAICZEoViQgAAAGW3hWJCAACAMFyGYkIAAAD8AIdiQgAAgMelh2JCAAAAk0qIYkIAAIBe74hiQgAAACqUiWJCAACA9TiKYkIAAADB3YpiQgAAgIyCi2JCAAAAWCeMYkIAAIAjzIxiQgAAAO9wjWJCAACAuhWOYkIAAACGuo5iQgAAgFFfj2JCAAAAHQSQYkIAAIDoqJBiQgAAALRNkWJCAACAf/KRYkIAAABLl5JiQgAAgBY8k2JCAAAA4uCTYkIAAICthZRiQgAAAHkqlWJCAACARM+VYkIAAAAQdJZiQgAAgNsYl2JCAAAAp72XYkIAAIByYphiQgAAAD4HmWJCAACACayZYkIAAADVUJpiQgAAgKD1mmJCAAAAbJqbYkIAAIA3P5xiQgAAAAPknGJCAACAzoidYkIAAACaLZ5iQgAAgGXSnmJCAAAAMXefYkIAAID8G6BiQgAAAMjAoGJCAACAk2WhYkIAAABfCqJiQgAAgCqvomJCAAAA9lOjYkIAAIDB+KNiQgAAAI2dpGJCAACAWEKlYkIAAAAk56ViQgAAgO+LpmJCAAAAuzCnYkIAAICG1adiQgAAAFJ6qGJCAACAHR+pYkIAAADpw6liQgAAgLRoqmJCAAAAgA2rYkIAAIBLsqtiQgAAABdXrGJCAACA4vusYkIAAACuoK1iQgAAgHlFrmJCAAAARequYkIAAIAQj69iQgAAANwzsGJCAACAp9iwYkIAAABzfbFiQgAAgD4ismJCAAAACseyYkIAAIDVa7NiQgAAAKEQtGJCAACAbLW0YkIAAAA4WrViQgAAgAP/tWJCAAAAz6O2YkIAAICaSLdiQgAAAGbtt2JCAACAMZK4YkIAAAD9NrliQgAAgMjbuWJCAAAAlIC6YkIAAIBfJbtiQgAAACvKu2JCAACA9m68YkIAAADCE71iQgAAgI24vWJCAAAAWV2+YkIAAIAkAr9iQgAAAPCmv2JCAACAu0vAYkIAAACH8MBiQgAAgFKVwWJCAAAAHjrCYkIAAIDp3sJiQgAAALWDw2JCAACAgCjEYkIAAABMzcRiQgAAgBdyxWJCAAAA4xbGYkIAAICuu8ZiQgAAAHpgx2JCAACARQXIYkIAAAARqshiQgAAgNxOyWJCAAAAqPPJYkIAAIBzmMpiQgAAAD89y2JCAACACuLLYkIAAADWhsxiQgAAgKErzWJCAAAAbdDNYkIAAIA4dc5iQgAAAAQaz2JCAACAz77PYkIAAACbY9BiQgAAgGYI0WJCAAAAMq3RYkIAAID9UdJiQgAAAMn20mJCAACAlJvTYkIAAABgQNRiQgAAgCvl1GJCAAAA94nVYkIAAIDCLtZiQgAAAI7T1mJCAACAWXjXYkIAAAAlHdhiQgAAgPDB2GJCAAAAvGbZYkIAAICHC9piQgAAAFOw2mJCAACAHlXbYkIAAADq+dtiQgAAgLWe3GJCAAAAgUPdYkIAAIBM6N1iQgAAABiN3mJCAACA4zHfYkIAAACv1t9iQgAAgHp74GJCAAAARiDhYkIAAIARxeFiQgAAAN1p4mJCAACAqA7jYkIAAAB0s+NiQgAAgD9Y5GJCAAAAC/3kYkIAAIDWoeViQgAAAKJG5mJCAACAbevmYkIAAAA5kOdiQgAAgAQ16GJCAAAA0NnoYkIAAICbfuliQgAAAGcj6mJCAACAMsjqYkIAAAD+bOtiQgAAgMkR7GJCAAAAlbbsYkIAAIBgW+1iQgAAACwA7mJCAACA96TuYkIAAADDSe9iQgAAgI7u72JCAAAAWpPwYkIAAIAlOPFiQgAAAPHc8WJCAACAvIHyYkIAAACIJvNiQgAAgFPL82JCAAAAH3D0YkIAAIDqFPViQgAAALa59WJCAACAgV72YkIAAABNA/diQgAAgBio92JCAAAA5Ez4YkIAAICv8fhiQgAAAHuW+WJCAACARjv6YkIAAAAS4PpiQgAAgN2E+2JCAAAAqSn8YkIAAIB0zvxiQgAAAEBz/WJCAACACxj+YkIAAADXvP5iQgAAgKJh/2JCAAAAbgYAY0IAAIA5qwBjQgAAAAVQAWNCAACA0PQBY0IAAACcmQJjQgAAgGc+A2NCAAAAM+MDY0IAAID+hwRjQgAAAMosBWNCAACAldEFY0IAAABhdgZjQgAAgCwbB2NCAAAA+L8HY0IAAIDDZAhjQgAAAI8JCWNCAACAWq4JY0IAAAAmUwpjQgAAgPH3CmNCAAAAvZwLY0IAAICIQQxjQgAAAFTmDGNCAACAH4sNY0IAAADrLw5jQgAAgLbUDmNCAAAAgnkPY0IAAIBNHhBjQgAAABnDEGNCAACA5GcRY0IAAACwDBJjQgAAgHuxEmNCAAAAR1YTY0IAAIAS+xNjQgAAAN6fFGNCAACAqUQVY0IAAAB16RVjQgAAgECOFmNCAAAADDMXY0IAAIDX1xdjQgAAAKN8GGNCAACAbiEZY0IAAAA6xhljQgAAgAVrGmNCAAAA0Q8bY0IAAICctBtjQgAAAGhZHGNCAACAM/4cY0IAAAD/oh1jQgAAgMpHHmNCAAAAluweY0IAAIBhkR9jQgAAAC02IGNCAACA+NogY0IAAADEfyFjQgAAgI8kImNCAAAAW8kiY0IAAIAmbiNjQgAAAPISJGNCAACAvbckY0IAAACJXCVjQgAAgFQBJmNCAAAAIKYmY0IAAIDrSidjQgAAALfvJ2NCAACAgpQoY0IAAABOOSljQgAAgBneKWNCAAAA5YIqY0IAAICwJytjQgAAAHzMK2NCAACAR3EsY0IAAAATFi1jQgAAgN66LWNCAAAAql8uY0IAAIB1BC9jQgAAAEGpL2NCAACADE4wY0IAAADY8jBjQgAAgKOXMWNCAAAAbzwyY0IAAIA64TJjQgAAAAaGM2NCAACA0So0Y0IAAACdzzRjQgAAgGh0NWNCAAAANBk2Y0IAAID/vTZjQgAAAMtiN2NCAACAlgc4Y0IAAABirDhjQgAAgC1ROWNCAAAA+fU5Y0IAAIDEmjpjQgAAAJA/O2NCAACAW+Q7Y0IAAAAniTxjQgAAgPItPWNCAAAAvtI9Y0IAAICJdz5jQgAAAFUcP2NCAACAIME/Y0IAAADsZUBjQgAAgLcKQWNCAAAAg69BY0IAAIBOVEJjQgAAABr5QmNCAACA5Z1DY0IAAACxQkRjQgAAgHznRGNCAAAASIxFY0IAAIATMUZjQgAAAN/VRmNCAACAqnpHY0IAAAB2H0hjQgAAgEHESGNC\",\"dtype\":\"float64\",\"order\":\"little\",\"shape\":[1095]},\"y\":{\"__ndarray__\":\"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\",\"dtype\":\"float64\",\"order\":\"little\",\"shape\":[1095]}},\"selected\":{\"id\":\"2399\"},\"selection_policy\":{\"id\":\"2398\"}},\"id\":\"2251\",\"type\":\"ColumnDataSource\"},{\"attributes\":{\"base\":60,\"mantissas\":[1,2,5,10,15,20,30],\"max_interval\":1800000.0,\"min_interval\":1000.0,\"num_minor_ticks\":0},\"id\":\"2385\",\"type\":\"AdaptiveTicker\"},{\"attributes\":{},\"id\":\"2395\",\"type\":\"YearsTicker\"},{\"attributes\":{},\"id\":\"2217\",\"type\":\"LinearScale\"},{\"attributes\":{\"days\":[1,8,15,22]},\"id\":\"2389\",\"type\":\"DaysTicker\"},{\"attributes\":{},\"id\":\"2396\",\"type\":\"UnionRenderers\"},{\"attributes\":{},\"id\":\"2213\",\"type\":\"DataRange1d\"},{\"attributes\":{},\"id\":\"2377\",\"type\":\"AllLabels\"},{\"attributes\":{\"bottom_units\":\"screen\",\"fill_alpha\":0.5,\"fill_color\":\"lightgrey\",\"left_units\":\"screen\",\"level\":\"overlay\",\"line_alpha\":1.0,\"line_color\":\"black\",\"line_dash\":[4,4],\"line_width\":2,\"right_units\":\"screen\",\"syncable\":false,\"top_units\":\"screen\"},\"id\":\"2235\",\"type\":\"BoxAnnotation\"},{\"attributes\":{\"overlay\":{\"id\":\"2235\"}},\"id\":\"2234\",\"type\":\"BoxSelectTool\"},{\"attributes\":{},\"id\":\"2229\",\"type\":\"PanTool\"},{\"attributes\":{\"axis\":{\"id\":\"2221\"},\"ticker\":null},\"id\":\"2224\",\"type\":\"Grid\"},{\"attributes\":{\"days\":[1,4,7,10,13,16,19,22,25,28]},\"id\":\"2388\",\"type\":\"DaysTicker\"},{\"attributes\":{\"months\":[0,6]},\"id\":\"2394\",\"type\":\"MonthsTicker\"},{\"attributes\":{\"axis_label\":\"value\",\"formatter\":{\"id\":\"2379\"},\"major_label_policy\":{\"id\":\"2377\"},\"ticker\":{\"id\":\"2226\"}},\"id\":\"2225\",\"type\":\"LinearAxis\"},{\"attributes\":{\"days\":[\"%d %B %Y\"],\"hours\":[\"%d %B %Y\"],\"months\":[\"%d %B %Y\"],\"years\":[\"%d %B %Y\"]},\"id\":\"2208\",\"type\":\"DatetimeTickFormatter\"},{\"attributes\":{\"data_source\":{\"id\":\"2251\"},\"glyph\":{\"id\":\"2252\"},\"hover_glyph\":null,\"muted_glyph\":null,\"nonselection_glyph\":{\"id\":\"2253\"},\"view\":{\"id\":\"2255\"}},\"id\":\"2254\",\"type\":\"GlyphRenderer\"},{\"attributes\":{\"source\":{\"id\":\"2251\"}},\"id\":\"2255\",\"type\":\"CDSView\"},{\"attributes\":{\"bottom_units\":\"screen\",\"fill_alpha\":0.5,\"fill_color\":\"lightgrey\",\"left_units\":\"screen\",\"level\":\"overlay\",\"line_alpha\":1.0,\"line_color\":\"black\",\"line_dash\":[4,4],\"line_width\":2,\"right_units\":\"screen\",\"syncable\":false,\"top_units\":\"screen\"},\"id\":\"2236\",\"type\":\"BoxAnnotation\"},{\"attributes\":{},\"id\":\"2397\",\"type\":\"Selection\"},{\"attributes\":{\"months\":[0,4,8]},\"id\":\"2393\",\"type\":\"MonthsTicker\"},{\"attributes\":{},\"id\":\"2211\",\"type\":\"Title\"},{\"attributes\":{\"line_color\":\"#1f77b4\",\"line_width\":2,\"x\":{\"field\":\"x\"},\"y\":{\"field\":\"y\"}},\"id\":\"2247\",\"type\":\"Line\"},{\"attributes\":{\"axis_label\":\"time\",\"formatter\":{\"id\":\"2208\"},\"major_label_policy\":{\"id\":\"2380\"},\"ticker\":{\"id\":\"2222\"}},\"id\":\"2221\",\"type\":\"DatetimeAxis\"},{\"attributes\":{},\"id\":\"2233\",\"type\":\"SaveTool\"},{\"attributes\":{},\"id\":\"2379\",\"type\":\"BasicTickFormatter\"},{\"attributes\":{\"months\":[0,1,2,3,4,5,6,7,8,9,10,11]},\"id\":\"2391\",\"type\":\"MonthsTicker\"},{\"attributes\":{\"line_color\":\"orange\",\"line_width\":2,\"x\":{\"field\":\"x\"},\"y\":{\"field\":\"y\"}},\"id\":\"2252\",\"type\":\"Line\"},{\"attributes\":{},\"id\":\"2230\",\"type\":\"WheelZoomTool\"},{\"attributes\":{},\"id\":\"2219\",\"type\":\"LinearScale\"},{\"attributes\":{\"source\":{\"id\":\"2246\"}},\"id\":\"2250\",\"type\":\"CDSView\"},{\"attributes\":{\"data_source\":{\"id\":\"2246\"},\"glyph\":{\"id\":\"2247\"},\"hover_glyph\":null,\"muted_glyph\":null,\"nonselection_glyph\":{\"id\":\"2248\"},\"view\":{\"id\":\"2250\"}},\"id\":\"2249\",\"type\":\"GlyphRenderer\"},{\"attributes\":{\"line_alpha\":0.1,\"line_color\":\"orange\",\"line_width\":2,\"x\":{\"field\":\"x\"},\"y\":{\"field\":\"y\"}},\"id\":\"2253\",\"type\":\"Line\"},{\"attributes\":{\"days\":[1,15]},\"id\":\"2390\",\"type\":\"DaysTicker\"},{\"attributes\":{\"months\":[0,2,4,6,8,10]},\"id\":\"2392\",\"type\":\"MonthsTicker\"},{\"attributes\":{\"axis\":{\"id\":\"2225\"},\"dimension\":1,\"ticker\":null},\"id\":\"2228\",\"type\":\"Grid\"},{\"attributes\":{},\"id\":\"2399\",\"type\":\"Selection\"},{\"attributes\":{\"callback\":null,\"formatters\":{\"@x\":\"datetime\"},\"mode\":\"vline\",\"tooltips\":[[\"date\",\"@x{%d-%m-%YT%H:%M:%S}\"],[\"value\",\"@y\"]]},\"id\":\"2209\",\"type\":\"HoverTool\"},{\"attributes\":{},\"id\":\"2380\",\"type\":\"AllLabels\"},{\"attributes\":{\"num_minor_ticks\":5,\"tickers\":[{\"id\":\"2384\"},{\"id\":\"2385\"},{\"id\":\"2386\"},{\"id\":\"2387\"},{\"id\":\"2388\"},{\"id\":\"2389\"},{\"id\":\"2390\"},{\"id\":\"2391\"},{\"id\":\"2392\"},{\"id\":\"2393\"},{\"id\":\"2394\"},{\"id\":\"2395\"}]},\"id\":\"2222\",\"type\":\"DatetimeTicker\"},{\"attributes\":{\"mantissas\":[1,2,5],\"max_interval\":500.0,\"num_minor_ticks\":0},\"id\":\"2384\",\"type\":\"AdaptiveTicker\"},{\"attributes\":{},\"id\":\"2226\",\"type\":\"BasicTicker\"},{\"attributes\":{\"line_alpha\":0.1,\"line_color\":\"#1f77b4\",\"line_width\":2,\"x\":{\"field\":\"x\"},\"y\":{\"field\":\"y\"}},\"id\":\"2248\",\"type\":\"Line\"},{\"attributes\":{},\"id\":\"2232\",\"type\":\"ResetTool\"},{\"attributes\":{},\"id\":\"2398\",\"type\":\"UnionRenderers\"},{\"attributes\":{\"days\":[1,2,3,4,5,6,7,8,9,10,11,12,13,14,15,16,17,18,19,20,21,22,23,24,25,26,27,28,29,30,31]},\"id\":\"2387\",\"type\":\"DaysTicker\"},{\"attributes\":{\"base\":24,\"mantissas\":[1,2,4,6,8,12],\"max_interval\":43200000.0,\"min_interval\":3600000.0,\"num_minor_ticks\":0},\"id\":\"2386\",\"type\":\"AdaptiveTicker\"},{\"attributes\":{\"active_multi\":null,\"active_scroll\":{\"id\":\"2230\"},\"tools\":[{\"id\":\"2229\"},{\"id\":\"2230\"},{\"id\":\"2231\"},{\"id\":\"2232\"},{\"id\":\"2233\"},{\"id\":\"2234\"},{\"id\":\"2209\"}]},\"id\":\"2237\",\"type\":\"Toolbar\"},{\"attributes\":{\"overlay\":{\"id\":\"2236\"}},\"id\":\"2231\",\"type\":\"BoxZoomTool\"},{\"attributes\":{},\"id\":\"2215\",\"type\":\"DataRange1d\"},{\"attributes\":{\"data\":{\"x\":{\"__ndarray__\":\"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\",\"dtype\":\"float64\",\"order\":\"little\",\"shape\":[1095]},\"y\":{\"__ndarray__\":\"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\",\"dtype\":\"float64\",\"order\":\"little\",\"shape\":[1095]}},\"selected\":{\"id\":\"2397\"},\"selection_policy\":{\"id\":\"2396\"}},\"id\":\"2246\",\"type\":\"ColumnDataSource\"}],\"root_ids\":[\"2210\"]},\"title\":\"Bokeh Application\",\"version\":\"2.3.0\"}};\n",
       "  var render_items = [{\"docid\":\"c566b3eb-afc5-433d-86ef-c28de2cb459d\",\"root_ids\":[\"2210\"],\"roots\":{\"2210\":\"257649e1-f62f-413e-9404-87b8b62bcdfc\"}}];\n",
       "  root.Bokeh.embed.embed_items_notebook(docs_json, render_items);\n",
       "\n",
       "  }\n",
       "  if (root.Bokeh !== undefined) {\n",
       "    embed_document(root);\n",
       "  } else {\n",
       "    var attempts = 0;\n",
       "    var timer = setInterval(function(root) {\n",
       "      if (root.Bokeh !== undefined) {\n",
       "        clearInterval(timer);\n",
       "        embed_document(root);\n",
       "      } else {\n",
       "        attempts++;\n",
       "        if (attempts > 100) {\n",
       "          clearInterval(timer);\n",
       "          console.log(\"Bokeh: ERROR: Unable to run BokehJS code because BokehJS library is missing\");\n",
       "        }\n",
       "      }\n",
       "    }, 10, root)\n",
       "  }\n",
       "})(window);"
      ],
      "application/vnd.bokehjs_exec.v0+json": ""
     },
     "metadata": {
      "application/vnd.bokehjs_exec.v0+json": {
       "id": "2210"
      }
     },
     "output_type": "display_data"
    }
   ],
   "source": [
    "plot_ts(ts_test, preds)"
   ]
  },
  {
   "cell_type": "code",
   "execution_count": 111,
   "id": "electric-accident",
   "metadata": {},
   "outputs": [
    {
     "data": {
      "text/plain": [
       "5.6462140139568495"
      ]
     },
     "execution_count": 111,
     "metadata": {},
     "output_type": "execute_result"
    }
   ],
   "source": [
    "mse(ts_test, preds)"
   ]
  },
  {
   "cell_type": "markdown",
   "id": "selective-natural",
   "metadata": {},
   "source": []
  }
 ],
 "metadata": {
  "kernelspec": {
   "display_name": "Python 3",
   "language": "python",
   "name": "python3"
  },
  "language_info": {
   "codemirror_mode": {
    "name": "ipython",
    "version": 3
   },
   "file_extension": ".py",
   "mimetype": "text/x-python",
   "name": "python",
   "nbconvert_exporter": "python",
   "pygments_lexer": "ipython3",
   "version": "3.8.2"
  }
 },
 "nbformat": 4,
 "nbformat_minor": 5
}
