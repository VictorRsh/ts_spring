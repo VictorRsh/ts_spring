{
 "cells": [
  {
   "cell_type": "markdown",
   "metadata": {},
   "source": [
    "## Классификация при помощи CNN.\n",
    "На занятии по классификации временных рядов мы разобрали подход, основанный на мере расстояния DTW. Другое семейство алгоритмов основано на вычислении признаков по скользящему окну, например, автоматическая генерация признаков при помощи CNN. В задании вам предлагается разработать baseline решение для классификации рядов из датасета human activity recognition (https://archive.ics.uci.edu/ml/datasets/human+activity+recognition+using+smartphones) при помощи CNN сети. В качестве базовой архитектуры будем использовать наработки с семинара по предсказанию при помощи CNN, где в последнем слое используется softmax в качестве функции активации."
   ]
  },
  {
   "cell_type": "code",
   "execution_count": 70,
   "metadata": {},
   "outputs": [],
   "source": [
    "from typing import Tuple"
   ]
  },
  {
   "cell_type": "code",
   "execution_count": 71,
   "metadata": {},
   "outputs": [],
   "source": [
    "import numpy as np\n",
    "import pandas as pd\n",
    "import keras\n",
    "from keras.utils import to_categorical"
   ]
  },
  {
   "cell_type": "markdown",
   "metadata": {},
   "source": [
    "### 1. Считаем данные  \n",
    "- Фичи сразу решейпнем, добавив размерность для свёрточного слоя  \n",
    "- Лейблы принимают значения от 1 до 6. Для корректного расчёта моделью мы отнимем от ниx 1 (превратим в range(6)) и заэнкодим в категориальный таргет."
   ]
  },
  {
   "cell_type": "code",
   "execution_count": 72,
   "metadata": {},
   "outputs": [],
   "source": [
    "def read_data(train_or_test: str) -> Tuple[np.array, np.array]:\n",
    "    a = []\n",
    "    with open(f'../data/UCI_HAR_dataset/{train_or_test}/X_{train_or_test}.txt', 'r') as f:\n",
    "        for line in f:\n",
    "            a.append([float(i) for i in line.strip().split()])\n",
    "\n",
    "    X = np.vstack(a)\n",
    "    X = X.reshape((X.shape[0], X.shape[1], 1))\n",
    "\n",
    "    y = to_categorical(\n",
    "        np.loadtxt(f'../data/UCI_HAR_dataset/{train_or_test}/y_{train_or_test}.txt', delimiter=' ') - 1\n",
    "    )\n",
    "    \n",
    "    return X, y"
   ]
  },
  {
   "cell_type": "code",
   "execution_count": 73,
   "metadata": {},
   "outputs": [
    {
     "data": {
      "text/plain": [
       "array([[ 1.2467886 ],\n",
       "       [ 1.1749374 ],\n",
       "       [ 1.0688188 ],\n",
       "       [ 0.96431914],\n",
       "       [ 0.89521856],\n",
       "       [ 0.79047285],\n",
       "       [ 0.72088513],\n",
       "       [ 0.68801032],\n",
       "       [ 0.58798842],\n",
       "       [ 0.51849419],\n",
       "       [ 0.45331537],\n",
       "       [ 0.34685235],\n",
       "       [ 0.24508363],\n",
       "       [ 0.17568289],\n",
       "       [ 0.07438655],\n",
       "       [-0.03247996],\n",
       "       [-0.10185117],\n",
       "       [-0.21299372],\n",
       "       [-0.28569621],\n",
       "       [-0.39116525],\n",
       "       [-0.49635382],\n",
       "       [-0.56662551],\n",
       "       [-0.67082995],\n",
       "       [-0.73895132],\n",
       "       [-0.84422354],\n",
       "       [-0.94760624],\n",
       "       [-1.0139562 ],\n",
       "       [-1.0834258 ],\n",
       "       [-1.1895296 ],\n",
       "       [-1.2918052 ],\n",
       "       [-1.3558473 ],\n",
       "       [-1.3788956 ],\n",
       "       [-1.3689264 ],\n",
       "       [-1.3848004 ],\n",
       "       [-1.3285328 ],\n",
       "       [-1.311655  ],\n",
       "       [-1.3165314 ],\n",
       "       [-1.2953234 ],\n",
       "       [-1.2931239 ],\n",
       "       [-1.2865352 ],\n",
       "       [-1.3218604 ],\n",
       "       [-1.3072314 ],\n",
       "       [-1.2882918 ],\n",
       "       [-1.2533897 ],\n",
       "       [-1.2860972 ],\n",
       "       [-1.3036984 ],\n",
       "       [-1.2690423 ],\n",
       "       [-1.2257849 ],\n",
       "       [-1.2373976 ],\n",
       "       [-1.24128   ],\n",
       "       [-1.2395529 ],\n",
       "       [-1.1852929 ],\n",
       "       [-1.1278936 ],\n",
       "       [-1.1163006 ],\n",
       "       [-1.0606334 ],\n",
       "       [-0.99604012],\n",
       "       [-0.92890779],\n",
       "       [-0.87042104],\n",
       "       [-0.79991316],\n",
       "       [-0.74004863],\n",
       "       [-0.66652931],\n",
       "       [-0.62275036],\n",
       "       [-0.59036761],\n",
       "       [-0.60124715],\n",
       "       [-0.73785402],\n",
       "       [-0.82838399],\n",
       "       [-0.91186269],\n",
       "       [-0.94760624],\n",
       "       [-1.0271632 ],\n",
       "       [-1.0895618 ],\n",
       "       [-1.166314  ],\n",
       "       [-1.2747158 ],\n",
       "       [-1.3356678 ],\n",
       "       [-1.3720953 ],\n",
       "       [-1.4788092 ],\n",
       "       [-1.5370008 ],\n",
       "       [-1.6815741 ],\n",
       "       [-1.7777432 ],\n",
       "       [-1.8620338 ],\n",
       "       [-1.8355853 ],\n",
       "       [-1.7884407 ],\n",
       "       [-1.7328226 ],\n",
       "       [-1.6913269 ],\n",
       "       [-1.6229103 ],\n",
       "       [-1.5734529 ],\n",
       "       [-1.479754  ],\n",
       "       [-1.3848004 ],\n",
       "       [-1.3165314 ],\n",
       "       [-1.2603377 ],\n",
       "       [-1.162535  ],\n",
       "       [-1.072005  ],\n",
       "       [-1.0027962 ],\n",
       "       [-0.90761618],\n",
       "       [-0.80551285],\n",
       "       [-0.73895132],\n",
       "       [-0.63621323],\n",
       "       [-0.5659317 ],\n",
       "       [-0.52753101],\n",
       "       [-0.41675751],\n",
       "       [-0.34148645],\n",
       "       [-0.29569003],\n",
       "       [-0.24726107],\n",
       "       [-0.16778286],\n",
       "       [-0.04698109],\n",
       "       [-0.03368551],\n",
       "       [ 0.04874508],\n",
       "       [ 0.10599676],\n",
       "       [ 0.16534462],\n",
       "       [ 0.25071776],\n",
       "       [ 0.31309674],\n",
       "       [ 0.37733573],\n",
       "       [ 0.3333255 ],\n",
       "       [ 0.466483  ],\n",
       "       [ 0.55574345],\n",
       "       [ 0.69031318],\n",
       "       [ 0.82564068],\n",
       "       [ 0.91624446],\n",
       "       [ 0.98866156],\n",
       "       [ 1.0801658 ],\n",
       "       [ 1.1544921 ],\n",
       "       [ 1.2300683 ],\n",
       "       [ 1.3228667 ],\n",
       "       [ 1.400106  ],\n",
       "       [ 1.4784574 ],\n",
       "       [ 1.5723285 ],\n",
       "       [ 1.713418  ],\n",
       "       [ 1.8076582 ],\n",
       "       [ 1.8883813 ],\n",
       "       [ 1.9830938 ],\n",
       "       [ 2.125389  ],\n",
       "       [ 2.1479058 ],\n",
       "       [ 2.2433367 ],\n",
       "       [ 2.327278  ],\n",
       "       [ 2.3640253 ],\n",
       "       [ 2.3327842 ],\n",
       "       [ 2.3137757 ],\n",
       "       [ 2.2080115 ],\n",
       "       [ 2.1508385 ],\n",
       "       [ 2.0858319 ],\n",
       "       [ 1.940176  ],\n",
       "       [ 1.8431212 ],\n",
       "       [ 1.8695795 ],\n",
       "       [ 1.7827843 ],\n",
       "       [ 1.686448  ],\n",
       "       [ 1.6007009 ],\n",
       "       [ 1.5046893 ],\n",
       "       [ 1.4200789 ],\n",
       "       [ 1.3244462 ],\n",
       "       [ 1.1811964 ],\n",
       "       [ 1.0737887 ],\n",
       "       [ 1.0143276 ],\n",
       "       [ 0.87090567],\n",
       "       [ 0.77543045],\n",
       "       [ 0.69261112],\n",
       "       [ 0.61091861],\n",
       "       [ 0.5163734 ],\n",
       "       [ 0.43633423],\n",
       "       [ 0.34243853],\n",
       "       [ 0.20198372],\n",
       "       [ 0.1251971 ],\n",
       "       [ 0.09723801],\n",
       "       [ 0.17912242],\n",
       "       [ 0.21450184],\n",
       "       [ 0.23971521],\n",
       "       [ 0.27740241],\n",
       "       [ 0.36417793],\n",
       "       [ 0.39508941],\n",
       "       [ 0.43579296],\n",
       "       [ 0.47050317],\n",
       "       [ 0.51318974],\n",
       "       [ 0.55153138],\n",
       "       [ 0.59216605],\n",
       "       [ 0.63787881],\n",
       "       [ 0.63089642],\n",
       "       [ 0.62882483],\n",
       "       [ 0.62960229],\n",
       "       [ 0.58354508],\n",
       "       [ 0.53675962],\n",
       "       [ 0.5470536 ],\n",
       "       [ 0.50255623],\n",
       "       [ 0.46433268],\n",
       "       [ 0.42849073],\n",
       "       [ 0.38717701],\n",
       "       [ 0.34657679],\n",
       "       [ 0.26759065],\n",
       "       [ 0.22925392],\n",
       "       [ 0.14372824],\n",
       "       [ 0.16678145],\n",
       "       [ 0.23943473],\n",
       "       [ 0.30002752],\n",
       "       [ 0.44226852],\n",
       "       [ 0.53728612],\n",
       "       [ 0.68007824],\n",
       "       [ 0.77543045],\n",
       "       [ 0.85931755],\n",
       "       [ 1.0030692 ],\n",
       "       [ 1.0990266 ],\n",
       "       [ 1.2431276 ],\n",
       "       [ 1.3874206 ],\n",
       "       [ 1.4837126 ],\n",
       "       [ 1.5703897 ],\n",
       "       [ 1.6669868 ],\n",
       "       [ 1.6408632 ],\n",
       "       [ 1.6255157 ],\n",
       "       [ 1.7159374 ],\n",
       "       [ 1.8622084 ],\n",
       "       [ 1.9176837 ],\n",
       "       [ 2.063876  ],\n",
       "       [ 2.1613785 ],\n",
       "       [ 2.2240577 ],\n",
       "       [ 2.2394839 ],\n",
       "       [ 2.2080115 ],\n",
       "       [ 2.1783252 ],\n",
       "       [ 2.140082  ],\n",
       "       [ 2.0543595 ],\n",
       "       [ 2.0287033 ],\n",
       "       [ 1.9330903 ],\n",
       "       [ 1.8496952 ],\n",
       "       [ 1.8146848 ],\n",
       "       [ 1.7329333 ],\n",
       "       [ 1.6521363 ],\n",
       "       [ 1.5578716 ],\n",
       "       [ 1.4167525 ],\n",
       "       [ 1.3379533 ],\n",
       "       [ 1.2445005 ],\n",
       "       [ 1.1046706 ],\n",
       "       [ 1.0116951 ],\n",
       "       [ 0.93572529],\n",
       "       [ 0.84349769],\n",
       "       [ 0.76939774],\n",
       "       [ 0.67802633],\n",
       "       [ 0.54151296],\n",
       "       [ 0.47050317],\n",
       "       [ 0.3806178 ],\n",
       "       [ 0.3119896 ],\n",
       "       [ 0.24508363],\n",
       "       [ 0.15728953],\n",
       "       [ 0.13649982],\n",
       "       [ 0.07379607],\n",
       "       [-0.0542538 ],\n",
       "       [-0.13885932],\n",
       "       [-0.19660798],\n",
       "       [-0.27926493],\n",
       "       [-0.3333231 ],\n",
       "       [-0.38487667],\n",
       "       [-0.43381246],\n",
       "       [-0.51105178],\n",
       "       [-0.5872184 ],\n",
       "       [-0.62983116],\n",
       "       [-0.66939312],\n",
       "       [-0.74041275],\n",
       "       [-0.84422354],\n",
       "       [-0.91147888],\n",
       "       [-1.0139562 ],\n",
       "       [-1.1101104 ],\n",
       "       [-1.1717858 ],\n",
       "       [-1.2707842 ],\n",
       "       [-1.3289757 ],\n",
       "       [-1.4256023 ],\n",
       "       [-1.5211268 ],\n",
       "       [-1.5891694 ],\n",
       "       [-1.6657592 ],\n",
       "       [-1.7130171 ],\n",
       "       [-1.7125004 ],\n",
       "       [-1.752269  ],\n",
       "       [-1.8051266 ],\n",
       "       [-1.8493238 ],\n",
       "       [-1.8143282 ],\n",
       "       [-1.6708471 ],\n",
       "       [-1.5749241 ],\n",
       "       [-1.4887342 ],\n",
       "       [-1.382527  ],\n",
       "       [-1.3240797 ],\n",
       "       [-1.2533897 ],\n",
       "       [-1.1802198 ],\n",
       "       [-1.1516357 ],\n",
       "       [-1.1031084 ],\n",
       "       [-1.0671286 ],\n",
       "       [-0.98336454],\n",
       "       [-0.91843667],\n",
       "       [-0.8085046 ],\n",
       "       [-0.67333948],\n",
       "       [-0.58266681],\n",
       "       [-0.57324378],\n",
       "       [-0.54408405],\n",
       "       [-0.59106634],\n",
       "       [-0.61921734],\n",
       "       [-0.69242173],\n",
       "       [-0.72616257],\n",
       "       [-0.7842852 ],\n",
       "       [-0.85065974],\n",
       "       [-0.90723237],\n",
       "       [-0.92696414],\n",
       "       [-0.98099771],\n",
       "       [-1.0380083 ],\n",
       "       [-1.0920222 ],\n",
       "       [-1.1428672 ],\n",
       "       [-1.1916504 ],\n",
       "       [-1.1852929 ],\n",
       "       [-1.2305087 ],\n",
       "       [-1.2137884 ],\n",
       "       [-1.1984458 ],\n",
       "       [-1.2279303 ],\n",
       "       [-1.193348  ],\n",
       "       [-1.166314  ],\n",
       "       [-1.1827588 ],\n",
       "       [-1.1950456 ],\n",
       "       [-1.2223503 ],\n",
       "       [-1.2279303 ],\n",
       "       [-1.2512246 ],\n",
       "       [-1.2499256 ],\n",
       "       [-1.2690423 ],\n",
       "       [-1.2607707 ],\n",
       "       [-1.2755867 ],\n",
       "       [-1.3289757 ],\n",
       "       [-1.240847  ],\n",
       "       [-1.1793783 ],\n",
       "       [-1.0785298 ],\n",
       "       [-1.0091684 ],\n",
       "       [-0.90761618],\n",
       "       [-0.83818099],\n",
       "       [-0.73602354],\n",
       "       [-0.63337402],\n",
       "       [-0.5659317 ],\n",
       "       [-0.46207663],\n",
       "       [-0.3924889 ],\n",
       "       [-0.28827462],\n",
       "       [-0.18248082],\n",
       "       [-0.0770659 ],\n",
       "       [-0.00752246],\n",
       "       [ 0.06497336],\n",
       "       [ 0.17109193],\n",
       "       [ 0.24056648],\n",
       "       [ 0.34685235],\n",
       "       [ 0.4490098 ],\n",
       "       [ 0.51849419],\n",
       "       [ 0.6210453 ],\n",
       "       [ 0.7219037 ],\n",
       "       [ 0.72088513],\n",
       "       [ 0.75605788],\n",
       "       [ 0.82712671],\n",
       "       [ 0.93061766],\n",
       "       [ 1.0339069 ],\n",
       "       [ 1.0343842 ],\n",
       "       [ 1.1412064 ],\n",
       "       [ 1.2135201 ],\n",
       "       [ 1.1152352 ],\n",
       "       [ 1.0510356 ],\n",
       "       [ 0.95682008],\n",
       "       [ 0.86523709],\n",
       "       [ 0.805717  ],\n",
       "       [ 0.7188529 ],\n",
       "       [ 0.63891215],\n",
       "       [ 0.54151296],\n",
       "       [ 0.44469932],\n",
       "       [ 0.36417793],\n",
       "       [ 0.28020225],\n",
       "       [ 0.26759065],\n",
       "       [ 0.21563851],\n",
       "       [ 0.12287456],\n",
       "       [ 0.03838221],\n",
       "       [-0.01922867],\n",
       "       [-0.10185117],\n",
       "       [-0.22438008],\n",
       "       [-0.34508344],\n",
       "       [-0.41376084],\n",
       "       [-0.53269276],\n",
       "       [-0.61074891],\n",
       "       [-0.71851097],\n",
       "       [-0.78763124],\n",
       "       [-0.87690645],\n",
       "       [-0.82499859],\n",
       "       [-0.81149635],\n",
       "       [-0.68700902],\n",
       "       [-0.67047074],\n",
       "       [-0.60969097],\n",
       "       [-0.61285987],\n",
       "       [-0.59106634],\n",
       "       [-0.52340259],\n",
       "       [-0.49874525],\n",
       "       [-0.49158572],\n",
       "       [-0.52718656],\n",
       "       [-0.45128074],\n",
       "       [-0.31153942],\n",
       "       [-0.27926493],\n",
       "       [-0.19880751],\n",
       "       [-0.13513932],\n",
       "       [-0.05273824],\n",
       "       [ 0.0309668 ],\n",
       "       [ 0.07115369],\n",
       "       [ 0.18112512],\n",
       "       [ 0.22329995],\n",
       "       [ 0.31115309],\n",
       "       [ 0.39999529],\n",
       "       [ 0.466483  ],\n",
       "       [ 0.53755184],\n",
       "       [ 0.58694033],\n",
       "       [ 0.59607796],\n",
       "       [ 0.67597443],\n",
       "       [ 0.73103149],\n",
       "       [ 0.84002864],\n",
       "       [ 0.92160796],\n",
       "       [ 0.97710789],\n",
       "       [ 0.9925095 ],\n",
       "       [ 0.91624446],\n",
       "       [ 0.91014287],\n",
       "       [ 0.86301788],\n",
       "       [ 0.79522619],\n",
       "       [ 0.70766336],\n",
       "       [ 0.66570997],\n",
       "       [ 0.60597829],\n",
       "       [ 0.56835014],\n",
       "       [ 0.45869363],\n",
       "       [ 0.42307802],\n",
       "       [ 0.34298965],\n",
       "       [ 0.26422493],\n",
       "       [ 0.20198372],\n",
       "       [ 0.1251971 ],\n",
       "       [ 0.09723801],\n",
       "       [ 0.02383187],\n",
       "       [-0.03610155],\n",
       "       [-0.06975382],\n",
       "       [-0.09817053],\n",
       "       [-0.11414786],\n",
       "       [-0.07889638],\n",
       "       [-0.08989893],\n",
       "       [-0.10185117],\n",
       "       [-0.10830213],\n",
       "       [-0.10953229],\n",
       "       [-0.10676689],\n",
       "       [-0.10185117],\n",
       "       [-0.14350933],\n",
       "       [-0.12771899],\n",
       "       [-0.11414786],\n",
       "       [-0.04970713],\n",
       "       [ 0.0166871 ],\n",
       "       [ 0.0369011 ],\n",
       "       [ 0.09577658],\n",
       "       [ 0.16678145],\n",
       "       [ 0.23943473],\n",
       "       [ 0.31365278],\n",
       "       [ 0.34243853],\n",
       "       [ 0.45116012],\n",
       "       [ 0.48228319],\n",
       "       [ 0.53253278],\n",
       "       [ 0.59607796],\n",
       "       [ 0.6512974 ],\n",
       "       [ 0.69031318],\n",
       "       [ 0.75202295],\n",
       "       [ 0.81743305],\n",
       "       [ 0.86301788],\n",
       "       [ 0.93426386],\n",
       "       [ 0.87385805],\n",
       "       [ 0.78946904],\n",
       "       [ 0.70562129],\n",
       "       [ 0.59607796],\n",
       "       [ 0.51955705],\n",
       "       [ 0.47050317],\n",
       "       [ 0.39999529],\n",
       "       [ 0.3333255 ],\n",
       "       [ 0.29110147],\n",
       "       [ 0.23123694],\n",
       "       [ 0.12142297],\n",
       "       [ 0.08407037],\n",
       "       [ 0.02026441],\n",
       "       [-0.03096932],\n",
       "       [-0.10922721],\n",
       "       [-0.18593019],\n",
       "       [-0.24726107],\n",
       "       [-0.30830164],\n",
       "       [-0.4499374 ],\n",
       "       [-0.54408405],\n",
       "       [-0.56037138],\n",
       "       [-0.63657244],\n",
       "       [-0.64688119],\n",
       "       [-0.67333948],\n",
       "       [-0.69856269],\n",
       "       [-0.70109682],\n",
       "       [-0.76652168],\n",
       "       [-0.82951082],\n",
       "       [-0.84762863],\n",
       "       [-0.97389231],\n",
       "       [-0.98890519],\n",
       "       [-1.0428403 ],\n",
       "       [-0.98534264],\n",
       "       [-0.87690645],\n",
       "       [-0.79693125],\n",
       "       [-0.68809156],\n",
       "       [-0.57917315],\n",
       "       [-0.49772176],\n",
       "       [-0.37398237],\n",
       "       [-0.29052828],\n",
       "       [-0.16403825],\n",
       "       [-0.10308133],\n",
       "       [-0.01682247],\n",
       "       [ 0.09314896],\n",
       "       [ 0.14083982],\n",
       "       [ 0.14806333],\n",
       "       [ 0.22613916],\n",
       "       [ 0.28020225],\n",
       "       [ 0.40353323],\n",
       "       [ 0.45762093],\n",
       "       [ 0.55363742],\n",
       "       [ 0.65026899],\n",
       "       [ 0.7188529 ],\n",
       "       [ 0.805717  ],\n",
       "       [ 0.86523709],\n",
       "       [ 0.95682008],\n",
       "       [ 1.0572061 ],\n",
       "       [ 1.1264838 ],\n",
       "       [ 1.2218016 ],\n",
       "       [ 1.2866704 ]])"
      ]
     },
     "execution_count": 73,
     "metadata": {},
     "output_type": "execute_result"
    }
   ],
   "source": [
    "X_train[0]"
   ]
  },
  {
   "cell_type": "code",
   "execution_count": 74,
   "metadata": {},
   "outputs": [],
   "source": [
    "X_train, y_train = read_data('train')\n",
    "X_test, y_test = read_data('test')"
   ]
  },
  {
   "cell_type": "code",
   "execution_count": 16,
   "metadata": {},
   "outputs": [
    {
     "data": {
      "text/plain": [
       "<AxesSubplot:>"
      ]
     },
     "execution_count": 16,
     "metadata": {},
     "output_type": "execute_result"
    },
    {
     "data": {
      "image/png": "[encoded data removed]",
      "text/plain": [
       "<Figure size 432x288 with 1 Axes>"
      ]
     },
     "metadata": {
      "needs_background": "light"
     },
     "output_type": "display_data"
    }
   ],
   "source": [
    "pd.Series(X_train[0].flatten()).plot()\n",
    "pd.Series(X_train[1].flatten()).plot()\n",
    "pd.Series(X_train[2].flatten()).plot()"
   ]
  },
  {
   "cell_type": "code",
   "execution_count": 88,
   "metadata": {},
   "outputs": [
    {
     "data": {
      "text/plain": [
       "<AxesSubplot:>"
      ]
     },
     "execution_count": 88,
     "metadata": {},
     "output_type": "execute_result"
    },
    {
     "data": {
      "image/png": "[encoded data removed]",
      "text/plain": [
       "<Figure size 432x288 with 1 Axes>"
      ]
     },
     "metadata": {
      "needs_background": "light"
     },
     "output_type": "display_data"
    }
   ],
   "source": [
    "pd.Series(X_train[30].flatten()).plot()\n",
    "pd.Series(X_train[31].flatten()).plot()\n",
    "pd.Series(X_train[32].flatten()).plot()"
   ]
  },
  {
   "cell_type": "code",
   "execution_count": 17,
   "metadata": {},
   "outputs": [
    {
     "data": {
      "text/plain": [
       "(array([0., 0., 0., 0., 1., 0.], dtype=float32),\n",
       " array([0., 0., 0., 0., 1., 0.], dtype=float32),\n",
       " array([0., 0., 0., 0., 1., 0.], dtype=float32))"
      ]
     },
     "execution_count": 17,
     "metadata": {},
     "output_type": "execute_result"
    }
   ],
   "source": [
    "y_train[0], y_train[1], y_train[2]"
   ]
  },
  {
   "cell_type": "markdown",
   "metadata": {},
   "source": [
    "### 2. Постройте базовую CNN модель."
   ]
  },
  {
   "cell_type": "code",
   "execution_count": 18,
   "metadata": {},
   "outputs": [],
   "source": [
    "from keras.models import Sequential\n",
    "from keras.layers import Dense, Flatten, Conv1D, MaxPooling1D, Dropout\n",
    "from keras.callbacks import Callback\n",
    "from tqdm.notebook import tqdm"
   ]
  },
  {
   "cell_type": "markdown",
   "metadata": {},
   "source": [
    "1. Задайте модель Sequential\n",
    "2. Добавьте входной сверточный слой Conv1D (укажите нужный input_shape)\n",
    "3. Добавьте слой Flatten, чтобы можно было передать выход со сверточного слоя на вход полносвязному\n",
    "4. Добавьте полносвязный слой с софтмаксом\n",
    "5. Соберите модель, в качестве метода оптимизации укажите adam, в качестве функции потерь категориальную кроссэнтропию.\n",
    "6. Обучите модель"
   ]
  },
  {
   "cell_type": "code",
   "execution_count": 48,
   "metadata": {},
   "outputs": [],
   "source": [
    "# your code here\n",
    "model = Sequential()\n",
    "model.add(Conv1D(64, 2, activation='relu', input_shape=(561,1)))\n",
    "model.add(Flatten())\n",
    "model.add(Dense(6, activation='softmax'))\n",
    "model.compile(optimizer='adam', loss='categorical_crossentropy')"
   ]
  },
  {
   "cell_type": "code",
   "execution_count": 50,
   "metadata": {},
   "outputs": [],
   "source": [
    "# для удобства вывода прогресса, данный класс можете добавить \n",
    "\n",
    "class my_tqdm_callback(Callback):\n",
    "    def on_train_begin(self, logs=None):\n",
    "        print('Start train')\n",
    "    def on_epoch_end(self, epoch, logs=None):\n",
    "        pbar.update()\n",
    "    def on_train_end(self, logs=None):\n",
    "        print('Train completed successfully!')"
   ]
  },
  {
   "cell_type": "code",
   "execution_count": 71,
   "metadata": {},
   "outputs": [
    {
     "data": {
      "application/vnd.jupyter.widget-view+json": {
       "model_id": "52a6f13147224048b57cd601507eb018",
       "version_major": 2,
       "version_minor": 0
      },
      "text/plain": [
       "CNN train:   0%|          | 0/100 [00:00<?, ?it/s]"
      ]
     },
     "metadata": {},
     "output_type": "display_data"
    },
    {
     "name": "stdout",
     "output_type": "stream",
     "text": [
      "Start train\n",
      "Train completed successfully!\n"
     ]
    }
   ],
   "source": [
    "EPOCHS = 100\n",
    "pbar = tqdm(total=EPOCHS, desc='CNN train')\n",
    "model.fit(X_train, y_train, epochs=EPOCHS, verbose=0, callbacks=[my_tqdm_callback()]);"
   ]
  },
  {
   "cell_type": "code",
   "execution_count": 72,
   "metadata": {},
   "outputs": [
    {
     "name": "stdout",
     "output_type": "stream",
     "text": [
      "              precision    recall  f1-score   support\n",
      "\n",
      "           0       0.94      0.99      0.97       496\n",
      "           1       0.96      0.95      0.95       471\n",
      "           2       1.00      0.96      0.98       420\n",
      "           3       0.98      0.89      0.93       491\n",
      "           4       0.91      0.98      0.94       532\n",
      "           5       1.00      1.00      1.00       537\n",
      "\n",
      "    accuracy                           0.96      2947\n",
      "   macro avg       0.96      0.96      0.96      2947\n",
      "weighted avg       0.96      0.96      0.96      2947\n",
      "\n",
      "Confusion matrix:\n",
      " [[491   4   1   0   0   0]\n",
      " [ 24 447   0   0   0   0]\n",
      " [  5  13 402   0   0   0]\n",
      " [  0   4   0 436  51   0]\n",
      " [  1   0   0   9 522   0]\n",
      " [  0   0   0   0   0 537]]\n"
     ]
    }
   ],
   "source": [
    "from sklearn.metrics import classification_report, confusion_matrix\n",
    "\n",
    "pred = model.predict(X_test)\n",
    "print(classification_report(np.argmax(y_test, axis=1), np.argmax(pred, axis=1)))\n",
    "print('Confusion matrix:\\n',confusion_matrix(np.argmax(y_test, axis=1), np.argmax(pred, axis=1)))"
   ]
  },
  {
   "cell_type": "markdown",
   "metadata": {},
   "source": [
    "### 3. Попробуйте добавить дополнительный свероточный слой, MaxPooling, и пару промежуточных полносвязный слоев. "
   ]
  },
  {
   "cell_type": "code",
   "execution_count": 20,
   "metadata": {},
   "outputs": [],
   "source": [
    "model = Sequential()\n",
    "model.add(Conv1D(64, 2, activation='relu', input_shape=(561,1)))\n",
    "model.add(Conv1D(32, 4, activation='relu'))\n",
    "model.add(MaxPooling1D())\n",
    "model.add(Flatten())\n",
    "model.add(Dense(128, activation='relu'))\n",
    "model.add(Dense(64, activation='relu'))\n",
    "model.add(Dropout(rate=.1))\n",
    "model.add(Dense(32, activation='relu'))\n",
    "model.add(Dense(6, activation='softmax'))\n",
    "model.compile(optimizer='adam', loss='categorical_crossentropy')"
   ]
  },
  {
   "cell_type": "code",
   "execution_count": null,
   "metadata": {},
   "outputs": [],
   "source": [
    "EPOCHS = 100\n",
    "pbar = tqdm(total=EPOCHS, desc='CNN train')\n",
    "model.fit(X_train, y_train, epochs=EPOCHS, verbose=0, callbacks=[my_tqdm_callback()]);"
   ]
  },
  {
   "cell_type": "code",
   "execution_count": 12,
   "metadata": {
    "scrolled": true
   },
   "outputs": [
    {
     "name": "stdout",
     "output_type": "stream",
     "text": [
      "              precision    recall  f1-score   support\n",
      "\n",
      "           0       0.95      0.98      0.96       496\n",
      "           1       0.94      0.95      0.95       471\n",
      "           2       1.00      0.95      0.98       420\n",
      "           3       0.97      0.90      0.93       491\n",
      "           4       0.91      0.97      0.94       532\n",
      "           5       1.00      1.00      1.00       537\n",
      "\n",
      "    accuracy                           0.96      2947\n",
      "   macro avg       0.96      0.96      0.96      2947\n",
      "weighted avg       0.96      0.96      0.96      2947\n",
      "\n",
      "Confusion matrix:\n",
      " [[485  11   0   0   0   0]\n",
      " [ 23 448   0   0   0   0]\n",
      " [  4  16 400   0   0   0]\n",
      " [  0   0   0 440  51   0]\n",
      " [  1   0   0  15 516   0]\n",
      " [  0   0   0   0   0 537]]\n"
     ]
    }
   ],
   "source": [
    "from sklearn.metrics import classification_report, confusion_matrix\n",
    "\n",
    "pred = model.predict(X_test)\n",
    "print(classification_report(np.argmax(y_test, axis=1), np.argmax(pred, axis=1)))\n",
    "print('Confusion matrix:\\n',confusion_matrix(np.argmax(y_test, axis=1), np.argmax(pred, axis=1)))"
   ]
  },
  {
   "cell_type": "markdown",
   "metadata": {},
   "source": [
    "### 4. Попробуйте сравнить качество с базовым dtw, используя fastdtw."
   ]
  },
  {
   "cell_type": "code",
   "execution_count": 84,
   "metadata": {},
   "outputs": [],
   "source": [
    "import fastdtw"
   ]
  },
  {
   "cell_type": "markdown",
   "metadata": {},
   "source": [
    "#### Напишите функцию get_label, возвращающую соответсвующий класс для ряда из X_test\n",
    "* принимает на вход ряд из X_test\n",
    "* проходится по всем рядам из X_train\n",
    "* считает dtw\n",
    "* возвращает y из y_train, соответвующий минимальному dtw"
   ]
  },
  {
   "cell_type": "code",
   "execution_count": 85,
   "metadata": {},
   "outputs": [],
   "source": [
    "def get_label(ts_test: np.array) -> np.array:\n",
    "    for ts_ref, y_ref in zip(X_train, y_train):\n",
    "        min_dtw = np.inf\n",
    "        min_y = None\n",
    "        dtw, _ = fastdtw.fastdtw(ts_test.flatten(), ts_ref.flatten())\n",
    "        if dtw < min_dtw:\n",
    "            min_dtw = dtw\n",
    "            min_y = y_ref\n",
    "    \n",
    "    return min_y"
   ]
  },
  {
   "cell_type": "code",
   "execution_count": 101,
   "metadata": {},
   "outputs": [
    {
     "data": {
      "text/plain": [
       "array([ 2.5717778e-01, -2.3285230e-02, -1.4653762e-02, -9.3840400e-01,\n",
       "       -9.2009078e-01, -6.6768331e-01, -9.5250112e-01, -9.2524867e-01,\n",
       "       -6.7430222e-01, -8.9408755e-01, -5.5457721e-01, -4.6622295e-01,\n",
       "        7.1720847e-01,  6.3550240e-01,  7.8949666e-01, -8.7776423e-01,\n",
       "       -9.9776606e-01, -9.9841381e-01, -9.3434525e-01, -9.7566897e-01,\n",
       "       -9.4982365e-01, -8.3047780e-01, -1.6808416e-01, -3.7899553e-01,\n",
       "        2.4621698e-01,  5.2120364e-01, -4.8779311e-01,  4.8228047e-01,\n",
       "       -4.5462113e-02,  2.1195505e-01, -1.3489443e-01,  1.3085848e-01,\n",
       "       -1.4176313e-02, -1.0597085e-01,  7.3544013e-02, -1.7151642e-01,\n",
       "        4.0062978e-02,  7.6988933e-02, -4.9054573e-01, -7.0900265e-01,\n",
       "        9.3648925e-01, -2.8271916e-01,  1.1528825e-01, -9.2542727e-01,\n",
       "       -9.3701413e-01, -5.6428842e-01, -9.3001992e-01, -9.3782195e-01,\n",
       "       -6.0558770e-01,  9.0608259e-01, -2.7924413e-01,  1.5289519e-01,\n",
       "        9.4446140e-01, -2.6215956e-01, -7.6161676e-02, -1.7826920e-02,\n",
       "        8.2929682e-01, -8.6462060e-01, -9.6779531e-01, -9.4972666e-01,\n",
       "       -9.4611920e-01, -7.5971815e-01, -4.2497535e-01, -1.0000000e+00,\n",
       "        2.1922731e-01, -4.3025357e-01,  4.3104828e-01, -4.3183892e-01,\n",
       "        4.3277380e-01, -7.9546772e-01,  7.8131389e-01, -7.8039147e-01,\n",
       "        7.8527158e-01, -9.8441024e-01,  9.8717986e-01, -9.8941477e-01,\n",
       "        9.8768613e-01,  9.8058028e-01, -9.9635177e-01, -9.6011706e-01,\n",
       "        7.2046007e-02,  4.5754401e-02, -1.0604266e-01, -9.0668276e-01,\n",
       "       -9.3801639e-01, -9.3593583e-01, -9.1608093e-01, -9.3672546e-01,\n",
       "       -9.4905379e-01, -9.0322415e-01, -9.4981833e-01, -8.9140347e-01,\n",
       "        8.9847935e-01,  9.5018164e-01,  9.4615279e-01, -9.3067288e-01,\n",
       "       -9.9504593e-01, -9.9749551e-01, -9.9701560e-01, -9.3641600e-01,\n",
       "       -9.4687413e-01, -9.6877461e-01, -8.5174151e-02, -3.1026304e-01,\n",
       "       -5.1028758e-01,  5.2148173e-01, -2.2588966e-01,  4.9172843e-01,\n",
       "        3.1275555e-01,  2.2979680e-01,  1.1395925e-01,  2.1987861e-01,\n",
       "        4.2297454e-01, -8.2633177e-02,  1.4042653e-01, -1.9623228e-01,\n",
       "        7.2357939e-02, -2.6486023e-01,  3.5852150e-02, -3.4973525e-01,\n",
       "        1.1997616e-01, -9.1792335e-02,  1.8962854e-01, -8.8308911e-01,\n",
       "       -8.1616360e-01, -9.4088123e-01, -8.8861231e-01, -8.5780102e-01,\n",
       "       -9.4581827e-01, -6.6341057e-01, -7.1343663e-01, -6.4867861e-01,\n",
       "        8.3710039e-01,  8.2525677e-01,  8.1097714e-01, -7.9649994e-01,\n",
       "       -9.7961636e-01, -9.8290006e-01, -9.9403684e-01, -8.8655788e-01,\n",
       "       -9.0610426e-01, -9.5804876e-01,  7.7403279e-01, -2.6770588e-01,\n",
       "        4.5224806e-01, -7.8451267e-02, -1.2578616e-02,  2.3598156e-01,\n",
       "       -1.9904751e-01,  3.3917840e-02, -8.0780533e-02,  6.9987153e-03,\n",
       "        2.4488551e-01,  2.1651661e-01, -2.7968077e-01,  2.4973875e-01,\n",
       "        1.7719752e-02,  6.4846454e-01, -2.3693109e-01, -3.0173469e-01,\n",
       "       -2.0489621e-01, -1.7448771e-01, -9.3389340e-02, -9.0122415e-01,\n",
       "       -9.1086005e-01, -9.3925042e-01, -9.1036271e-01, -9.2735675e-01,\n",
       "       -9.5355413e-01, -8.6791431e-01, -9.1349778e-01, -8.9757791e-01,\n",
       "        9.0493669e-01,  9.1730839e-01,  9.4761220e-01, -9.2960905e-01,\n",
       "       -9.9468622e-01, -9.9579057e-01, -9.9781265e-01, -9.3654081e-01,\n",
       "       -9.5887957e-01, -9.7034831e-01,  3.6619120e-02,  7.6459933e-02,\n",
       "       -1.9712605e-01,  1.0651426e-01, -2.0811895e-02,  1.9325784e-01,\n",
       "        3.0447875e-01,  1.1572923e-01,  5.4149600e-02,  6.8951237e-02,\n",
       "        1.9704960e-01,  3.0992826e-01, -2.1265711e-01,  1.7317814e-01,\n",
       "        1.4584454e-01,  1.2400875e-01, -1.5534634e-01, -3.2343727e-01,\n",
       "       -8.6692938e-01, -7.0519112e-01, -7.4402172e-01, -7.6079564e-01,\n",
       "       -9.8164870e-01, -8.6692938e-01, -9.8016578e-01, -8.5947423e-01,\n",
       "        2.5510436e-01,  5.3779695e-02, -2.0414449e-01,  6.1052755e-01,\n",
       "       -5.6444932e-01, -8.6692938e-01, -7.0519112e-01, -7.4402172e-01,\n",
       "       -7.6079564e-01, -9.8164870e-01, -8.6692938e-01, -9.8016578e-01,\n",
       "       -8.5947423e-01,  2.5510436e-01,  5.3779695e-02, -2.0414449e-01,\n",
       "        6.1052755e-01, -5.6444932e-01, -9.2976655e-01, -8.9599425e-01,\n",
       "       -9.0041731e-01, -9.0300439e-01, -9.7501109e-01, -9.2976655e-01,\n",
       "       -9.9560772e-01, -9.1412066e-01, -1.2955231e-01,  2.3891093e-01,\n",
       "       -3.4559715e-01,  3.2646236e-01, -2.6304800e-01, -7.9554393e-01,\n",
       "       -7.6207322e-01, -7.8267232e-01, -7.1659365e-01, -7.6419261e-01,\n",
       "       -7.9554393e-01, -9.7415212e-01, -8.3958101e-01,  6.6756269e-01,\n",
       "        3.5621137e-02, -1.6189398e-01,  1.5325006e-01, -6.7596040e-03,\n",
       "       -9.2519489e-01, -8.9434361e-01, -9.0014668e-01, -9.1673708e-01,\n",
       "       -9.7636665e-01, -9.2519489e-01, -9.9582422e-01, -9.1183750e-01,\n",
       "        3.3165431e-01,  5.1695316e-01, -5.1350400e-01,  4.1319806e-02,\n",
       "        1.1835012e-02, -9.1850969e-01, -9.1821319e-01, -7.8909145e-01,\n",
       "       -9.4829035e-01, -9.2513687e-01, -6.3631674e-01, -9.3068029e-01,\n",
       "       -9.2443848e-01, -7.2490255e-01, -9.6842407e-01, -9.4013675e-01,\n",
       "       -5.9718873e-01, -9.6613713e-01, -9.8445054e-01, -9.5208707e-01,\n",
       "       -8.6506318e-01, -9.9784371e-01, -9.9603625e-01, -9.4019503e-01,\n",
       "       -9.0484043e-01, -9.3381245e-01, -8.6938291e-01, -3.3967327e-01,\n",
       "       -4.8580324e-01, -1.6625765e-01, -1.0000000e+00, -1.0000000e+00,\n",
       "       -1.0000000e+00,  1.1116947e-02,  1.2125069e-01, -5.2294869e-01,\n",
       "       -5.7199950e-01, -8.9461236e-01, -3.3826592e-01, -6.8679745e-01,\n",
       "        1.8955250e-01, -1.1359571e-01, -9.9850627e-01, -9.9794262e-01,\n",
       "       -9.9559788e-01, -9.9503559e-01, -9.9597690e-01, -9.9148743e-01,\n",
       "       -9.9213116e-01, -9.9977512e-01, -9.9820395e-01, -9.9474673e-01,\n",
       "       -9.9430903e-01, -9.9469323e-01, -9.9802046e-01, -9.9372747e-01,\n",
       "       -9.9620895e-01, -9.9797615e-01, -9.9892091e-01, -9.9640106e-01,\n",
       "       -9.9755992e-01, -9.9506803e-01, -9.9735126e-01, -9.9823805e-01,\n",
       "       -9.9607053e-01, -9.9792459e-01, -9.9635664e-01, -9.9763980e-01,\n",
       "       -9.9622004e-01, -9.9622539e-01, -9.2470550e-01, -9.9409728e-01,\n",
       "       -9.9532347e-01, -9.9896944e-01, -9.9790162e-01, -9.9492962e-01,\n",
       "       -9.8926072e-01, -9.8008540e-01, -9.3793669e-01, -9.9667757e-01,\n",
       "       -9.9702540e-01, -9.8642738e-01, -9.3920079e-01, -9.9843184e-01,\n",
       "       -8.9963316e-01, -9.3748500e-01, -9.2355140e-01, -9.2442913e-01,\n",
       "       -9.4321038e-01, -9.4789152e-01, -8.9661455e-01, -9.3830911e-01,\n",
       "       -9.4257570e-01, -9.4863426e-01, -9.5832542e-01, -9.5881686e-01,\n",
       "       -9.4388241e-01, -9.8730333e-01, -9.7846559e-01, -9.0527425e-01,\n",
       "       -9.9503609e-01, -9.9749931e-01, -9.9703070e-01, -8.8707736e-01,\n",
       "       -9.3581956e-01, -9.5365327e-01, -4.7066160e-01, -6.7217180e-01,\n",
       "       -5.9627404e-01, -5.2000000e-01,  8.0000000e-02,  3.2000000e-01,\n",
       "        4.5100539e-01,  1.3716703e-01, -1.8029913e-01, -5.8008614e-01,\n",
       "       -9.0807003e-01, -6.2552686e-01, -9.4275716e-01, -6.6191006e-01,\n",
       "       -9.1153211e-01, -9.9901148e-01, -9.9763006e-01, -9.9598477e-01,\n",
       "       -9.9470846e-01, -9.9557158e-01, -9.8787651e-01, -9.8644523e-01,\n",
       "       -9.9820517e-01, -9.9804041e-01, -9.9449682e-01, -9.9204962e-01,\n",
       "       -9.8633303e-01, -9.9689353e-01, -9.9076269e-01, -9.9940916e-01,\n",
       "       -9.9864806e-01, -9.9874875e-01, -9.9640627e-01, -9.9717222e-01,\n",
       "       -9.9453020e-01, -9.9791979e-01, -9.9996970e-01, -9.9864167e-01,\n",
       "       -9.9740170e-01, -9.9541085e-01, -9.9818240e-01, -9.9846306e-01,\n",
       "       -9.9599581e-01, -9.9363885e-01, -9.9783780e-01, -9.9712931e-01,\n",
       "       -9.9874950e-01, -9.9670876e-01, -9.9510966e-01, -9.9848581e-01,\n",
       "       -9.9909354e-01, -9.9592463e-01, -9.9795094e-01, -9.9601290e-01,\n",
       "       -9.9846008e-01, -9.9626705e-01, -9.9770046e-01, -8.2355788e-01,\n",
       "       -8.0791598e-01, -9.1791256e-01, -9.0326274e-01, -8.2267700e-01,\n",
       "       -9.5616508e-01, -8.6512704e-01, -8.3180082e-01, -9.4105617e-01,\n",
       "       -9.0479801e-01, -8.7925663e-01, -9.6778849e-01, -8.7859934e-01,\n",
       "       -9.4832915e-01, -9.1968517e-01, -8.2847203e-01, -9.9294953e-01,\n",
       "       -9.8266311e-01, -9.9799327e-01, -8.7889440e-01, -8.3815197e-01,\n",
       "       -9.2913995e-01,  7.5814806e-04,  2.0014368e-01, -2.5338416e-01,\n",
       "       -1.0000000e+00, -9.3548387e-01, -9.3103448e-01,  1.8403457e-01,\n",
       "       -5.9322857e-02,  4.3810716e-01, -3.9542276e-01, -6.9876160e-01,\n",
       "       -3.8745724e-01, -7.8639417e-01, -4.8565359e-01, -7.8681512e-01,\n",
       "       -9.9462908e-01, -9.9046914e-01, -9.9277782e-01, -9.9567969e-01,\n",
       "       -9.8707772e-01, -9.8665097e-01, -9.8411445e-01, -9.8525021e-01,\n",
       "       -9.9355255e-01, -9.9243025e-01, -9.8560582e-01, -9.8461702e-01,\n",
       "       -9.9326921e-01, -9.9272545e-01, -9.7792782e-01, -9.9485223e-01,\n",
       "       -9.9781915e-01, -9.9484295e-01, -9.9240991e-01, -9.8812267e-01,\n",
       "       -9.9043323e-01, -9.8796127e-01, -9.8179096e-01, -9.9639919e-01,\n",
       "       -9.9145229e-01, -9.8805999e-01, -9.8204835e-01, -9.9337999e-01,\n",
       "       -9.9887769e-01, -9.9836665e-01, -9.9846730e-01, -9.9837462e-01,\n",
       "       -9.9890591e-01, -9.9589361e-01, -9.9312836e-01, -9.9547231e-01,\n",
       "       -9.9838710e-01, -9.9775430e-01, -9.9809593e-01, -9.9414765e-01,\n",
       "       -9.9819058e-01, -9.9829005e-01, -7.9094643e-01, -7.1107400e-01,\n",
       "       -7.2670699e-01, -7.7769715e-01, -9.4488134e-01, -7.9094643e-01,\n",
       "       -9.5398356e-01, -8.7354261e-01, -1.7459288e-01, -1.0000000e+00,\n",
       "       -4.8345254e-01,  1.1040681e-02, -3.8451662e-01, -8.9506118e-01,\n",
       "       -8.9635958e-01, -8.8819740e-01, -9.2846566e-01, -8.9809981e-01,\n",
       "       -8.9506118e-01, -9.9347143e-01, -9.2147669e-01, -4.8461929e-01,\n",
       "       -1.0000000e+00, -3.5355792e-02, -2.5424830e-01, -7.0032573e-01,\n",
       "       -7.7061000e-01, -7.9711285e-01, -7.6448457e-01, -8.2018760e-01,\n",
       "       -9.3795935e-01, -7.7061000e-01, -9.7095802e-01, -7.9838652e-01,\n",
       "        1.7943523e-01, -1.0000000e+00, -4.7391298e-02, -4.6784901e-01,\n",
       "       -7.6132577e-01, -8.9016545e-01, -9.0730756e-01, -8.9530057e-01,\n",
       "       -9.1788296e-01, -9.0982876e-01, -8.9016545e-01, -9.9410543e-01,\n",
       "       -8.9802151e-01, -2.3481529e-01, -1.0000000e+00,  7.1645446e-02,\n",
       "       -3.3037044e-01, -7.0597388e-01,  6.4624029e-03,  1.6291982e-01,\n",
       "       -8.2588562e-01,  2.7115145e-01, -7.2000927e-01,  2.7680104e-01,\n",
       "       -5.7978304e-02])"
      ]
     },
     "execution_count": 101,
     "metadata": {},
     "output_type": "execute_result"
    }
   ],
   "source": [
    "X_test[0].flatten()"
   ]
  },
  {
   "cell_type": "markdown",
   "metadata": {},
   "source": [
    "#### Пройдитесь по 50-100 рядам из X_test (примерное время 5-15 минут) и оцените точность классификации"
   ]
  },
  {
   "cell_type": "code",
   "execution_count": 90,
   "metadata": {},
   "outputs": [
    {
     "data": {
      "text/plain": [
       "array([[1., 0., 0., 0., 0., 0.],\n",
       "       [1., 0., 0., 0., 0., 0.],\n",
       "       [1., 0., 0., 0., 0., 0.],\n",
       "       [1., 0., 0., 0., 0., 0.],\n",
       "       [1., 0., 0., 0., 0., 0.],\n",
       "       [1., 0., 0., 0., 0., 0.],\n",
       "       [1., 0., 0., 0., 0., 0.],\n",
       "       [1., 0., 0., 0., 0., 0.],\n",
       "       [1., 0., 0., 0., 0., 0.],\n",
       "       [1., 0., 0., 0., 0., 0.],\n",
       "       [1., 0., 0., 0., 0., 0.],\n",
       "       [1., 0., 0., 0., 0., 0.],\n",
       "       [1., 0., 0., 0., 0., 0.],\n",
       "       [1., 0., 0., 0., 0., 0.],\n",
       "       [1., 0., 0., 0., 0., 0.],\n",
       "       [1., 0., 0., 0., 0., 0.],\n",
       "       [1., 0., 0., 0., 0., 0.],\n",
       "       [1., 0., 0., 0., 0., 0.],\n",
       "       [1., 0., 0., 0., 0., 0.],\n",
       "       [1., 0., 0., 0., 0., 0.],\n",
       "       [1., 0., 0., 0., 0., 0.],\n",
       "       [1., 0., 0., 0., 0., 0.],\n",
       "       [1., 0., 0., 0., 0., 0.],\n",
       "       [1., 0., 0., 0., 0., 0.],\n",
       "       [1., 0., 0., 0., 0., 0.],\n",
       "       [1., 0., 0., 0., 0., 0.],\n",
       "       [1., 0., 0., 0., 0., 0.],\n",
       "       [1., 0., 0., 0., 0., 0.],\n",
       "       [1., 0., 0., 0., 0., 0.],\n",
       "       [0., 0., 1., 0., 0., 0.],\n",
       "       [0., 0., 1., 0., 0., 0.],\n",
       "       [0., 0., 1., 0., 0., 0.],\n",
       "       [0., 0., 1., 0., 0., 0.],\n",
       "       [0., 0., 1., 0., 0., 0.],\n",
       "       [0., 0., 1., 0., 0., 0.],\n",
       "       [0., 0., 1., 0., 0., 0.],\n",
       "       [0., 0., 1., 0., 0., 0.],\n",
       "       [0., 0., 1., 0., 0., 0.],\n",
       "       [0., 0., 1., 0., 0., 0.],\n",
       "       [0., 0., 1., 0., 0., 0.]], dtype=float32)"
      ]
     },
     "execution_count": 90,
     "metadata": {},
     "output_type": "execute_result"
    }
   ],
   "source": [
    "y_test[80:120]"
   ]
  },
  {
   "cell_type": "code",
   "execution_count": 86,
   "metadata": {},
   "outputs": [
    {
     "name": "stderr",
     "output_type": "stream",
     "text": [
      "<ipython-input-86-fc540b58e0d5>:5: TqdmDeprecationWarning: This function will be removed in tqdm==5.0.0\n",
      "Please use `tqdm.notebook.tqdm` instead of `tqdm.tqdm_notebook`\n",
      "  for _, ts_test in tqdm_notebook(zip(range(50), X_test[80:])):\n"
     ]
    },
    {
     "data": {
      "application/vnd.jupyter.widget-view+json": {
       "model_id": "651942bf89be461b82d9345ef715d789",
       "version_major": 2,
       "version_minor": 0
      },
      "text/plain": [
       "0it [00:00, ?it/s]"
      ]
     },
     "metadata": {},
     "output_type": "display_data"
    }
   ],
   "source": [
    "from tqdm import tqdm_notebook\n",
    "\n",
    "y_pred = []\n",
    "\n",
    "for _, ts_test in tqdm_notebook(zip(range(50), X_test[80:])):\n",
    "    y_pred.append(get_label(ts_test))"
   ]
  },
  {
   "cell_type": "code",
   "execution_count": 87,
   "metadata": {},
   "outputs": [
    {
     "data": {
      "text/plain": [
       "[array([0., 1., 0., 0., 0., 0.], dtype=float32),\n",
       " array([0., 1., 0., 0., 0., 0.], dtype=float32),\n",
       " array([0., 1., 0., 0., 0., 0.], dtype=float32),\n",
       " array([0., 1., 0., 0., 0., 0.], dtype=float32),\n",
       " array([0., 1., 0., 0., 0., 0.], dtype=float32),\n",
       " array([0., 1., 0., 0., 0., 0.], dtype=float32),\n",
       " array([0., 1., 0., 0., 0., 0.], dtype=float32),\n",
       " array([0., 1., 0., 0., 0., 0.], dtype=float32),\n",
       " array([0., 1., 0., 0., 0., 0.], dtype=float32),\n",
       " array([0., 1., 0., 0., 0., 0.], dtype=float32),\n",
       " array([0., 1., 0., 0., 0., 0.], dtype=float32),\n",
       " array([0., 1., 0., 0., 0., 0.], dtype=float32),\n",
       " array([0., 1., 0., 0., 0., 0.], dtype=float32),\n",
       " array([0., 1., 0., 0., 0., 0.], dtype=float32),\n",
       " array([0., 1., 0., 0., 0., 0.], dtype=float32),\n",
       " array([0., 1., 0., 0., 0., 0.], dtype=float32),\n",
       " array([0., 1., 0., 0., 0., 0.], dtype=float32),\n",
       " array([0., 1., 0., 0., 0., 0.], dtype=float32),\n",
       " array([0., 1., 0., 0., 0., 0.], dtype=float32),\n",
       " array([0., 1., 0., 0., 0., 0.], dtype=float32),\n",
       " array([0., 1., 0., 0., 0., 0.], dtype=float32),\n",
       " array([0., 1., 0., 0., 0., 0.], dtype=float32),\n",
       " array([0., 1., 0., 0., 0., 0.], dtype=float32),\n",
       " array([0., 1., 0., 0., 0., 0.], dtype=float32),\n",
       " array([0., 1., 0., 0., 0., 0.], dtype=float32),\n",
       " array([0., 1., 0., 0., 0., 0.], dtype=float32),\n",
       " array([0., 1., 0., 0., 0., 0.], dtype=float32),\n",
       " array([0., 1., 0., 0., 0., 0.], dtype=float32),\n",
       " array([0., 1., 0., 0., 0., 0.], dtype=float32),\n",
       " array([0., 1., 0., 0., 0., 0.], dtype=float32),\n",
       " array([0., 1., 0., 0., 0., 0.], dtype=float32),\n",
       " array([0., 1., 0., 0., 0., 0.], dtype=float32),\n",
       " array([0., 1., 0., 0., 0., 0.], dtype=float32),\n",
       " array([0., 1., 0., 0., 0., 0.], dtype=float32),\n",
       " array([0., 1., 0., 0., 0., 0.], dtype=float32),\n",
       " array([0., 1., 0., 0., 0., 0.], dtype=float32),\n",
       " array([0., 1., 0., 0., 0., 0.], dtype=float32),\n",
       " array([0., 1., 0., 0., 0., 0.], dtype=float32),\n",
       " array([0., 1., 0., 0., 0., 0.], dtype=float32),\n",
       " array([0., 1., 0., 0., 0., 0.], dtype=float32),\n",
       " array([0., 1., 0., 0., 0., 0.], dtype=float32),\n",
       " array([0., 1., 0., 0., 0., 0.], dtype=float32),\n",
       " array([0., 1., 0., 0., 0., 0.], dtype=float32),\n",
       " array([0., 1., 0., 0., 0., 0.], dtype=float32),\n",
       " array([0., 1., 0., 0., 0., 0.], dtype=float32),\n",
       " array([0., 1., 0., 0., 0., 0.], dtype=float32),\n",
       " array([0., 1., 0., 0., 0., 0.], dtype=float32),\n",
       " array([0., 1., 0., 0., 0., 0.], dtype=float32),\n",
       " array([0., 1., 0., 0., 0., 0.], dtype=float32),\n",
       " array([0., 1., 0., 0., 0., 0.], dtype=float32)]"
      ]
     },
     "execution_count": 87,
     "metadata": {},
     "output_type": "execute_result"
    }
   ],
   "source": [
    "y_pred"
   ]
  },
  {
   "cell_type": "code",
   "execution_count": 82,
   "metadata": {},
   "outputs": [
    {
     "data": {
      "text/plain": [
       "array([[1., 0., 0., 0., 0., 0.],\n",
       "       [1., 0., 0., 0., 0., 0.],\n",
       "       [1., 0., 0., 0., 0., 0.],\n",
       "       [1., 0., 0., 0., 0., 0.],\n",
       "       [1., 0., 0., 0., 0., 0.],\n",
       "       [1., 0., 0., 0., 0., 0.],\n",
       "       [1., 0., 0., 0., 0., 0.],\n",
       "       [1., 0., 0., 0., 0., 0.],\n",
       "       [1., 0., 0., 0., 0., 0.],\n",
       "       [1., 0., 0., 0., 0., 0.],\n",
       "       [1., 0., 0., 0., 0., 0.],\n",
       "       [1., 0., 0., 0., 0., 0.],\n",
       "       [1., 0., 0., 0., 0., 0.],\n",
       "       [1., 0., 0., 0., 0., 0.],\n",
       "       [1., 0., 0., 0., 0., 0.],\n",
       "       [1., 0., 0., 0., 0., 0.],\n",
       "       [1., 0., 0., 0., 0., 0.],\n",
       "       [1., 0., 0., 0., 0., 0.],\n",
       "       [1., 0., 0., 0., 0., 0.],\n",
       "       [1., 0., 0., 0., 0., 0.],\n",
       "       [1., 0., 0., 0., 0., 0.],\n",
       "       [1., 0., 0., 0., 0., 0.],\n",
       "       [1., 0., 0., 0., 0., 0.],\n",
       "       [1., 0., 0., 0., 0., 0.],\n",
       "       [1., 0., 0., 0., 0., 0.],\n",
       "       [1., 0., 0., 0., 0., 0.],\n",
       "       [1., 0., 0., 0., 0., 0.],\n",
       "       [1., 0., 0., 0., 0., 0.],\n",
       "       [1., 0., 0., 0., 0., 0.],\n",
       "       [1., 0., 0., 0., 0., 0.],\n",
       "       [1., 0., 0., 0., 0., 0.],\n",
       "       [1., 0., 0., 0., 0., 0.],\n",
       "       [1., 0., 0., 0., 0., 0.],\n",
       "       [1., 0., 0., 0., 0., 0.],\n",
       "       [1., 0., 0., 0., 0., 0.],\n",
       "       [1., 0., 0., 0., 0., 0.],\n",
       "       [1., 0., 0., 0., 0., 0.],\n",
       "       [1., 0., 0., 0., 0., 0.],\n",
       "       [1., 0., 0., 0., 0., 0.],\n",
       "       [1., 0., 0., 0., 0., 0.]], dtype=float32)"
      ]
     },
     "execution_count": 82,
     "metadata": {},
     "output_type": "execute_result"
    }
   ],
   "source": [
    "y_train[80:120]"
   ]
  },
  {
   "cell_type": "markdown",
   "metadata": {},
   "source": [
    "### Выводы: \n",
    "- модель явно обнаружила какую-то структуру в данных и выдала точность 96%\n",
    "- доли ошибок первого и второго рода близки по всем классам\n",
    "- мы идеально предсказываем, когда человек ЛЕЖИТ\n",
    "- хуже всего нам удаётся предсказать, когда человек СИДИТ (в 51 случае из 440 модель говорит, что он СТОИТ)"
   ]
  },
  {
   "cell_type": "code",
   "execution_count": null,
   "metadata": {},
   "outputs": [],
   "source": []
  },
  {
   "cell_type": "markdown",
   "metadata": {},
   "source": [
    "### Классификация датасета BeetlyFly при помощи CNN"
   ]
  },
  {
   "cell_type": "code",
   "execution_count": 105,
   "metadata": {},
   "outputs": [],
   "source": [
    "with open('../data/beetle_fly/BeetleFly_TRAIN.ts') as f:\n",
    "    data = f.read().split('\\n')[11:-1]\n",
    "    \n",
    "X_train = []\n",
    "y_train = []\n",
    "\n",
    "for row in data:\n",
    "    ts, label = row.split(':') \n",
    "    ts = np.array(list(map(float, ts.split(','))))\n",
    "    X_train.append(ts)\n",
    "    y_train.append(label)\n",
    "    \n",
    "X_train = np.vstack(X_train)\n",
    "X_train = X_train.reshape((X_train.shape[0], X_train.shape[1], 1))\n",
    "y_train = to_categorical(np.fromiter(map(float, y_train), dtype=np.int16) - 1)"
   ]
  },
  {
   "cell_type": "code",
   "execution_count": 106,
   "metadata": {},
   "outputs": [],
   "source": [
    "with open('../data/beetle_fly/BeetleFly_TEST.ts') as f:\n",
    "    data = f.read().split('\\n')[11:-1]\n",
    "    \n",
    "X_test = []\n",
    "y_test = []\n",
    "\n",
    "for row in data:\n",
    "    ts, label = row.split(':') \n",
    "    ts = np.array(list(map(float, ts.split(','))))\n",
    "    X_test.append(ts)\n",
    "    y_test.append(label)\n",
    "    \n",
    "X_test = np.vstack(X_test)\n",
    "X_test = X_test.reshape((X_test.shape[0], X_test.shape[1], 1))\n",
    "y_test = to_categorical(np.fromiter(map(float, y_test), dtype=np.int16) - 1)"
   ]
  },
  {
   "cell_type": "code",
   "execution_count": 108,
   "metadata": {},
   "outputs": [
    {
     "data": {
      "text/plain": [
       "(20, 512, 1)"
      ]
     },
     "execution_count": 108,
     "metadata": {},
     "output_type": "execute_result"
    }
   ],
   "source": [
    "X_train.shape"
   ]
  },
  {
   "cell_type": "code",
   "execution_count": 109,
   "metadata": {},
   "outputs": [],
   "source": [
    "# your code here\n",
    "model = Sequential()\n",
    "model.add(Conv1D(64, 2, activation='relu', input_shape=(512,1)))\n",
    "model.add(Flatten())\n",
    "model.add(Dense(2, activation='softmax'))\n",
    "model.compile(optimizer='adam', loss='categorical_crossentropy')"
   ]
  },
  {
   "cell_type": "code",
   "execution_count": 110,
   "metadata": {},
   "outputs": [
    {
     "data": {
      "application/vnd.jupyter.widget-view+json": {
       "model_id": "8f4af73cbeab4268b0a9dd4671de7bb7",
       "version_major": 2,
       "version_minor": 0
      },
      "text/plain": [
       "CNN train:   0%|          | 0/100 [00:00<?, ?it/s]"
      ]
     },
     "metadata": {},
     "output_type": "display_data"
    },
    {
     "name": "stdout",
     "output_type": "stream",
     "text": [
      "Start train\n",
      "Train completed successfully!\n"
     ]
    }
   ],
   "source": [
    "EPOCHS = 100\n",
    "pbar = tqdm(total=EPOCHS, desc='CNN train')\n",
    "model.fit(X_train, y_train, epochs=EPOCHS, verbose=0, callbacks=[my_tqdm_callback()]);"
   ]
  },
  {
   "cell_type": "code",
   "execution_count": 111,
   "metadata": {},
   "outputs": [
    {
     "name": "stdout",
     "output_type": "stream",
     "text": [
      "              precision    recall  f1-score   support\n",
      "\n",
      "           0       0.77      1.00      0.87        10\n",
      "           1       1.00      0.70      0.82        10\n",
      "\n",
      "    accuracy                           0.85        20\n",
      "   macro avg       0.88      0.85      0.85        20\n",
      "weighted avg       0.88      0.85      0.85        20\n",
      "\n"
     ]
    }
   ],
   "source": [
    "pred = model.predict(X_test)\n",
    "print(classification_report(np.argmax(y_test, axis=1), np.argmax(pred, axis=1)))"
   ]
  },
  {
   "cell_type": "code",
   "execution_count": 62,
   "metadata": {},
   "outputs": [],
   "source": [
    "from sklearn.metrics import classification_report"
   ]
  },
  {
   "cell_type": "markdown",
   "metadata": {},
   "source": [
    "#### Как можно заметить, точность классификации при помощи CNN заметно опережает точно DTW (была максимум 0.70)"
   ]
  }
 ],
 "metadata": {
  "kernelspec": {
   "display_name": "Python 3",
   "language": "python",
   "name": "python3"
  },
  "language_info": {
   "codemirror_mode": {
    "name": "ipython",
    "version": 3
   },
   "file_extension": ".py",
   "mimetype": "text/x-python",
   "name": "python",
   "nbconvert_exporter": "python",
   "pygments_lexer": "ipython3",
   "version": "3.8.2"
  }
 },
 "nbformat": 4,
 "nbformat_minor": 2
}
