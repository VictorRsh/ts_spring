{
 "cells": [
  {
   "cell_type": "code",
   "execution_count": 69,
   "metadata": {},
   "outputs": [],
   "source": [
    "%load_ext autoreload\n",
    "%autoreload 2"
   ]
  },
  {
   "cell_type": "code",
   "execution_count": 70,
   "metadata": {},
   "outputs": [],
   "source": [
    "import sys\n",
    "import pathlib\n",
    "\n",
    "sys.path.append(str(pathlib.Path().cwd().parent))"
   ]
  },
  {
   "cell_type": "code",
   "execution_count": 71,
   "metadata": {},
   "outputs": [],
   "source": [
    "from typing import Tuple\n",
    "\n",
    "from load_dataset import Dataset\n",
    "from plotting import plot_ts\n",
    "\n",
    "dataset = Dataset('../data/dataset/')"
   ]
  },
  {
   "cell_type": "markdown",
   "metadata": {},
   "source": [
    "### В чем заключаются недостатки полносвязных сетей?\n",
    "* невозможность улавливать временные закономерности в контексте предыдущих точек (архитектурное ограничение)\n",
    "* фиксированный размер входных данных\n",
    "* фиксированный размер выходных данных"
   ]
  },
  {
   "cell_type": "markdown",
   "metadata": {},
   "source": [
    "### Область применимости рекуретных сетей для задачи анализа временных рядов\n",
    "* большое количество экзогенных признаков, имеющих сложную нелинейную зависимость с целевым рядом\n",
    "* очень сложная временная структура имеющая наложение разных сезонных и цикличных паттернов\n",
    "* ряды с часто меняющимся паттерном, или большим количеством аномалий\n",
    "* когда есть необходимость в нефиксированной длине входных и выходных данных (например многомерные ряды, где для разных компонент хочется предоставить разное количество лагов) "
   ]
  },
  {
   "cell_type": "markdown",
   "metadata": {},
   "source": [
    "### Особенности подготовки данных - необходима нормализация данных, иначе сеть будет плохо сходиться и медленно обучаться."
   ]
  },
  {
   "cell_type": "code",
   "execution_count": 107,
   "metadata": {},
   "outputs": [],
   "source": [
    "import numpy as np\n",
    "import pandas as pd\n",
    "from sklearn.preprocessing import MinMaxScaler"
   ]
  },
  {
   "cell_type": "code",
   "execution_count": 108,
   "metadata": {},
   "outputs": [],
   "source": [
    "data = np.array(range(0, 100, 10)).reshape(-1, 1)"
   ]
  },
  {
   "cell_type": "code",
   "execution_count": 109,
   "metadata": {},
   "outputs": [],
   "source": [
    "scaler = MinMaxScaler((0, 1))"
   ]
  },
  {
   "cell_type": "code",
   "execution_count": 110,
   "metadata": {},
   "outputs": [
    {
     "data": {
      "text/plain": [
       "MinMaxScaler()"
      ]
     },
     "execution_count": 110,
     "metadata": {},
     "output_type": "execute_result"
    }
   ],
   "source": [
    "scaler.fit(data)"
   ]
  },
  {
   "cell_type": "code",
   "execution_count": 111,
   "metadata": {},
   "outputs": [],
   "source": [
    "transformed = scaler.transform(data)"
   ]
  },
  {
   "cell_type": "code",
   "execution_count": 113,
   "metadata": {},
   "outputs": [
    {
     "data": {
      "text/plain": [
       "array([[0.        ],\n",
       "       [0.11111111],\n",
       "       [0.22222222],\n",
       "       [0.33333333],\n",
       "       [0.44444444],\n",
       "       [0.55555556],\n",
       "       [0.66666667],\n",
       "       [0.77777778],\n",
       "       [0.88888889],\n",
       "       [1.        ]])"
      ]
     },
     "execution_count": 113,
     "metadata": {},
     "output_type": "execute_result"
    }
   ],
   "source": [
    "transformed"
   ]
  },
  {
   "cell_type": "code",
   "execution_count": 115,
   "metadata": {},
   "outputs": [],
   "source": [
    "inverse = scaler.inverse_transform(transformed)"
   ]
  },
  {
   "cell_type": "code",
   "execution_count": 116,
   "metadata": {},
   "outputs": [
    {
     "data": {
      "text/plain": [
       "array([[ 0.],\n",
       "       [10.],\n",
       "       [20.],\n",
       "       [30.],\n",
       "       [40.],\n",
       "       [50.],\n",
       "       [60.],\n",
       "       [70.],\n",
       "       [80.],\n",
       "       [90.]])"
      ]
     },
     "execution_count": 116,
     "metadata": {},
     "output_type": "execute_result"
    }
   ],
   "source": [
    "inverse"
   ]
  },
  {
   "cell_type": "markdown",
   "metadata": {},
   "source": [
    "### Особенность подготвки данных - обработка последовательностей разной длины."
   ]
  },
  {
   "cell_type": "code",
   "execution_count": 80,
   "metadata": {},
   "outputs": [],
   "source": [
    "from keras.preprocessing.sequence import pad_sequences"
   ]
  },
  {
   "cell_type": "code",
   "execution_count": 118,
   "metadata": {},
   "outputs": [],
   "source": [
    "sequences = [\n",
    "    [1, 2, 3, 4],\n",
    "    [3, 4, 5],\n",
    "    [5, 6],\n",
    "    [3]\n",
    "]"
   ]
  },
  {
   "cell_type": "code",
   "execution_count": 82,
   "metadata": {},
   "outputs": [
    {
     "data": {
      "text/plain": [
       "array([[1, 2, 3, 4],\n",
       "       [0, 3, 4, 5],\n",
       "       [0, 0, 5, 6],\n",
       "       [0, 0, 0, 3]], dtype=int32)"
      ]
     },
     "execution_count": 82,
     "metadata": {},
     "output_type": "execute_result"
    }
   ],
   "source": [
    "pad_sequences(sequences, padding='pre')"
   ]
  },
  {
   "cell_type": "code",
   "execution_count": 83,
   "metadata": {},
   "outputs": [
    {
     "data": {
      "text/plain": [
       "array([[1, 2, 3, 4],\n",
       "       [3, 4, 5, 0],\n",
       "       [5, 6, 0, 0],\n",
       "       [3, 0, 0, 0]], dtype=int32)"
      ]
     },
     "execution_count": 83,
     "metadata": {},
     "output_type": "execute_result"
    }
   ],
   "source": [
    "pad_sequences(sequences, padding='post')"
   ]
  },
  {
   "cell_type": "code",
   "execution_count": 84,
   "metadata": {},
   "outputs": [
    {
     "data": {
      "text/plain": [
       "array([[3, 4],\n",
       "       [4, 5],\n",
       "       [5, 6],\n",
       "       [0, 3]], dtype=int32)"
      ]
     },
     "execution_count": 84,
     "metadata": {},
     "output_type": "execute_result"
    }
   ],
   "source": [
    "pad_sequences(sequences, maxlen=2)"
   ]
  },
  {
   "cell_type": "code",
   "execution_count": 85,
   "metadata": {},
   "outputs": [
    {
     "data": {
      "text/plain": [
       "array([[1, 2],\n",
       "       [3, 4],\n",
       "       [5, 6],\n",
       "       [0, 3]], dtype=int32)"
      ]
     },
     "execution_count": 85,
     "metadata": {},
     "output_type": "execute_result"
    }
   ],
   "source": [
    "pad_sequences(sequences, maxlen=2, truncating='post')"
   ]
  },
  {
   "cell_type": "markdown",
   "metadata": {},
   "source": [
    "### Какие архитектуры lstm нас интересуют в контексте временных рядов?\n",
    "* one-to-one - предсказание следующей точки по предыдущей - нет\n",
    "* one-to-many - предсказание следующих N точeк про предыдущей - нет\n",
    "* many-to-one - one-step-ahead предсказание - в некоторой степени\n",
    "* many-to-many -  предсказание вектора из следующих m точек по предыдущим n точкам - наибольший интерес"
   ]
  },
  {
   "cell_type": "markdown",
   "metadata": {},
   "source": [
    "### Простая LSTM сеть"
   ]
  },
  {
   "cell_type": "code",
   "execution_count": 119,
   "metadata": {},
   "outputs": [],
   "source": [
    "from keras.models import Sequential\n",
    "from keras.layers import LSTM, Dense"
   ]
  },
  {
   "cell_type": "code",
   "execution_count": 120,
   "metadata": {},
   "outputs": [],
   "source": [
    "ts = dataset['daily-min-temperatures.csv']"
   ]
  },
  {
   "cell_type": "code",
   "execution_count": 121,
   "metadata": {},
   "outputs": [
    {
     "data": {
      "text/plain": [
       "<AxesSubplot:xlabel='1981-01-01'>"
      ]
     },
     "execution_count": 121,
     "metadata": {},
     "output_type": "execute_result"
    },
    {
     "data": {
      "image/png": "[encoded data removed]",
      "text/plain": [
       "<Figure size 1080x360 with 1 Axes>"
      ]
     },
     "metadata": {
      "needs_background": "light"
     },
     "output_type": "display_data"
    }
   ],
   "source": [
    "ts.plot(figsize=(15, 5))"
   ]
  },
  {
   "cell_type": "code",
   "execution_count": 136,
   "metadata": {},
   "outputs": [],
   "source": [
    "def transform_into_matrix(ts: pd.Series, num_lags: int) -> Tuple[np.array]:\n",
    "    \"\"\"\n",
    "    Transforms time series into lags matrix to allow\n",
    "    applying supervised learning algorithms\n",
    "\n",
    "    Parameters\n",
    "    ------------\n",
    "    ts\n",
    "        Time series to transform\n",
    "    num_lags\n",
    "        Number of lags to use\n",
    "\n",
    "    Returns\n",
    "    --------\n",
    "        train, test: np.arrays of shapes (ts-num_lags, num_lags), (num_lags,)\n",
    "    \"\"\"\n",
    "\n",
    "    ts_values = ts.values\n",
    "    data = {}\n",
    "    for i in range(num_lags + 1):\n",
    "        data[f'lag_{num_lags - i}'] = np.roll(ts_values, -i)\n",
    "\n",
    "    lags_matrix = pd.DataFrame(data)[:-num_lags]\n",
    "    lags_matrix.index = ts.index[num_lags:]\n",
    "\n",
    "    return lags_matrix.drop('lag_0', axis=1).values, lags_matrix['lag_0'].values"
   ]
  },
  {
   "cell_type": "code",
   "execution_count": 137,
   "metadata": {},
   "outputs": [],
   "source": [
    "NUM_LAGS = 14\n",
    "X, y = transform_into_matrix(ts, NUM_LAGS)"
   ]
  },
  {
   "cell_type": "code",
   "execution_count": 138,
   "metadata": {},
   "outputs": [
    {
     "data": {
      "text/plain": [
       "array([17.9, 18.8, 14.6, 15.8, 15.8, 15.8, 17.4, 21.8, 20. , 16.2, 13.3,\n",
       "       16.7, 21.5, 25. ])"
      ]
     },
     "execution_count": 138,
     "metadata": {},
     "output_type": "execute_result"
    }
   ],
   "source": [
    "X[0]"
   ]
  },
  {
   "cell_type": "code",
   "execution_count": 139,
   "metadata": {},
   "outputs": [],
   "source": [
    "X = X.reshape((X.shape[0], X.shape[1], 1))"
   ]
  },
  {
   "cell_type": "code",
   "execution_count": 140,
   "metadata": {},
   "outputs": [
    {
     "data": {
      "text/plain": [
       "array([[17.9],\n",
       "       [18.8],\n",
       "       [14.6],\n",
       "       [15.8],\n",
       "       [15.8],\n",
       "       [15.8],\n",
       "       [17.4],\n",
       "       [21.8],\n",
       "       [20. ],\n",
       "       [16.2],\n",
       "       [13.3],\n",
       "       [16.7],\n",
       "       [21.5],\n",
       "       [25. ]])"
      ]
     },
     "execution_count": 140,
     "metadata": {},
     "output_type": "execute_result"
    }
   ],
   "source": [
    "X[0]"
   ]
  },
  {
   "cell_type": "code",
   "execution_count": 141,
   "metadata": {},
   "outputs": [],
   "source": [
    "split_idx = int(len(X)*0.8)\n",
    "X_train, X_test = X[:split_idx], X[split_idx:]\n",
    "y_train, y_test = y[:split_idx], y[split_idx:]"
   ]
  },
  {
   "cell_type": "code",
   "execution_count": 142,
   "metadata": {},
   "outputs": [],
   "source": [
    "model = Sequential()\n",
    "model.add(LSTM(50, activation='relu', input_shape=(NUM_LAGS, 1)))\n",
    "model.add(Dense(1))\n",
    "model.compile(optimizer='adam', loss='mse')"
   ]
  },
  {
   "cell_type": "code",
   "execution_count": 130,
   "metadata": {
    "scrolled": true
   },
   "outputs": [
    {
     "name": "stdout",
     "output_type": "stream",
     "text": [
      "Epoch 1/100\n",
      "114/114 [==============================] - 2s 5ms/step - loss: 36.8584\n",
      "Epoch 2/100\n",
      "114/114 [==============================] - 1s 5ms/step - loss: 6.1299\n",
      "Epoch 3/100\n",
      "114/114 [==============================] - 1s 5ms/step - loss: 5.6039\n",
      "Epoch 4/100\n",
      "114/114 [==============================] - 1s 5ms/step - loss: 5.9444\n",
      "Epoch 5/100\n",
      "114/114 [==============================] - 1s 5ms/step - loss: 5.8751\n",
      "Epoch 6/100\n",
      "114/114 [==============================] - 1s 5ms/step - loss: 5.8838\n",
      "Epoch 7/100\n",
      "114/114 [==============================] - 1s 5ms/step - loss: 5.9504\n",
      "Epoch 8/100\n",
      "114/114 [==============================] - 1s 5ms/step - loss: 5.8694\n",
      "Epoch 9/100\n",
      "114/114 [==============================] - 1s 5ms/step - loss: 5.8464\n",
      "Epoch 10/100\n",
      "114/114 [==============================] - 1s 5ms/step - loss: 5.8177\n",
      "Epoch 11/100\n",
      "114/114 [==============================] - 1s 5ms/step - loss: 5.9287\n",
      "Epoch 12/100\n",
      "114/114 [==============================] - 1s 5ms/step - loss: 5.7321\n",
      "Epoch 13/100\n",
      "114/114 [==============================] - 1s 4ms/step - loss: 5.5117\n",
      "Epoch 14/100\n",
      "114/114 [==============================] - 1s 5ms/step - loss: 5.8014\n",
      "Epoch 15/100\n",
      "114/114 [==============================] - 1s 5ms/step - loss: 5.8285\n",
      "Epoch 16/100\n",
      "114/114 [==============================] - 1s 4ms/step - loss: 5.8340\n",
      "Epoch 17/100\n",
      "114/114 [==============================] - 1s 5ms/step - loss: 5.8891\n",
      "Epoch 18/100\n",
      "114/114 [==============================] - 1s 5ms/step - loss: 5.5338\n",
      "Epoch 19/100\n",
      "114/114 [==============================] - 1s 5ms/step - loss: 5.4476\n",
      "Epoch 20/100\n",
      "114/114 [==============================] - 1s 4ms/step - loss: 5.8762\n",
      "Epoch 21/100\n",
      "114/114 [==============================] - 1s 5ms/step - loss: 5.7100\n",
      "Epoch 22/100\n",
      "114/114 [==============================] - 1s 4ms/step - loss: 5.5642\n",
      "Epoch 23/100\n",
      "114/114 [==============================] - 1s 5ms/step - loss: 5.8189\n",
      "Epoch 24/100\n",
      "114/114 [==============================] - 1s 4ms/step - loss: 5.7042\n",
      "Epoch 25/100\n",
      "114/114 [==============================] - 1s 4ms/step - loss: 5.6291\n",
      "Epoch 26/100\n",
      "114/114 [==============================] - 1s 4ms/step - loss: 5.8563\n",
      "Epoch 27/100\n",
      "114/114 [==============================] - 1s 4ms/step - loss: 5.6457\n",
      "Epoch 28/100\n",
      "114/114 [==============================] - 1s 4ms/step - loss: 5.6462\n",
      "Epoch 29/100\n",
      "114/114 [==============================] - 1s 4ms/step - loss: 5.7130\n",
      "Epoch 30/100\n",
      "114/114 [==============================] - 1s 5ms/step - loss: 5.5771\n",
      "Epoch 31/100\n",
      "114/114 [==============================] - 1s 4ms/step - loss: 5.5137\n",
      "Epoch 32/100\n",
      "114/114 [==============================] - 1s 5ms/step - loss: 5.6355\n",
      "Epoch 33/100\n",
      "114/114 [==============================] - 1s 5ms/step - loss: 5.3165\n",
      "Epoch 34/100\n",
      "114/114 [==============================] - 1s 4ms/step - loss: 5.5362\n",
      "Epoch 35/100\n",
      "114/114 [==============================] - 1s 4ms/step - loss: 5.5825\n",
      "Epoch 36/100\n",
      "114/114 [==============================] - 1s 5ms/step - loss: 5.3986\n",
      "Epoch 37/100\n",
      "114/114 [==============================] - 1s 5ms/step - loss: 22.8569\n",
      "Epoch 38/100\n",
      "114/114 [==============================] - 1s 5ms/step - loss: 5.7681\n",
      "Epoch 39/100\n",
      "114/114 [==============================] - 1s 5ms/step - loss: 5.7931\n",
      "Epoch 40/100\n",
      "114/114 [==============================] - 1s 5ms/step - loss: 5.8218\n",
      "Epoch 41/100\n",
      "114/114 [==============================] - 1s 5ms/step - loss: 6.0619\n",
      "Epoch 42/100\n",
      "114/114 [==============================] - 1s 5ms/step - loss: 5.5806\n",
      "Epoch 43/100\n",
      "114/114 [==============================] - 1s 5ms/step - loss: 5.6823\n",
      "Epoch 44/100\n",
      "114/114 [==============================] - 1s 5ms/step - loss: 5.6835\n",
      "Epoch 45/100\n",
      "114/114 [==============================] - 1s 5ms/step - loss: 5.4420\n",
      "Epoch 46/100\n",
      "114/114 [==============================] - 1s 6ms/step - loss: 5.6930\n",
      "Epoch 47/100\n",
      "114/114 [==============================] - 1s 5ms/step - loss: 5.8378\n",
      "Epoch 48/100\n",
      "114/114 [==============================] - 1s 5ms/step - loss: 5.6095\n",
      "Epoch 49/100\n",
      "114/114 [==============================] - 1s 7ms/step - loss: 5.5343\n",
      "Epoch 50/100\n",
      "114/114 [==============================] - 1s 6ms/step - loss: 5.7118\n",
      "Epoch 51/100\n",
      "114/114 [==============================] - 1s 6ms/step - loss: 5.5337\n",
      "Epoch 52/100\n",
      "114/114 [==============================] - 1s 5ms/step - loss: 5.5340\n",
      "Epoch 53/100\n",
      "114/114 [==============================] - 1s 5ms/step - loss: 5.8997\n",
      "Epoch 54/100\n",
      "114/114 [==============================] - 1s 5ms/step - loss: 5.8330\n",
      "Epoch 55/100\n",
      "114/114 [==============================] - 1s 5ms/step - loss: 5.5036\n",
      "Epoch 56/100\n",
      "114/114 [==============================] - 1s 5ms/step - loss: 5.6833\n",
      "Epoch 57/100\n",
      "114/114 [==============================] - 1s 5ms/step - loss: 5.5787\n",
      "Epoch 58/100\n",
      "114/114 [==============================] - 1s 5ms/step - loss: 5.5568\n",
      "Epoch 59/100\n",
      "114/114 [==============================] - 1s 5ms/step - loss: 5.5449\n",
      "Epoch 60/100\n",
      "114/114 [==============================] - 1s 5ms/step - loss: 5.4786\n",
      "Epoch 61/100\n",
      "114/114 [==============================] - 1s 5ms/step - loss: 5.5640\n",
      "Epoch 62/100\n",
      "114/114 [==============================] - 1s 6ms/step - loss: 5.4895\n",
      "Epoch 63/100\n",
      "114/114 [==============================] - 1s 5ms/step - loss: 5.6070\n",
      "Epoch 64/100\n",
      "114/114 [==============================] - 1s 5ms/step - loss: 5.5848\n",
      "Epoch 65/100\n",
      "114/114 [==============================] - 1s 7ms/step - loss: 5.6841\n",
      "Epoch 66/100\n",
      "114/114 [==============================] - 1s 5ms/step - loss: 5.5990\n",
      "Epoch 67/100\n",
      "114/114 [==============================] - 1s 5ms/step - loss: 5.5370\n",
      "Epoch 68/100\n",
      "114/114 [==============================] - 1s 5ms/step - loss: 5.4860\n",
      "Epoch 69/100\n",
      "114/114 [==============================] - 0s 4ms/step - loss: 5.6244\n",
      "Epoch 70/100\n",
      "114/114 [==============================] - 1s 4ms/step - loss: 5.6269\n",
      "Epoch 71/100\n",
      "114/114 [==============================] - 1s 5ms/step - loss: 5.4703\n",
      "Epoch 72/100\n",
      "114/114 [==============================] - 1s 5ms/step - loss: 5.5564\n",
      "Epoch 73/100\n",
      "114/114 [==============================] - 1s 5ms/step - loss: 5.3970\n",
      "Epoch 74/100\n",
      "114/114 [==============================] - 1s 5ms/step - loss: 5.3286\n",
      "Epoch 75/100\n",
      "114/114 [==============================] - 1s 5ms/step - loss: 5.5075\n",
      "Epoch 76/100\n",
      "114/114 [==============================] - 1s 5ms/step - loss: 5.5558\n",
      "Epoch 77/100\n",
      "114/114 [==============================] - 1s 5ms/step - loss: 5.4286\n",
      "Epoch 78/100\n",
      "114/114 [==============================] - 1s 4ms/step - loss: 5.7044\n",
      "Epoch 79/100\n",
      "114/114 [==============================] - 1s 4ms/step - loss: 5.3961\n",
      "Epoch 80/100\n",
      "114/114 [==============================] - 1s 5ms/step - loss: 5.4885\n",
      "Epoch 81/100\n",
      "114/114 [==============================] - 1s 5ms/step - loss: 5.5948\n",
      "Epoch 82/100\n",
      "114/114 [==============================] - 1s 5ms/step - loss: 5.4697\n",
      "Epoch 83/100\n",
      "114/114 [==============================] - 1s 5ms/step - loss: 5.4989\n",
      "Epoch 84/100\n",
      "114/114 [==============================] - 1s 5ms/step - loss: 5.8217\n",
      "Epoch 85/100\n",
      "114/114 [==============================] - 1s 5ms/step - loss: 5.7460\n",
      "Epoch 86/100\n",
      "114/114 [==============================] - 1s 5ms/step - loss: 5.7204\n",
      "Epoch 87/100\n",
      "114/114 [==============================] - 1s 5ms/step - loss: 5.5959\n",
      "Epoch 88/100\n",
      "114/114 [==============================] - 1s 5ms/step - loss: 5.4113\n",
      "Epoch 89/100\n",
      "114/114 [==============================] - 1s 5ms/step - loss: 5.4086\n",
      "Epoch 90/100\n",
      "114/114 [==============================] - 1s 6ms/step - loss: 5.1375\n",
      "Epoch 91/100\n",
      "114/114 [==============================] - 1s 5ms/step - loss: 5.4676\n",
      "Epoch 92/100\n",
      "114/114 [==============================] - 1s 6ms/step - loss: 5.4649\n",
      "Epoch 93/100\n",
      "114/114 [==============================] - 1s 5ms/step - loss: 5.4430\n",
      "Epoch 94/100\n",
      "114/114 [==============================] - 1s 6ms/step - loss: 5.5286\n",
      "Epoch 95/100\n",
      "114/114 [==============================] - 1s 5ms/step - loss: 5.5581\n",
      "Epoch 96/100\n",
      "114/114 [==============================] - 1s 6ms/step - loss: 5.4922\n",
      "Epoch 97/100\n",
      "114/114 [==============================] - 1s 5ms/step - loss: 5.3982\n",
      "Epoch 98/100\n",
      "114/114 [==============================] - 1s 7ms/step - loss: 5.2973\n",
      "Epoch 99/100\n"
     ]
    },
    {
     "name": "stdout",
     "output_type": "stream",
     "text": [
      "114/114 [==============================] - 0s 4ms/step - loss: 5.4009\n",
      "Epoch 100/100\n",
      "114/114 [==============================] - 0s 4ms/step - loss: 5.1663\n"
     ]
    },
    {
     "data": {
      "text/plain": [
       "<tensorflow.python.keras.callbacks.History at 0x17656c550>"
      ]
     },
     "execution_count": 130,
     "metadata": {},
     "output_type": "execute_result"
    }
   ],
   "source": [
    "model.fit(X, y, epochs=100)"
   ]
  },
  {
   "cell_type": "code",
   "execution_count": 131,
   "metadata": {},
   "outputs": [],
   "source": [
    "y_pred = model.predict(X_test)"
   ]
  },
  {
   "cell_type": "code",
   "execution_count": 132,
   "metadata": {},
   "outputs": [
    {
     "data": {
      "text/plain": [
       "<AxesSubplot:>"
      ]
     },
     "execution_count": 132,
     "metadata": {},
     "output_type": "execute_result"
    },
    {
     "data": {
      "image/png": "[encoded data removed]",
      "text/plain": [
       "<Figure size 432x288 with 1 Axes>"
      ]
     },
     "metadata": {
      "needs_background": "light"
     },
     "output_type": "display_data"
    }
   ],
   "source": [
    "pd.Series(y_test.flatten())[-50:].plot()\n",
    "pd.Series(y_pred.flatten())[-50:].plot()"
   ]
  },
  {
   "cell_type": "code",
   "execution_count": 133,
   "metadata": {},
   "outputs": [],
   "source": [
    "### данный результат на самом деле не сильно лучше наивного предсказания"
   ]
  },
  {
   "cell_type": "code",
   "execution_count": 134,
   "metadata": {},
   "outputs": [],
   "source": [
    "from sklearn.metrics import mean_squared_error as mse"
   ]
  },
  {
   "cell_type": "code",
   "execution_count": 135,
   "metadata": {},
   "outputs": [
    {
     "data": {
      "text/plain": [
       "4.564273825044342"
      ]
     },
     "execution_count": 135,
     "metadata": {},
     "output_type": "execute_result"
    }
   ],
   "source": [
    "mse(y_test.flatten(), y_pred.flatten())"
   ]
  },
  {
   "cell_type": "markdown",
   "metadata": {},
   "source": [
    "### Stacked LSTM"
   ]
  },
  {
   "cell_type": "markdown",
   "metadata": {},
   "source": [
    "#### Добавьте дополнительные скрытые слои в сеть (используйте return_sequences=True) и сравните качество"
   ]
  },
  {
   "cell_type": "code",
   "execution_count": 143,
   "metadata": {},
   "outputs": [],
   "source": [
    "model = Sequential()\n",
    "model.add(LSTM(50, activation='relu', input_shape=(NUM_LAGS, 1), return_sequences=True))\n",
    "model.add(LSTM(50, activation='relu', input_shape=(NUM_LAGS, 1)))\n",
    "model.add(Dense(1))\n",
    "model.compile(optimizer='adam', loss='mse')"
   ]
  },
  {
   "cell_type": "code",
   "execution_count": 144,
   "metadata": {
    "scrolled": true
   },
   "outputs": [
    {
     "ename": "KeyboardInterrupt",
     "evalue": "",
     "output_type": "error",
     "traceback": [
      "\u001b[0;31m---------------------------------------------------------------------------\u001b[0m",
      "\u001b[0;31mKeyboardInterrupt\u001b[0m                         Traceback (most recent call last)",
      "\u001b[0;32m<ipython-input-144-296e8b6c5843>\u001b[0m in \u001b[0;36m<module>\u001b[0;34m\u001b[0m\n\u001b[0;32m----> 1\u001b[0;31m \u001b[0mmodel\u001b[0m\u001b[0;34m.\u001b[0m\u001b[0mfit\u001b[0m\u001b[0;34m(\u001b[0m\u001b[0mX_train\u001b[0m\u001b[0;34m,\u001b[0m \u001b[0my_train\u001b[0m\u001b[0;34m,\u001b[0m \u001b[0mepochs\u001b[0m\u001b[0;34m=\u001b[0m\u001b[0;36m100\u001b[0m\u001b[0;34m,\u001b[0m \u001b[0mverbose\u001b[0m\u001b[0;34m=\u001b[0m\u001b[0;36m0\u001b[0m\u001b[0;34m)\u001b[0m\u001b[0;34m\u001b[0m\u001b[0;34m\u001b[0m\u001b[0m\n\u001b[0m",
      "\u001b[0;32m~/ts_spring/.env/lib/python3.8/site-packages/tensorflow/python/keras/engine/training.py\u001b[0m in \u001b[0;36mfit\u001b[0;34m(self, x, y, batch_size, epochs, verbose, callbacks, validation_split, validation_data, shuffle, class_weight, sample_weight, initial_epoch, steps_per_epoch, validation_steps, validation_batch_size, validation_freq, max_queue_size, workers, use_multiprocessing)\u001b[0m\n\u001b[1;32m   1098\u001b[0m                 _r=1):\n\u001b[1;32m   1099\u001b[0m               \u001b[0mcallbacks\u001b[0m\u001b[0;34m.\u001b[0m\u001b[0mon_train_batch_begin\u001b[0m\u001b[0;34m(\u001b[0m\u001b[0mstep\u001b[0m\u001b[0;34m)\u001b[0m\u001b[0;34m\u001b[0m\u001b[0;34m\u001b[0m\u001b[0m\n\u001b[0;32m-> 1100\u001b[0;31m               \u001b[0mtmp_logs\u001b[0m \u001b[0;34m=\u001b[0m \u001b[0mself\u001b[0m\u001b[0;34m.\u001b[0m\u001b[0mtrain_function\u001b[0m\u001b[0;34m(\u001b[0m\u001b[0miterator\u001b[0m\u001b[0;34m)\u001b[0m\u001b[0;34m\u001b[0m\u001b[0;34m\u001b[0m\u001b[0m\n\u001b[0m\u001b[1;32m   1101\u001b[0m               \u001b[0;32mif\u001b[0m \u001b[0mdata_handler\u001b[0m\u001b[0;34m.\u001b[0m\u001b[0mshould_sync\u001b[0m\u001b[0;34m:\u001b[0m\u001b[0;34m\u001b[0m\u001b[0;34m\u001b[0m\u001b[0m\n\u001b[1;32m   1102\u001b[0m                 \u001b[0mcontext\u001b[0m\u001b[0;34m.\u001b[0m\u001b[0masync_wait\u001b[0m\u001b[0;34m(\u001b[0m\u001b[0;34m)\u001b[0m\u001b[0;34m\u001b[0m\u001b[0;34m\u001b[0m\u001b[0m\n",
      "\u001b[0;32m~/ts_spring/.env/lib/python3.8/site-packages/tensorflow/python/eager/def_function.py\u001b[0m in \u001b[0;36m__call__\u001b[0;34m(self, *args, **kwds)\u001b[0m\n\u001b[1;32m    826\u001b[0m     \u001b[0mtracing_count\u001b[0m \u001b[0;34m=\u001b[0m \u001b[0mself\u001b[0m\u001b[0;34m.\u001b[0m\u001b[0mexperimental_get_tracing_count\u001b[0m\u001b[0;34m(\u001b[0m\u001b[0;34m)\u001b[0m\u001b[0;34m\u001b[0m\u001b[0;34m\u001b[0m\u001b[0m\n\u001b[1;32m    827\u001b[0m     \u001b[0;32mwith\u001b[0m \u001b[0mtrace\u001b[0m\u001b[0;34m.\u001b[0m\u001b[0mTrace\u001b[0m\u001b[0;34m(\u001b[0m\u001b[0mself\u001b[0m\u001b[0;34m.\u001b[0m\u001b[0m_name\u001b[0m\u001b[0;34m)\u001b[0m \u001b[0;32mas\u001b[0m \u001b[0mtm\u001b[0m\u001b[0;34m:\u001b[0m\u001b[0;34m\u001b[0m\u001b[0;34m\u001b[0m\u001b[0m\n\u001b[0;32m--> 828\u001b[0;31m       \u001b[0mresult\u001b[0m \u001b[0;34m=\u001b[0m \u001b[0mself\u001b[0m\u001b[0;34m.\u001b[0m\u001b[0m_call\u001b[0m\u001b[0;34m(\u001b[0m\u001b[0;34m*\u001b[0m\u001b[0margs\u001b[0m\u001b[0;34m,\u001b[0m \u001b[0;34m**\u001b[0m\u001b[0mkwds\u001b[0m\u001b[0;34m)\u001b[0m\u001b[0;34m\u001b[0m\u001b[0;34m\u001b[0m\u001b[0m\n\u001b[0m\u001b[1;32m    829\u001b[0m       \u001b[0mcompiler\u001b[0m \u001b[0;34m=\u001b[0m \u001b[0;34m\"xla\"\u001b[0m \u001b[0;32mif\u001b[0m \u001b[0mself\u001b[0m\u001b[0;34m.\u001b[0m\u001b[0m_experimental_compile\u001b[0m \u001b[0;32melse\u001b[0m \u001b[0;34m\"nonXla\"\u001b[0m\u001b[0;34m\u001b[0m\u001b[0;34m\u001b[0m\u001b[0m\n\u001b[1;32m    830\u001b[0m       \u001b[0mnew_tracing_count\u001b[0m \u001b[0;34m=\u001b[0m \u001b[0mself\u001b[0m\u001b[0;34m.\u001b[0m\u001b[0mexperimental_get_tracing_count\u001b[0m\u001b[0;34m(\u001b[0m\u001b[0;34m)\u001b[0m\u001b[0;34m\u001b[0m\u001b[0;34m\u001b[0m\u001b[0m\n",
      "\u001b[0;32m~/ts_spring/.env/lib/python3.8/site-packages/tensorflow/python/eager/def_function.py\u001b[0m in \u001b[0;36m_call\u001b[0;34m(self, *args, **kwds)\u001b[0m\n\u001b[1;32m    853\u001b[0m       \u001b[0;31m# In this case we have created variables on the first call, so we run the\u001b[0m\u001b[0;34m\u001b[0m\u001b[0;34m\u001b[0m\u001b[0;34m\u001b[0m\u001b[0m\n\u001b[1;32m    854\u001b[0m       \u001b[0;31m# defunned version which is guaranteed to never create variables.\u001b[0m\u001b[0;34m\u001b[0m\u001b[0;34m\u001b[0m\u001b[0;34m\u001b[0m\u001b[0m\n\u001b[0;32m--> 855\u001b[0;31m       \u001b[0;32mreturn\u001b[0m \u001b[0mself\u001b[0m\u001b[0;34m.\u001b[0m\u001b[0m_stateless_fn\u001b[0m\u001b[0;34m(\u001b[0m\u001b[0;34m*\u001b[0m\u001b[0margs\u001b[0m\u001b[0;34m,\u001b[0m \u001b[0;34m**\u001b[0m\u001b[0mkwds\u001b[0m\u001b[0;34m)\u001b[0m  \u001b[0;31m# pylint: disable=not-callable\u001b[0m\u001b[0;34m\u001b[0m\u001b[0;34m\u001b[0m\u001b[0m\n\u001b[0m\u001b[1;32m    856\u001b[0m     \u001b[0;32melif\u001b[0m \u001b[0mself\u001b[0m\u001b[0;34m.\u001b[0m\u001b[0m_stateful_fn\u001b[0m \u001b[0;32mis\u001b[0m \u001b[0;32mnot\u001b[0m \u001b[0;32mNone\u001b[0m\u001b[0;34m:\u001b[0m\u001b[0;34m\u001b[0m\u001b[0;34m\u001b[0m\u001b[0m\n\u001b[1;32m    857\u001b[0m       \u001b[0;31m# Release the lock early so that multiple threads can perform the call\u001b[0m\u001b[0;34m\u001b[0m\u001b[0;34m\u001b[0m\u001b[0;34m\u001b[0m\u001b[0m\n",
      "\u001b[0;32m~/ts_spring/.env/lib/python3.8/site-packages/tensorflow/python/eager/function.py\u001b[0m in \u001b[0;36m__call__\u001b[0;34m(self, *args, **kwargs)\u001b[0m\n\u001b[1;32m   2940\u001b[0m       (graph_function,\n\u001b[1;32m   2941\u001b[0m        filtered_flat_args) = self._maybe_define_function(args, kwargs)\n\u001b[0;32m-> 2942\u001b[0;31m     return graph_function._call_flat(\n\u001b[0m\u001b[1;32m   2943\u001b[0m         filtered_flat_args, captured_inputs=graph_function.captured_inputs)  # pylint: disable=protected-access\n\u001b[1;32m   2944\u001b[0m \u001b[0;34m\u001b[0m\u001b[0m\n",
      "\u001b[0;32m~/ts_spring/.env/lib/python3.8/site-packages/tensorflow/python/eager/function.py\u001b[0m in \u001b[0;36m_call_flat\u001b[0;34m(self, args, captured_inputs, cancellation_manager)\u001b[0m\n\u001b[1;32m   1916\u001b[0m         and executing_eagerly):\n\u001b[1;32m   1917\u001b[0m       \u001b[0;31m# No tape is watching; skip to running the function.\u001b[0m\u001b[0;34m\u001b[0m\u001b[0;34m\u001b[0m\u001b[0;34m\u001b[0m\u001b[0m\n\u001b[0;32m-> 1918\u001b[0;31m       return self._build_call_outputs(self._inference_function.call(\n\u001b[0m\u001b[1;32m   1919\u001b[0m           ctx, args, cancellation_manager=cancellation_manager))\n\u001b[1;32m   1920\u001b[0m     forward_backward = self._select_forward_and_backward_functions(\n",
      "\u001b[0;32m~/ts_spring/.env/lib/python3.8/site-packages/tensorflow/python/eager/function.py\u001b[0m in \u001b[0;36mcall\u001b[0;34m(self, ctx, args, cancellation_manager)\u001b[0m\n\u001b[1;32m    553\u001b[0m       \u001b[0;32mwith\u001b[0m \u001b[0m_InterpolateFunctionError\u001b[0m\u001b[0;34m(\u001b[0m\u001b[0mself\u001b[0m\u001b[0;34m)\u001b[0m\u001b[0;34m:\u001b[0m\u001b[0;34m\u001b[0m\u001b[0;34m\u001b[0m\u001b[0m\n\u001b[1;32m    554\u001b[0m         \u001b[0;32mif\u001b[0m \u001b[0mcancellation_manager\u001b[0m \u001b[0;32mis\u001b[0m \u001b[0;32mNone\u001b[0m\u001b[0;34m:\u001b[0m\u001b[0;34m\u001b[0m\u001b[0;34m\u001b[0m\u001b[0m\n\u001b[0;32m--> 555\u001b[0;31m           outputs = execute.execute(\n\u001b[0m\u001b[1;32m    556\u001b[0m               \u001b[0mstr\u001b[0m\u001b[0;34m(\u001b[0m\u001b[0mself\u001b[0m\u001b[0;34m.\u001b[0m\u001b[0msignature\u001b[0m\u001b[0;34m.\u001b[0m\u001b[0mname\u001b[0m\u001b[0;34m)\u001b[0m\u001b[0;34m,\u001b[0m\u001b[0;34m\u001b[0m\u001b[0;34m\u001b[0m\u001b[0m\n\u001b[1;32m    557\u001b[0m               \u001b[0mnum_outputs\u001b[0m\u001b[0;34m=\u001b[0m\u001b[0mself\u001b[0m\u001b[0;34m.\u001b[0m\u001b[0m_num_outputs\u001b[0m\u001b[0;34m,\u001b[0m\u001b[0;34m\u001b[0m\u001b[0;34m\u001b[0m\u001b[0m\n",
      "\u001b[0;32m~/ts_spring/.env/lib/python3.8/site-packages/tensorflow/python/eager/execute.py\u001b[0m in \u001b[0;36mquick_execute\u001b[0;34m(op_name, num_outputs, inputs, attrs, ctx, name)\u001b[0m\n\u001b[1;32m     57\u001b[0m   \u001b[0;32mtry\u001b[0m\u001b[0;34m:\u001b[0m\u001b[0;34m\u001b[0m\u001b[0;34m\u001b[0m\u001b[0m\n\u001b[1;32m     58\u001b[0m     \u001b[0mctx\u001b[0m\u001b[0;34m.\u001b[0m\u001b[0mensure_initialized\u001b[0m\u001b[0;34m(\u001b[0m\u001b[0;34m)\u001b[0m\u001b[0;34m\u001b[0m\u001b[0;34m\u001b[0m\u001b[0m\n\u001b[0;32m---> 59\u001b[0;31m     tensors = pywrap_tfe.TFE_Py_Execute(ctx._handle, device_name, op_name,\n\u001b[0m\u001b[1;32m     60\u001b[0m                                         inputs, attrs, num_outputs)\n\u001b[1;32m     61\u001b[0m   \u001b[0;32mexcept\u001b[0m \u001b[0mcore\u001b[0m\u001b[0;34m.\u001b[0m\u001b[0m_NotOkStatusException\u001b[0m \u001b[0;32mas\u001b[0m \u001b[0me\u001b[0m\u001b[0;34m:\u001b[0m\u001b[0;34m\u001b[0m\u001b[0;34m\u001b[0m\u001b[0m\n",
      "\u001b[0;31mKeyboardInterrupt\u001b[0m: "
     ]
    }
   ],
   "source": [
    "model.fit(X_train, y_train, epochs=100, verbose=0)"
   ]
  },
  {
   "cell_type": "code",
   "execution_count": 65,
   "metadata": {},
   "outputs": [],
   "source": [
    "y_pred = model.predict(X_test)"
   ]
  },
  {
   "cell_type": "code",
   "execution_count": 66,
   "metadata": {},
   "outputs": [
    {
     "data": {
      "text/plain": [
       "<AxesSubplot:>"
      ]
     },
     "execution_count": 66,
     "metadata": {},
     "output_type": "execute_result"
    },
    {
     "data": {
      "image/png": "[encoded data removed]",
      "text/plain": [
       "<Figure size 432x288 with 1 Axes>"
      ]
     },
     "metadata": {
      "needs_background": "light"
     },
     "output_type": "display_data"
    }
   ],
   "source": [
    "pd.Series(y_test.flatten())[-50:].plot()\n",
    "pd.Series(y_pred.flatten())[-50:].plot()"
   ]
  },
  {
   "cell_type": "code",
   "execution_count": null,
   "metadata": {},
   "outputs": [],
   "source": []
  },
  {
   "cell_type": "markdown",
   "metadata": {},
   "source": [
    "### Bidirectional LSTM"
   ]
  },
  {
   "cell_type": "markdown",
   "metadata": {},
   "source": [
    "#### Сделаем LSTM слой сети Bidirectional при помощи доп слоя Biderectional и сравним качество"
   ]
  },
  {
   "cell_type": "code",
   "execution_count": 145,
   "metadata": {},
   "outputs": [],
   "source": [
    "from keras.layers import Bidirectional\n",
    "\n",
    "model = Sequential()\n",
    "# model.add(LSTM(50, activation='relu', input_shape=(NUM_LAGS, 1)))\n",
    "model.add(Bidirectional(LSTM(50, activation='relu', input_shape=(NUM_LAGS, 1))))\n",
    "model.add(Dense(1))\n",
    "model.compile(optimizer='adam', loss='mse')"
   ]
  },
  {
   "cell_type": "code",
   "execution_count": 146,
   "metadata": {},
   "outputs": [
    {
     "data": {
      "text/plain": [
       "<tensorflow.python.keras.callbacks.History at 0x176dca280>"
      ]
     },
     "execution_count": 146,
     "metadata": {},
     "output_type": "execute_result"
    }
   ],
   "source": [
    "model.fit(X_train, y_train, epochs=10, verbose=0)"
   ]
  },
  {
   "cell_type": "code",
   "execution_count": 43,
   "metadata": {},
   "outputs": [],
   "source": [
    "y_pred = model.predict(X_test)"
   ]
  },
  {
   "cell_type": "markdown",
   "metadata": {},
   "source": [
    "### Seq2Seq LSTM - когда нужно сделать предсказание на несколько точек вперед"
   ]
  },
  {
   "cell_type": "markdown",
   "metadata": {},
   "source": [
    "#### Подготовим данные"
   ]
  },
  {
   "cell_type": "code",
   "execution_count": 155,
   "metadata": {},
   "outputs": [],
   "source": [
    "from typing import Tuple\n",
    "\n",
    "def transform_ts_into_matrix(ts: pd.Series, num_lags_in: int, num_lags_out: int) -> Tuple[np.array, np.array]:\n",
    "    \"\"\"\n",
    "    Данная функция должна пройтись скользящим окном по временному ряду и для каждых\n",
    "    num_lags_in точек в качестве признаков собрать num_lags_out следующих точек в качестве таргета.\n",
    "    \n",
    "    Вернуть два np.array массива из X_train и y_train соответственно\n",
    "    \"\"\"\n",
    "    sequence = ts.values\n",
    "    X, y = list(), list()\n",
    "    i = 0\n",
    "    outer_idx = num_lags_out\n",
    "    while outer_idx < len(sequence):\n",
    "        inner_idx = i + num_lags_in\n",
    "        outer_idx = inner_idx + num_lags_out\n",
    "        X_, y_ = sequence[i:inner_idx], sequence[inner_idx:outer_idx]\n",
    "        X.append(X_)\n",
    "        y.append(y_)\n",
    "        i += 1\n",
    "    return np.array(X), np.array(y)"
   ]
  },
  {
   "cell_type": "code",
   "execution_count": 164,
   "metadata": {},
   "outputs": [],
   "source": [
    "# получите X и y при помощи предыдущей функции и разбейте на трейн и тест \n",
    "NUM_LAGS_IN = 28\n",
    "NUM_LAGS_OUT = 7\n",
    "\n",
    "X, y = transform_ts_into_matrix(ts, NUM_LAGS_IN, NUM_LAGS_OUT)"
   ]
  },
  {
   "cell_type": "code",
   "execution_count": 166,
   "metadata": {},
   "outputs": [],
   "source": [
    "X = X.reshape((X.shape[0], X.shape[1], 1))"
   ]
  },
  {
   "cell_type": "code",
   "execution_count": 167,
   "metadata": {},
   "outputs": [
    {
     "data": {
      "text/plain": [
       "(3615, 28, 1)"
      ]
     },
     "execution_count": 167,
     "metadata": {},
     "output_type": "execute_result"
    }
   ],
   "source": [
    "X.shape"
   ]
  },
  {
   "cell_type": "code",
   "execution_count": 157,
   "metadata": {},
   "outputs": [],
   "source": [
    "# объявим енкодер\n",
    "model = Sequential()\n",
    "model.add(LSTM(100, activation='relu', input_shape=(NUM_LAGS_IN, 1)))"
   ]
  },
  {
   "cell_type": "code",
   "execution_count": 158,
   "metadata": {},
   "outputs": [],
   "source": [
    "# добавим промежуточный слой, преобразующий выход с енкодера для входного слоя в декодер\n",
    "from keras.layers import RepeatVector\n",
    "model.add(RepeatVector(NUM_LAGS_OUT))"
   ]
  },
  {
   "cell_type": "code",
   "execution_count": 159,
   "metadata": {},
   "outputs": [],
   "source": [
    "# обьявим декодер\n",
    "model.add(LSTM(50, activation='relu', return_sequences=True))"
   ]
  },
  {
   "cell_type": "code",
   "execution_count": 160,
   "metadata": {},
   "outputs": [],
   "source": [
    "# обьявим выходной слой - размерность на выходе получается при помощи дополнительного слоя TimeDistributed\n",
    "from keras.layers import TimeDistributed\n",
    "model.add(TimeDistributed(Dense(1)))"
   ]
  },
  {
   "cell_type": "markdown",
   "metadata": {},
   "source": [
    "#### Обучим модель и получим предсказание на тесте"
   ]
  },
  {
   "cell_type": "code",
   "execution_count": 161,
   "metadata": {},
   "outputs": [],
   "source": [
    "model.compile(optimizer='adam', loss='mse')"
   ]
  },
  {
   "cell_type": "code",
   "execution_count": 163,
   "metadata": {},
   "outputs": [
    {
     "name": "stdout",
     "output_type": "stream",
     "text": [
      "Model: \"sequential_11\"\n",
      "_________________________________________________________________\n",
      "Layer (type)                 Output Shape              Param #   \n",
      "=================================================================\n",
      "lstm_16 (LSTM)               (None, 100)               40800     \n",
      "_________________________________________________________________\n",
      "repeat_vector_2 (RepeatVecto (None, 7, 100)            0         \n",
      "_________________________________________________________________\n",
      "lstm_17 (LSTM)               (None, 7, 50)             30200     \n",
      "_________________________________________________________________\n",
      "time_distributed_1 (TimeDist (None, 7, 1)              51        \n",
      "=================================================================\n",
      "Total params: 71,051\n",
      "Trainable params: 71,051\n",
      "Non-trainable params: 0\n",
      "_________________________________________________________________\n"
     ]
    }
   ],
   "source": [
    "model.summary()"
   ]
  },
  {
   "cell_type": "code",
   "execution_count": 105,
   "metadata": {},
   "outputs": [
    {
     "data": {
      "text/plain": [
       "<tensorflow.python.keras.callbacks.History at 0x17602ed30>"
      ]
     },
     "execution_count": 105,
     "metadata": {},
     "output_type": "execute_result"
    }
   ],
   "source": [
    "model.fit(X_train, y_train, epochs=10, verbose=0)"
   ]
  },
  {
   "cell_type": "code",
   "execution_count": 106,
   "metadata": {},
   "outputs": [],
   "source": [
    "y_pred = model.predict(X_test)"
   ]
  },
  {
   "cell_type": "code",
   "execution_count": null,
   "metadata": {},
   "outputs": [],
   "source": []
  },
  {
   "cell_type": "markdown",
   "metadata": {},
   "source": [
    "### Пример с многомерным рядом."
   ]
  },
  {
   "cell_type": "code",
   "execution_count": 179,
   "metadata": {},
   "outputs": [],
   "source": [
    "ts_multi = pd.read_csv('../data/stability_index.csv', index_col='timestamp', parse_dates=True)"
   ]
  },
  {
   "cell_type": "code",
   "execution_count": 180,
   "metadata": {},
   "outputs": [],
   "source": [
    "ts_multi.fillna(ts_multi.mean(), axis=0, inplace=True)"
   ]
  },
  {
   "cell_type": "code",
   "execution_count": 181,
   "metadata": {},
   "outputs": [],
   "source": [
    "def transform_multi_ts_into_matrix(ts: pd.DataFrame, num_lags: int):\n",
    "    \"\"\"\n",
    "    Данная функция должна пройтись скользящим окном по временному ряду\n",
    "    и собрать в качестве признаков X np.array размерности (len(ts)-num_lags, n_dims, num_lags),\n",
    "    а в качестве y np.array размерности (len(ts)-num_lags, n_dims),\n",
    "    где n_dims - размерность многомерного ряда.\n",
    "    \n",
    "    То есть для всех компонент временного ряда мы должны взять num_lags предыдущих точек каждой компонент\n",
    "    в качестве признаков и все компоненты текущей точки в качестве target\n",
    "    \"\"\"\n",
    "    sequence = ts.values\n",
    "    X, y = list(), list()\n",
    "    i = 0\n",
    "    end_i = num_lags\n",
    "    while end_i < len(sequence): \n",
    "        seq_x, seq_y = sequence[i:end_i], sequence[end_i]\n",
    "        X.append(seq_x)\n",
    "        y.append(seq_y)\n",
    "        i += 1\n",
    "        end_i = i + num_lags\n",
    "    return np.array(X), np.array(y)"
   ]
  },
  {
   "cell_type": "code",
   "execution_count": 182,
   "metadata": {},
   "outputs": [
    {
     "data": {
      "text/plain": [
       "array([[205.,  92.,  63.,  55.,  26.,  27.,  20.,  34., 155.],\n",
       "       [173.,  97.,  69.,  44.,  31.,  22.,  41.,  26., 182.],\n",
       "       [145.,  83.,  73.,  58.,  40.,  25.,  31.,  19., 167.],\n",
       "       [ 84.,  60.,  53.,  39.,  32.,  31.,  19.,  15., 102.],\n",
       "       [117.,  77.,  40.,  53.,  33.,  29.,  21.,  30., 160.],\n",
       "       [112.,  59.,  66.,  50.,  24.,  29.,  19.,  23., 145.],\n",
       "       [119.,  64.,  53.,  41.,  32.,  29.,  29.,  22., 140.],\n",
       "       [105.,  44.,  44.,  42.,  28.,  19.,  27.,  11., 142.],\n",
       "       [106.,  36.,  49.,  33.,  19.,  30.,  23.,  20., 115.],\n",
       "       [ 72.,  46.,  32.,  26.,  15.,  25.,  20.,  17.,  85.],\n",
       "       [ 61.,  32.,  23.,  14.,  15.,  19.,   9.,   8.,  69.],\n",
       "       [ 53.,  26.,  13.,  21.,  11.,  12.,   6.,   6.,  55.],\n",
       "       [ 32.,  21.,  11.,   9.,   6.,   7.,   5.,   7.,  58.],\n",
       "       [ 16.,  23.,  11.,   5.,   9.,   6.,   9.,  11.,  30.]])"
      ]
     },
     "execution_count": 182,
     "metadata": {},
     "output_type": "execute_result"
    }
   ],
   "source": [
    "X[0]"
   ]
  },
  {
   "cell_type": "code",
   "execution_count": 188,
   "metadata": {},
   "outputs": [],
   "source": [
    "NUM_LAGS = 14\n",
    "N_DIMS = ts_multi.shape[1]\n",
    "X, y = transform_multi_ts_into_matrix(ts_multi, NUM_LAGS)"
   ]
  },
  {
   "cell_type": "code",
   "execution_count": 184,
   "metadata": {},
   "outputs": [
    {
     "data": {
      "text/plain": [
       "(14, 9)"
      ]
     },
     "execution_count": 184,
     "metadata": {},
     "output_type": "execute_result"
    }
   ],
   "source": [
    "X[0].shape"
   ]
  },
  {
   "cell_type": "code",
   "execution_count": 185,
   "metadata": {},
   "outputs": [],
   "source": [
    "# объявим енкодер\n",
    "model = Sequential()\n",
    "model.add(LSTM(100, activation='relu', input_shape=(NUM_LAGS, N_DIMS)))"
   ]
  },
  {
   "cell_type": "code",
   "execution_count": 186,
   "metadata": {},
   "outputs": [],
   "source": [
    "# добавим промежуточный слой, преобразующий выход с енкодера для входного слоя в декодер\n",
    "from keras.layers import RepeatVector\n",
    "model.add(RepeatVector(N_DIMS))"
   ]
  },
  {
   "cell_type": "code",
   "execution_count": 78,
   "metadata": {},
   "outputs": [],
   "source": [
    "# обьявим декодер\n",
    "model.add(LSTM(50, activation='relu', return_sequences=True))"
   ]
  },
  {
   "cell_type": "code",
   "execution_count": 79,
   "metadata": {},
   "outputs": [],
   "source": [
    "# обьявим выходной слой - размерность на выходе получается при помощи дополнительного слоя TimeDistributed\n",
    "from keras.layers import TimeDistributed\n",
    "model.add(TimeDistributed(Dense(1)))"
   ]
  },
  {
   "cell_type": "code",
   "execution_count": 81,
   "metadata": {},
   "outputs": [],
   "source": [
    "model.compile(optimizer='adam', loss='mse')"
   ]
  },
  {
   "cell_type": "code",
   "execution_count": 83,
   "metadata": {},
   "outputs": [
    {
     "name": "stdout",
     "output_type": "stream",
     "text": [
      "Epoch 1/50\n",
      "130/130 [==============================] - 1s 9ms/step - loss: 4337.5293\n",
      "Epoch 2/50\n",
      "130/130 [==============================] - 1s 10ms/step - loss: 3359.5718\n",
      "Epoch 3/50\n",
      "130/130 [==============================] - 1s 11ms/step - loss: 2346.5215\n",
      "Epoch 4/50\n",
      "130/130 [==============================] - 1s 11ms/step - loss: 1834.7770\n",
      "Epoch 5/50\n",
      "130/130 [==============================] - 1s 9ms/step - loss: 1693.2955\n",
      "Epoch 6/50\n",
      "130/130 [==============================] - 1s 10ms/step - loss: 1496.0602\n",
      "Epoch 7/50\n",
      "130/130 [==============================] - 1s 10ms/step - loss: 1387.5758\n",
      "Epoch 8/50\n",
      "130/130 [==============================] - 1s 11ms/step - loss: 1265.3087\n",
      "Epoch 9/50\n",
      "130/130 [==============================] - 1s 9ms/step - loss: 1505.0157\n",
      "Epoch 10/50\n",
      "130/130 [==============================] - 1s 9ms/step - loss: 1514.8870\n",
      "Epoch 11/50\n",
      "130/130 [==============================] - 1s 8ms/step - loss: 1301.9706\n",
      "Epoch 12/50\n",
      "130/130 [==============================] - 1s 9ms/step - loss: 1278.9486\n",
      "Epoch 13/50\n",
      "130/130 [==============================] - 1s 9ms/step - loss: 1309.2554\n",
      "Epoch 14/50\n",
      "130/130 [==============================] - 1s 9ms/step - loss: 1628.4979\n",
      "Epoch 15/50\n",
      "130/130 [==============================] - 1s 9ms/step - loss: 1819.9342\n",
      "Epoch 16/50\n",
      "130/130 [==============================] - 1s 9ms/step - loss: 1520.2660\n",
      "Epoch 17/50\n",
      "130/130 [==============================] - 1s 9ms/step - loss: 1324.4885\n",
      "Epoch 18/50\n",
      "130/130 [==============================] - 1s 9ms/step - loss: 1299.3295\n",
      "Epoch 19/50\n",
      "130/130 [==============================] - 1s 9ms/step - loss: 1186.3156\n",
      "Epoch 20/50\n",
      "130/130 [==============================] - 1s 10ms/step - loss: 1122.8571\n",
      "Epoch 21/50\n",
      "130/130 [==============================] - 1s 9ms/step - loss: 1125.4316\n",
      "Epoch 22/50\n",
      "130/130 [==============================] - 1s 10ms/step - loss: 1119.9897\n",
      "Epoch 23/50\n",
      "130/130 [==============================] - 1s 9ms/step - loss: 1101.6624\n",
      "Epoch 24/50\n",
      "130/130 [==============================] - 1s 9ms/step - loss: 1097.9153\n",
      "Epoch 25/50\n",
      "130/130 [==============================] - 1s 9ms/step - loss: 1144.5050\n",
      "Epoch 26/50\n",
      "130/130 [==============================] - 1s 9ms/step - loss: 1181.8234\n",
      "Epoch 27/50\n",
      "130/130 [==============================] - 1s 10ms/step - loss: 1165.9486\n",
      "Epoch 28/50\n",
      "130/130 [==============================] - 1s 10ms/step - loss: 1132.3014\n",
      "Epoch 29/50\n",
      "130/130 [==============================] - 1s 10ms/step - loss: 1069.6210\n",
      "Epoch 30/50\n",
      "130/130 [==============================] - 1s 9ms/step - loss: 1028.5364\n",
      "Epoch 31/50\n",
      "130/130 [==============================] - 1s 9ms/step - loss: 1086.3086\n",
      "Epoch 32/50\n",
      "130/130 [==============================] - 1s 9ms/step - loss: 1303.5736\n",
      "Epoch 33/50\n",
      "130/130 [==============================] - 1s 9ms/step - loss: 1373.5681\n",
      "Epoch 34/50\n",
      "130/130 [==============================] - 1s 9ms/step - loss: 1222.9882\n",
      "Epoch 35/50\n",
      "130/130 [==============================] - 1s 9ms/step - loss: 1151.4961\n",
      "Epoch 36/50\n",
      "130/130 [==============================] - 1s 9ms/step - loss: 1116.9482\n",
      "Epoch 37/50\n",
      "130/130 [==============================] - 1s 11ms/step - loss: 1094.3457\n",
      "Epoch 38/50\n",
      "130/130 [==============================] - 1s 10ms/step - loss: 1046.0753\n",
      "Epoch 39/50\n",
      "130/130 [==============================] - 1s 9ms/step - loss: 1030.7870\n",
      "Epoch 40/50\n",
      "130/130 [==============================] - 1s 9ms/step - loss: 1446.4260\n",
      "Epoch 41/50\n",
      "130/130 [==============================] - 1s 9ms/step - loss: 1158.3619\n",
      "Epoch 42/50\n",
      "130/130 [==============================] - 1s 10ms/step - loss: 1058.0692\n",
      "Epoch 43/50\n",
      "130/130 [==============================] - 1s 10ms/step - loss: 1028.4990\n",
      "Epoch 44/50\n",
      "130/130 [==============================] - 1s 10ms/step - loss: 1020.4298\n",
      "Epoch 45/50\n",
      "130/130 [==============================] - 1s 10ms/step - loss: 1017.2426\n",
      "Epoch 46/50\n",
      "130/130 [==============================] - 1s 10ms/step - loss: 995.0058\n",
      "Epoch 47/50\n",
      "130/130 [==============================] - 1s 10ms/step - loss: 979.2719\n",
      "Epoch 48/50\n",
      "130/130 [==============================] - 1s 10ms/step - loss: 965.5411\n",
      "Epoch 49/50\n",
      "130/130 [==============================] - 1s 10ms/step - loss: 982.8457\n",
      "Epoch 50/50\n",
      "130/130 [==============================] - 1s 10ms/step - loss: 954.3374\n"
     ]
    },
    {
     "data": {
      "text/plain": [
       "<tensorflow.python.keras.callbacks.History at 0x154793ac8>"
      ]
     },
     "execution_count": 83,
     "metadata": {},
     "output_type": "execute_result"
    }
   ],
   "source": [
    "model.fit(X, y, epochs=50)"
   ]
  },
  {
   "cell_type": "code",
   "execution_count": null,
   "metadata": {},
   "outputs": [],
   "source": []
  }
 ],
 "metadata": {
  "kernelspec": {
   "display_name": "Python 3",
   "language": "python",
   "name": "python3"
  },
  "language_info": {
   "codemirror_mode": {
    "name": "ipython",
    "version": 3
   },
   "file_extension": ".py",
   "mimetype": "text/x-python",
   "name": "python",
   "nbconvert_exporter": "python",
   "pygments_lexer": "ipython3",
   "version": "3.8.2"
  }
 },
 "nbformat": 4,
 "nbformat_minor": 4
}
