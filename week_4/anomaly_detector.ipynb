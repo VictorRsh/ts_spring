{
 "cells": [
  {
   "cell_type": "code",
   "execution_count": 75,
   "metadata": {},
   "outputs": [
    {
     "name": "stdout",
     "output_type": "stream",
     "text": [
      "The autoreload extension is already loaded. To reload it, use:\n",
      "  %reload_ext autoreload\n"
     ]
    }
   ],
   "source": [
    "%load_ext autoreload\n",
    "%autoreload 2\n",
    "%matplotlib inline"
   ]
  },
  {
   "cell_type": "code",
   "execution_count": 76,
   "metadata": {},
   "outputs": [],
   "source": [
    "import sys\n",
    "from pathlib import Path\n",
    "\n",
    "sys.path.append(str(Path().cwd().parent))"
   ]
  },
  {
   "cell_type": "code",
   "execution_count": 119,
   "metadata": {},
   "outputs": [],
   "source": [
    "import pandas as pd\n",
    "from load_dataset import Dataset\n",
    "from model import TimeSeriesPredictor, TimeSeriesDetector\n",
    "from sklearn.linear_model import Ridge"
   ]
  },
  {
   "cell_type": "code",
   "execution_count": 78,
   "metadata": {},
   "outputs": [],
   "source": [
    "import plotting"
   ]
  },
  {
   "cell_type": "code",
   "execution_count": 146,
   "metadata": {},
   "outputs": [],
   "source": [
    "from typing import Tuple"
   ]
  },
  {
   "cell_type": "markdown",
   "metadata": {},
   "source": [
    "## Разбор (запускать не надо)"
   ]
  },
  {
   "cell_type": "markdown",
   "metadata": {},
   "source": [
    "#### Возьмем часовой временной ряд"
   ]
  },
  {
   "cell_type": "code",
   "execution_count": 104,
   "metadata": {},
   "outputs": [],
   "source": [
    "dataset = Dataset('../data/dataset')"
   ]
  },
  {
   "cell_type": "code",
   "execution_count": 105,
   "metadata": {},
   "outputs": [],
   "source": [
    "ts = dataset['hour_2263.csv']"
   ]
  },
  {
   "cell_type": "code",
   "execution_count": 106,
   "metadata": {},
   "outputs": [
    {
     "data": {
      "text/plain": [
       "<AxesSubplot:xlabel='2019-05-19 04:00:00'>"
      ]
     },
     "execution_count": 106,
     "metadata": {},
     "output_type": "execute_result"
    },
    {
     "data": {
      "image/png": "[encoded data removed]",
      "text/plain": [
       "<Figure size 432x288 with 1 Axes>"
      ]
     },
     "metadata": {
      "needs_background": "light"
     },
     "output_type": "display_data"
    }
   ],
   "source": [
    "ts.plot()"
   ]
  },
  {
   "cell_type": "markdown",
   "metadata": {},
   "source": [
    "#### Разделим на трейн и тест"
   ]
  },
  {
   "cell_type": "code",
   "execution_count": 132,
   "metadata": {},
   "outputs": [],
   "source": [
    "ts_train, ts_test = ts[:-100], ts[-100:]"
   ]
  },
  {
   "cell_type": "markdown",
   "metadata": {},
   "source": [
    "#### Создадим инстанс детектора с Ridge в качестве базы"
   ]
  },
  {
   "cell_type": "code",
   "execution_count": 133,
   "metadata": {},
   "outputs": [],
   "source": [
    "detector = TimeSeriesDetector(\n",
    "    granularity='PT1H',\n",
    "    num_lags=14,\n",
    "    model=Ridge,\n",
    "    alpha=7,\n",
    "    sigma=2.3\n",
    ")"
   ]
  },
  {
   "cell_type": "markdown",
   "metadata": {},
   "source": [
    "#### Обучим модель на трейне"
   ]
  },
  {
   "cell_type": "code",
   "execution_count": 134,
   "metadata": {},
   "outputs": [],
   "source": [
    "detector.fit(ts_train)"
   ]
  },
  {
   "cell_type": "markdown",
   "metadata": {},
   "source": [
    "#### Используя обученную модель, соберем статистику с трейна"
   ]
  },
  {
   "cell_type": "code",
   "execution_count": 135,
   "metadata": {},
   "outputs": [],
   "source": [
    "detector.fit_statistics(ts_train)"
   ]
  },
  {
   "cell_type": "code",
   "execution_count": 136,
   "metadata": {},
   "outputs": [
    {
     "data": {
      "text/plain": [
       "27.306385954508798"
      ]
     },
     "execution_count": 136,
     "metadata": {},
     "output_type": "execute_result"
    }
   ],
   "source": [
    "predictor.std"
   ]
  },
  {
   "cell_type": "markdown",
   "metadata": {},
   "source": [
    "#### Сделаем in-sample прогноз на ts_test"
   ]
  },
  {
   "cell_type": "code",
   "execution_count": 137,
   "metadata": {},
   "outputs": [],
   "source": [
    "preds = detector.predict_batch(ts_train, ts_test)"
   ]
  },
  {
   "cell_type": "markdown",
   "metadata": {},
   "source": [
    "#### Используя найденную статистику (стандартное отклонение от остатков), получим доверительные интервалы"
   ]
  },
  {
   "cell_type": "code",
   "execution_count": 138,
   "metadata": {},
   "outputs": [],
   "source": [
    "lower, upper = predictor.get_prediction_intervals(preds)"
   ]
  },
  {
   "cell_type": "code",
   "execution_count": 139,
   "metadata": {},
   "outputs": [
    {
     "data": {
      "text/plain": [
       "2019-05-19 04:00:00\n",
       "2019-06-16 06:00:00   -52.326220\n",
       "2019-06-16 07:00:00   -43.645803\n",
       "2019-06-16 08:00:00   -36.275508\n",
       "2019-06-16 09:00:00   -29.857556\n",
       "2019-06-16 10:00:00   -20.224954\n",
       "                         ...    \n",
       "2019-06-21 10:00:00   -43.983752\n",
       "2019-06-21 11:00:00   -30.818492\n",
       "2019-06-21 12:00:00    30.098231\n",
       "2019-06-21 13:00:00   -11.960637\n",
       "2019-06-21 14:00:00    -2.258312\n",
       "Length: 100, dtype: float64"
      ]
     },
     "execution_count": 139,
     "metadata": {},
     "output_type": "execute_result"
    }
   ],
   "source": [
    "lower"
   ]
  },
  {
   "cell_type": "code",
   "execution_count": 140,
   "metadata": {},
   "outputs": [
    {
     "data": {
      "text/plain": [
       "2019-05-19 04:00:00\n",
       "2019-06-16 06:00:00     73.283156\n",
       "2019-06-16 07:00:00     81.963573\n",
       "2019-06-16 08:00:00     89.333867\n",
       "2019-06-16 09:00:00     95.751820\n",
       "2019-06-16 10:00:00    105.384421\n",
       "                          ...    \n",
       "2019-06-21 10:00:00     81.625624\n",
       "2019-06-21 11:00:00     94.790883\n",
       "2019-06-21 12:00:00    155.707606\n",
       "2019-06-21 13:00:00    113.648738\n",
       "2019-06-21 14:00:00    123.351064\n",
       "Length: 100, dtype: float64"
      ]
     },
     "execution_count": 140,
     "metadata": {},
     "output_type": "execute_result"
    }
   ],
   "source": [
    "upper"
   ]
  },
  {
   "cell_type": "markdown",
   "metadata": {},
   "source": [
    "#### Получим аномалии"
   ]
  },
  {
   "cell_type": "code",
   "execution_count": 141,
   "metadata": {},
   "outputs": [],
   "source": [
    "anoms = predictor.detect(ts_test, preds)"
   ]
  },
  {
   "cell_type": "code",
   "execution_count": 142,
   "metadata": {},
   "outputs": [
    {
     "data": {
      "text/plain": [
       "2019-05-19 04:00:00\n",
       "2019-06-20 14:00:00    134.0\n",
       "2019-06-20 15:00:00     32.0\n",
       "2019-06-21 11:00:00    150.0\n",
       "Name: 2.0, dtype: float64"
      ]
     },
     "execution_count": 142,
     "metadata": {},
     "output_type": "execute_result"
    }
   ],
   "source": [
    "anoms"
   ]
  },
  {
   "cell_type": "code",
   "execution_count": 143,
   "metadata": {},
   "outputs": [
    {
     "data": {
      "text/html": [
       "\n",
       "    <div class=\"bk-root\">\n",
       "        <a href=\"https://bokeh.org\" target=\"_blank\" class=\"bk-logo bk-logo-small bk-logo-notebook\"></a>\n",
       "        <span id=\"3329\">Loading BokehJS ...</span>\n",
       "    </div>"
      ]
     },
     "metadata": {},
     "output_type": "display_data"
    },
    {
     "data": {
      "application/javascript": [
       "\n",
       "(function(root) {\n",
       "  function now() {\n",
       "    return new Date();\n",
       "  }\n",
       "\n",
       "  var force = true;\n",
       "\n",
       "  if (typeof root._bokeh_onload_callbacks === \"undefined\" || force === true) {\n",
       "    root._bokeh_onload_callbacks = [];\n",
       "    root._bokeh_is_loading = undefined;\n",
       "  }\n",
       "\n",
       "  var JS_MIME_TYPE = 'application/javascript';\n",
       "  var HTML_MIME_TYPE = 'text/html';\n",
       "  var EXEC_MIME_TYPE = 'application/vnd.bokehjs_exec.v0+json';\n",
       "  var CLASS_NAME = 'output_bokeh rendered_html';\n",
       "\n",
       "  /**\n",
       "   * Render data to the DOM node\n",
       "   */\n",
       "  function render(props, node) {\n",
       "    var script = document.createElement(\"script\");\n",
       "    node.appendChild(script);\n",
       "  }\n",
       "\n",
       "  /**\n",
       "   * Handle when an output is cleared or removed\n",
       "   */\n",
       "  function handleClearOutput(event, handle) {\n",
       "    var cell = handle.cell;\n",
       "\n",
       "    var id = cell.output_area._bokeh_element_id;\n",
       "    var server_id = cell.output_area._bokeh_server_id;\n",
       "    // Clean up Bokeh references\n",
       "    if (id != null && id in Bokeh.index) {\n",
       "      Bokeh.index[id].model.document.clear();\n",
       "      delete Bokeh.index[id];\n",
       "    }\n",
       "\n",
       "    if (server_id !== undefined) {\n",
       "      // Clean up Bokeh references\n",
       "      var cmd = \"from bokeh.io.state import curstate; print(curstate().uuid_to_server['\" + server_id + \"'].get_sessions()[0].document.roots[0]._id)\";\n",
       "      cell.notebook.kernel.execute(cmd, {\n",
       "        iopub: {\n",
       "          output: function(msg) {\n",
       "            var id = msg.content.text.trim();\n",
       "            if (id in Bokeh.index) {\n",
       "              Bokeh.index[id].model.document.clear();\n",
       "              delete Bokeh.index[id];\n",
       "            }\n",
       "          }\n",
       "        }\n",
       "      });\n",
       "      // Destroy server and session\n",
       "      var cmd = \"import bokeh.io.notebook as ion; ion.destroy_server('\" + server_id + \"')\";\n",
       "      cell.notebook.kernel.execute(cmd);\n",
       "    }\n",
       "  }\n",
       "\n",
       "  /**\n",
       "   * Handle when a new output is added\n",
       "   */\n",
       "  function handleAddOutput(event, handle) {\n",
       "    var output_area = handle.output_area;\n",
       "    var output = handle.output;\n",
       "\n",
       "    // limit handleAddOutput to display_data with EXEC_MIME_TYPE content only\n",
       "    if ((output.output_type != \"display_data\") || (!Object.prototype.hasOwnProperty.call(output.data, EXEC_MIME_TYPE))) {\n",
       "      return\n",
       "    }\n",
       "\n",
       "    var toinsert = output_area.element.find(\".\" + CLASS_NAME.split(' ')[0]);\n",
       "\n",
       "    if (output.metadata[EXEC_MIME_TYPE][\"id\"] !== undefined) {\n",
       "      toinsert[toinsert.length - 1].firstChild.textContent = output.data[JS_MIME_TYPE];\n",
       "      // store reference to embed id on output_area\n",
       "      output_area._bokeh_element_id = output.metadata[EXEC_MIME_TYPE][\"id\"];\n",
       "    }\n",
       "    if (output.metadata[EXEC_MIME_TYPE][\"server_id\"] !== undefined) {\n",
       "      var bk_div = document.createElement(\"div\");\n",
       "      bk_div.innerHTML = output.data[HTML_MIME_TYPE];\n",
       "      var script_attrs = bk_div.children[0].attributes;\n",
       "      for (var i = 0; i < script_attrs.length; i++) {\n",
       "        toinsert[toinsert.length - 1].firstChild.setAttribute(script_attrs[i].name, script_attrs[i].value);\n",
       "        toinsert[toinsert.length - 1].firstChild.textContent = bk_div.children[0].textContent\n",
       "      }\n",
       "      // store reference to server id on output_area\n",
       "      output_area._bokeh_server_id = output.metadata[EXEC_MIME_TYPE][\"server_id\"];\n",
       "    }\n",
       "  }\n",
       "\n",
       "  function register_renderer(events, OutputArea) {\n",
       "\n",
       "    function append_mime(data, metadata, element) {\n",
       "      // create a DOM node to render to\n",
       "      var toinsert = this.create_output_subarea(\n",
       "        metadata,\n",
       "        CLASS_NAME,\n",
       "        EXEC_MIME_TYPE\n",
       "      );\n",
       "      this.keyboard_manager.register_events(toinsert);\n",
       "      // Render to node\n",
       "      var props = {data: data, metadata: metadata[EXEC_MIME_TYPE]};\n",
       "      render(props, toinsert[toinsert.length - 1]);\n",
       "      element.append(toinsert);\n",
       "      return toinsert\n",
       "    }\n",
       "\n",
       "    /* Handle when an output is cleared or removed */\n",
       "    events.on('clear_output.CodeCell', handleClearOutput);\n",
       "    events.on('delete.Cell', handleClearOutput);\n",
       "\n",
       "    /* Handle when a new output is added */\n",
       "    events.on('output_added.OutputArea', handleAddOutput);\n",
       "\n",
       "    /**\n",
       "     * Register the mime type and append_mime function with output_area\n",
       "     */\n",
       "    OutputArea.prototype.register_mime_type(EXEC_MIME_TYPE, append_mime, {\n",
       "      /* Is output safe? */\n",
       "      safe: true,\n",
       "      /* Index of renderer in `output_area.display_order` */\n",
       "      index: 0\n",
       "    });\n",
       "  }\n",
       "\n",
       "  // register the mime type if in Jupyter Notebook environment and previously unregistered\n",
       "  if (root.Jupyter !== undefined) {\n",
       "    var events = require('base/js/events');\n",
       "    var OutputArea = require('notebook/js/outputarea').OutputArea;\n",
       "\n",
       "    if (OutputArea.prototype.mime_types().indexOf(EXEC_MIME_TYPE) == -1) {\n",
       "      register_renderer(events, OutputArea);\n",
       "    }\n",
       "  }\n",
       "\n",
       "  \n",
       "  if (typeof (root._bokeh_timeout) === \"undefined\" || force === true) {\n",
       "    root._bokeh_timeout = Date.now() + 5000;\n",
       "    root._bokeh_failed_load = false;\n",
       "  }\n",
       "\n",
       "  var NB_LOAD_WARNING = {'data': {'text/html':\n",
       "     \"<div style='background-color: #fdd'>\\n\"+\n",
       "     \"<p>\\n\"+\n",
       "     \"BokehJS does not appear to have successfully loaded. If loading BokehJS from CDN, this \\n\"+\n",
       "     \"may be due to a slow or bad network connection. Possible fixes:\\n\"+\n",
       "     \"</p>\\n\"+\n",
       "     \"<ul>\\n\"+\n",
       "     \"<li>re-rerun `output_notebook()` to attempt to load from CDN again, or</li>\\n\"+\n",
       "     \"<li>use INLINE resources instead, as so:</li>\\n\"+\n",
       "     \"</ul>\\n\"+\n",
       "     \"<code>\\n\"+\n",
       "     \"from bokeh.resources import INLINE\\n\"+\n",
       "     \"output_notebook(resources=INLINE)\\n\"+\n",
       "     \"</code>\\n\"+\n",
       "     \"</div>\"}};\n",
       "\n",
       "  function display_loaded() {\n",
       "    var el = document.getElementById(\"3329\");\n",
       "    if (el != null) {\n",
       "      el.textContent = \"BokehJS is loading...\";\n",
       "    }\n",
       "    if (root.Bokeh !== undefined) {\n",
       "      if (el != null) {\n",
       "        el.textContent = \"BokehJS \" + root.Bokeh.version + \" successfully loaded.\";\n",
       "      }\n",
       "    } else if (Date.now() < root._bokeh_timeout) {\n",
       "      setTimeout(display_loaded, 100)\n",
       "    }\n",
       "  }\n",
       "\n",
       "\n",
       "  function run_callbacks() {\n",
       "    try {\n",
       "      root._bokeh_onload_callbacks.forEach(function(callback) {\n",
       "        if (callback != null)\n",
       "          callback();\n",
       "      });\n",
       "    } finally {\n",
       "      delete root._bokeh_onload_callbacks\n",
       "    }\n",
       "    console.debug(\"Bokeh: all callbacks have finished\");\n",
       "  }\n",
       "\n",
       "  function load_libs(css_urls, js_urls, callback) {\n",
       "    if (css_urls == null) css_urls = [];\n",
       "    if (js_urls == null) js_urls = [];\n",
       "\n",
       "    root._bokeh_onload_callbacks.push(callback);\n",
       "    if (root._bokeh_is_loading > 0) {\n",
       "      console.debug(\"Bokeh: BokehJS is being loaded, scheduling callback at\", now());\n",
       "      return null;\n",
       "    }\n",
       "    if (js_urls == null || js_urls.length === 0) {\n",
       "      run_callbacks();\n",
       "      return null;\n",
       "    }\n",
       "    console.debug(\"Bokeh: BokehJS not loaded, scheduling load and callback at\", now());\n",
       "    root._bokeh_is_loading = css_urls.length + js_urls.length;\n",
       "\n",
       "    function on_load() {\n",
       "      root._bokeh_is_loading--;\n",
       "      if (root._bokeh_is_loading === 0) {\n",
       "        console.debug(\"Bokeh: all BokehJS libraries/stylesheets loaded\");\n",
       "        run_callbacks()\n",
       "      }\n",
       "    }\n",
       "\n",
       "    function on_error(url) {\n",
       "      console.error(\"failed to load \" + url);\n",
       "    }\n",
       "\n",
       "    for (let i = 0; i < css_urls.length; i++) {\n",
       "      const url = css_urls[i];\n",
       "      const element = document.createElement(\"link\");\n",
       "      element.onload = on_load;\n",
       "      element.onerror = on_error.bind(null, url);\n",
       "      element.rel = \"stylesheet\";\n",
       "      element.type = \"text/css\";\n",
       "      element.href = url;\n",
       "      console.debug(\"Bokeh: injecting link tag for BokehJS stylesheet: \", url);\n",
       "      document.body.appendChild(element);\n",
       "    }\n",
       "\n",
       "    const hashes = {\"https://cdn.bokeh.org/bokeh/release/bokeh-2.3.0.min.js\": \"HjagQp6T0/7bxYTAXbLotF1MLAGWmhkY5siA1Gc/pcEgvgRPtMsRn0gQtMwGKiw1\", \"https://cdn.bokeh.org/bokeh/release/bokeh-widgets-2.3.0.min.js\": \"ZEPPTjL+mdyqgIq+/pl9KTwzji8Kow2NnI3zWY8+sFinWP/SYJ80BnfeJsa45iYj\", \"https://cdn.bokeh.org/bokeh/release/bokeh-tables-2.3.0.min.js\": \"exLqv2ACDRIaV7ZK1iL8aGzGYQvKVuT3U2CT7FsQREBxRah6JrkVCoFy0koY1YqV\"};\n",
       "\n",
       "    for (let i = 0; i < js_urls.length; i++) {\n",
       "      const url = js_urls[i];\n",
       "      const element = document.createElement('script');\n",
       "      element.onload = on_load;\n",
       "      element.onerror = on_error.bind(null, url);\n",
       "      element.async = false;\n",
       "      element.src = url;\n",
       "      if (url in hashes) {\n",
       "        element.crossOrigin = \"anonymous\";\n",
       "        element.integrity = \"sha384-\" + hashes[url];\n",
       "      }\n",
       "      console.debug(\"Bokeh: injecting script tag for BokehJS library: \", url);\n",
       "      document.head.appendChild(element);\n",
       "    }\n",
       "  };\n",
       "\n",
       "  function inject_raw_css(css) {\n",
       "    const element = document.createElement(\"style\");\n",
       "    element.appendChild(document.createTextNode(css));\n",
       "    document.body.appendChild(element);\n",
       "  }\n",
       "\n",
       "  \n",
       "  var js_urls = [\"https://cdn.bokeh.org/bokeh/release/bokeh-2.3.0.min.js\", \"https://cdn.bokeh.org/bokeh/release/bokeh-widgets-2.3.0.min.js\", \"https://cdn.bokeh.org/bokeh/release/bokeh-tables-2.3.0.min.js\"];\n",
       "  var css_urls = [];\n",
       "  \n",
       "\n",
       "  var inline_js = [\n",
       "    function(Bokeh) {\n",
       "      Bokeh.set_log_level(\"info\");\n",
       "    },\n",
       "    function(Bokeh) {\n",
       "    \n",
       "    \n",
       "    }\n",
       "  ];\n",
       "\n",
       "  function run_inline_js() {\n",
       "    \n",
       "    if (root.Bokeh !== undefined || force === true) {\n",
       "      \n",
       "    for (var i = 0; i < inline_js.length; i++) {\n",
       "      inline_js[i].call(root, root.Bokeh);\n",
       "    }\n",
       "    if (force === true) {\n",
       "        display_loaded();\n",
       "      }} else if (Date.now() < root._bokeh_timeout) {\n",
       "      setTimeout(run_inline_js, 100);\n",
       "    } else if (!root._bokeh_failed_load) {\n",
       "      console.log(\"Bokeh: BokehJS failed to load within specified timeout.\");\n",
       "      root._bokeh_failed_load = true;\n",
       "    } else if (force !== true) {\n",
       "      var cell = $(document.getElementById(\"3329\")).parents('.cell').data().cell;\n",
       "      cell.output_area.append_execute_result(NB_LOAD_WARNING)\n",
       "    }\n",
       "\n",
       "  }\n",
       "\n",
       "  if (root._bokeh_is_loading === 0) {\n",
       "    console.debug(\"Bokeh: BokehJS loaded, going straight to plotting\");\n",
       "    run_inline_js();\n",
       "  } else {\n",
       "    load_libs(css_urls, js_urls, function() {\n",
       "      console.debug(\"Bokeh: BokehJS plotting callback run at\", now());\n",
       "      run_inline_js();\n",
       "    });\n",
       "  }\n",
       "}(window));"
      ],
      "application/vnd.bokehjs_load.v0+json": "\n(function(root) {\n  function now() {\n    return new Date();\n  }\n\n  var force = true;\n\n  if (typeof root._bokeh_onload_callbacks === \"undefined\" || force === true) {\n    root._bokeh_onload_callbacks = [];\n    root._bokeh_is_loading = undefined;\n  }\n\n  \n\n  \n  if (typeof (root._bokeh_timeout) === \"undefined\" || force === true) {\n    root._bokeh_timeout = Date.now() + 5000;\n    root._bokeh_failed_load = false;\n  }\n\n  var NB_LOAD_WARNING = {'data': {'text/html':\n     \"<div style='background-color: #fdd'>\\n\"+\n     \"<p>\\n\"+\n     \"BokehJS does not appear to have successfully loaded. If loading BokehJS from CDN, this \\n\"+\n     \"may be due to a slow or bad network connection. Possible fixes:\\n\"+\n     \"</p>\\n\"+\n     \"<ul>\\n\"+\n     \"<li>re-rerun `output_notebook()` to attempt to load from CDN again, or</li>\\n\"+\n     \"<li>use INLINE resources instead, as so:</li>\\n\"+\n     \"</ul>\\n\"+\n     \"<code>\\n\"+\n     \"from bokeh.resources import INLINE\\n\"+\n     \"output_notebook(resources=INLINE)\\n\"+\n     \"</code>\\n\"+\n     \"</div>\"}};\n\n  function display_loaded() {\n    var el = document.getElementById(\"3329\");\n    if (el != null) {\n      el.textContent = \"BokehJS is loading...\";\n    }\n    if (root.Bokeh !== undefined) {\n      if (el != null) {\n        el.textContent = \"BokehJS \" + root.Bokeh.version + \" successfully loaded.\";\n      }\n    } else if (Date.now() < root._bokeh_timeout) {\n      setTimeout(display_loaded, 100)\n    }\n  }\n\n\n  function run_callbacks() {\n    try {\n      root._bokeh_onload_callbacks.forEach(function(callback) {\n        if (callback != null)\n          callback();\n      });\n    } finally {\n      delete root._bokeh_onload_callbacks\n    }\n    console.debug(\"Bokeh: all callbacks have finished\");\n  }\n\n  function load_libs(css_urls, js_urls, callback) {\n    if (css_urls == null) css_urls = [];\n    if (js_urls == null) js_urls = [];\n\n    root._bokeh_onload_callbacks.push(callback);\n    if (root._bokeh_is_loading > 0) {\n      console.debug(\"Bokeh: BokehJS is being loaded, scheduling callback at\", now());\n      return null;\n    }\n    if (js_urls == null || js_urls.length === 0) {\n      run_callbacks();\n      return null;\n    }\n    console.debug(\"Bokeh: BokehJS not loaded, scheduling load and callback at\", now());\n    root._bokeh_is_loading = css_urls.length + js_urls.length;\n\n    function on_load() {\n      root._bokeh_is_loading--;\n      if (root._bokeh_is_loading === 0) {\n        console.debug(\"Bokeh: all BokehJS libraries/stylesheets loaded\");\n        run_callbacks()\n      }\n    }\n\n    function on_error(url) {\n      console.error(\"failed to load \" + url);\n    }\n\n    for (let i = 0; i < css_urls.length; i++) {\n      const url = css_urls[i];\n      const element = document.createElement(\"link\");\n      element.onload = on_load;\n      element.onerror = on_error.bind(null, url);\n      element.rel = \"stylesheet\";\n      element.type = \"text/css\";\n      element.href = url;\n      console.debug(\"Bokeh: injecting link tag for BokehJS stylesheet: \", url);\n      document.body.appendChild(element);\n    }\n\n    const hashes = {\"https://cdn.bokeh.org/bokeh/release/bokeh-2.3.0.min.js\": \"HjagQp6T0/7bxYTAXbLotF1MLAGWmhkY5siA1Gc/pcEgvgRPtMsRn0gQtMwGKiw1\", \"https://cdn.bokeh.org/bokeh/release/bokeh-widgets-2.3.0.min.js\": \"ZEPPTjL+mdyqgIq+/pl9KTwzji8Kow2NnI3zWY8+sFinWP/SYJ80BnfeJsa45iYj\", \"https://cdn.bokeh.org/bokeh/release/bokeh-tables-2.3.0.min.js\": \"exLqv2ACDRIaV7ZK1iL8aGzGYQvKVuT3U2CT7FsQREBxRah6JrkVCoFy0koY1YqV\"};\n\n    for (let i = 0; i < js_urls.length; i++) {\n      const url = js_urls[i];\n      const element = document.createElement('script');\n      element.onload = on_load;\n      element.onerror = on_error.bind(null, url);\n      element.async = false;\n      element.src = url;\n      if (url in hashes) {\n        element.crossOrigin = \"anonymous\";\n        element.integrity = \"sha384-\" + hashes[url];\n      }\n      console.debug(\"Bokeh: injecting script tag for BokehJS library: \", url);\n      document.head.appendChild(element);\n    }\n  };\n\n  function inject_raw_css(css) {\n    const element = document.createElement(\"style\");\n    element.appendChild(document.createTextNode(css));\n    document.body.appendChild(element);\n  }\n\n  \n  var js_urls = [\"https://cdn.bokeh.org/bokeh/release/bokeh-2.3.0.min.js\", \"https://cdn.bokeh.org/bokeh/release/bokeh-widgets-2.3.0.min.js\", \"https://cdn.bokeh.org/bokeh/release/bokeh-tables-2.3.0.min.js\"];\n  var css_urls = [];\n  \n\n  var inline_js = [\n    function(Bokeh) {\n      Bokeh.set_log_level(\"info\");\n    },\n    function(Bokeh) {\n    \n    \n    }\n  ];\n\n  function run_inline_js() {\n    \n    if (root.Bokeh !== undefined || force === true) {\n      \n    for (var i = 0; i < inline_js.length; i++) {\n      inline_js[i].call(root, root.Bokeh);\n    }\n    if (force === true) {\n        display_loaded();\n      }} else if (Date.now() < root._bokeh_timeout) {\n      setTimeout(run_inline_js, 100);\n    } else if (!root._bokeh_failed_load) {\n      console.log(\"Bokeh: BokehJS failed to load within specified timeout.\");\n      root._bokeh_failed_load = true;\n    } else if (force !== true) {\n      var cell = $(document.getElementById(\"3329\")).parents('.cell').data().cell;\n      cell.output_area.append_execute_result(NB_LOAD_WARNING)\n    }\n\n  }\n\n  if (root._bokeh_is_loading === 0) {\n    console.debug(\"Bokeh: BokehJS loaded, going straight to plotting\");\n    run_inline_js();\n  } else {\n    load_libs(css_urls, js_urls, function() {\n      console.debug(\"Bokeh: BokehJS plotting callback run at\", now());\n      run_inline_js();\n    });\n  }\n}(window));"
     },
     "metadata": {},
     "output_type": "display_data"
    },
    {
     "data": {
      "text/html": [
       "\n",
       "\n",
       "\n",
       "\n",
       "\n",
       "\n",
       "  <div class=\"bk-root\" id=\"383210e5-480b-4a6b-a618-e42223efbb6e\" data-root-id=\"3332\"></div>\n"
      ]
     },
     "metadata": {},
     "output_type": "display_data"
    },
    {
     "data": {
      "application/javascript": [
       "(function(root) {\n",
       "  function embed_document(root) {\n",
       "    \n",
       "  var docs_json = {\"aaf53bf3-c4ea-4191-b023-19be79ef9bd0\":{\"defs\":[{\"extends\":null,\"module\":null,\"name\":\"DataModel\",\"overrides\":[],\"properties\":[]}],\"roots\":{\"references\":[{\"attributes\":{\"below\":[{\"id\":\"3343\"}],\"center\":[{\"id\":\"3346\"},{\"id\":\"3350\"}],\"left\":[{\"id\":\"3347\"}],\"renderers\":[{\"id\":\"3371\"},{\"id\":\"3376\"},{\"id\":\"3381\"},{\"id\":\"3386\"},{\"id\":\"3391\"}],\"title\":{\"id\":\"3333\"},\"toolbar\":{\"id\":\"3359\"},\"width\":900,\"x_range\":{\"id\":\"3335\"},\"x_scale\":{\"id\":\"3339\"},\"y_range\":{\"id\":\"3337\"},\"y_scale\":{\"id\":\"3341\"}},\"id\":\"3332\",\"subtype\":\"Figure\",\"type\":\"Plot\"},{\"attributes\":{\"days\":[1,2,3,4,5,6,7,8,9,10,11,12,13,14,15,16,17,18,19,20,21,22,23,24,25,26,27,28,29,30,31]},\"id\":\"3618\",\"type\":\"DaysTicker\"},{\"attributes\":{\"mantissas\":[1,2,5],\"max_interval\":500.0,\"num_minor_ticks\":0},\"id\":\"3615\",\"type\":\"AdaptiveTicker\"},{\"attributes\":{\"line_alpha\":0.1,\"line_color\":\"grey\",\"line_dash\":[6],\"line_width\":2,\"x\":{\"field\":\"x\"},\"y\":{\"field\":\"y\"}},\"id\":\"3380\",\"type\":\"Line\"},{\"attributes\":{},\"id\":\"3606\",\"type\":\"Selection\"},{\"attributes\":{},\"id\":\"3610\",\"type\":\"Selection\"},{\"attributes\":{\"num_minor_ticks\":5,\"tickers\":[{\"id\":\"3615\"},{\"id\":\"3616\"},{\"id\":\"3617\"},{\"id\":\"3618\"},{\"id\":\"3619\"},{\"id\":\"3620\"},{\"id\":\"3621\"},{\"id\":\"3622\"},{\"id\":\"3623\"},{\"id\":\"3624\"},{\"id\":\"3625\"},{\"id\":\"3626\"}]},\"id\":\"3344\",\"type\":\"DatetimeTicker\"},{\"attributes\":{\"months\":[0,1,2,3,4,5,6,7,8,9,10,11]},\"id\":\"3622\",\"type\":\"MonthsTicker\"},{\"attributes\":{\"months\":[0,2,4,6,8,10]},\"id\":\"3623\",\"type\":\"MonthsTicker\"},{\"attributes\":{},\"id\":\"3341\",\"type\":\"LinearScale\"},{\"attributes\":{\"days\":[\"%d %B %Y\"],\"hours\":[\"%d %B %Y\"],\"months\":[\"%d %B %Y\"],\"years\":[\"%d %B %Y\"]},\"id\":\"3330\",\"type\":\"DatetimeTickFormatter\"},{\"attributes\":{},\"id\":\"3603\",\"type\":\"UnionRenderers\"},{\"attributes\":{\"axis\":{\"id\":\"3343\"},\"ticker\":null},\"id\":\"3346\",\"type\":\"Grid\"},{\"attributes\":{\"data_source\":{\"id\":\"3368\"},\"glyph\":{\"id\":\"3369\"},\"hover_glyph\":null,\"muted_glyph\":null,\"nonselection_glyph\":{\"id\":\"3370\"},\"view\":{\"id\":\"3372\"}},\"id\":\"3371\",\"type\":\"GlyphRenderer\"},{\"attributes\":{\"base\":24,\"mantissas\":[1,2,4,6,8,12],\"max_interval\":43200000.0,\"min_interval\":3600000.0,\"num_minor_ticks\":0},\"id\":\"3617\",\"type\":\"AdaptiveTicker\"},{\"attributes\":{},\"id\":\"3352\",\"type\":\"WheelZoomTool\"},{\"attributes\":{\"months\":[0,6]},\"id\":\"3625\",\"type\":\"MonthsTicker\"},{\"attributes\":{\"data\":{\"x\":{\"__ndarray__\":\"AACw7+21dkIAAJhe8bV2QgAAgM30tXZCAABoPPi1dkIAAFCr+7V2QgAAOBr/tXZCAAAgiQK2dkIAAAj4BbZ2QgAA8GYJtnZCAADY1Qy2dkIAAMBEELZ2QgAAqLMTtnZCAACQIhe2dkIAAHiRGrZ2QgAAYAAetnZCAABIbyG2dkIAADDeJLZ2QgAAuAg2tnZCAACgdzm2dkIAAIjmPLZ2QgAAcFVAtnZCAABYxEO2dkIAAEAzR7Z2QgAAKKJKtnZCAAAQEU62dkIAAPh/UbZ2QgAA4O5UtnZCAADIXVi2dkIAALDMW7Z2QgAAmDtftnZCAACAqmK2dkIAAGgZZrZ2QgAAUIhptnZCAAA492y2dkIAACBmcLZ2QgAACNVztnZCAADwQ3e2dkIAAGDdi7Z2QgAASEyPtnZCAAAwu5K2dkIAABgqlrZ2QgAAAJmZtnZCAADoB522dkIAANB2oLZ2QgAAuOWjtnZCAACgVKe2dkIAAIjDqrZ2QgAAcDKutnZCAABYobG2dkIAAEAQtbZ2QgAAKH+4tnZCAAAQ7ru2dkIAAPhcv7Z2QgAA4MvCtnZCAADIOsa2dkIAALCpybZ2QgAAIEPetnZCAAAIsuG2dkIAAPAg5bZ2QgAA2I/otnZCAADA/uu2dkIAAKht77Z2QgAAkNzytnZCAAB4S/a2dkIAAGC6+bZ2QgAASCn9tnZCAAAwmAC3dkIAABgHBLd2QgAAAHYHt3ZCAADo5Aq3dkIAANBTDrd2QgAAuMIRt3ZCAACgMRW3dkIAAIigGLd2QgAAcA8ct3ZCAADIFzS3dkIAALCGN7d2QgAAmPU6t3ZCAACAZD63dkIAAGjTQbd2QgAAUEJFt3ZCAAA4sUi3dkIAAAiPT7d2QgAA8P1St3ZCAADYbFa3dkIAAKhKXbd2QgAAkLlgt3ZCAAB4KGS3dkIAAGCXZ7d2QgAASAZrt3ZCAAAwdW63dkIAAHDsibd2QgAAWFuNt3ZCAABAypC3dkIAACg5lLd2QgAAEKiXt3ZCAAD4Fpu3dkIAAOCFnrd2QgAAyPSht3ZCAACwY6W3dkI=\",\"dtype\":\"float64\",\"order\":\"little\",\"shape\":[100]},\"y\":{\"__ndarray__\":\"pGpXwPn0JEA0pE2urCgzQK/vFUp4hzpAX4hInjt5QEDpkda2NEpFQKAOQ191CUxAVPICohadUUAjAWrXKzJVQGyiNdfrLFRAyJ/S2N1pVEDWr0FVBnBUQJxPRv+gfFFA/OhbiFNLTkC2otAP811JQNTPDtH//UNAEKCNnI8AOUBQQl6mqXsdQNBWzcQrGgRAmLIiYAz+B0BU5QDQAKYZQJBlMV4kextA/OZ6sA8fK0AcbtHuYto3QDoRxehU2UBAusJoJyUKQ0A0my8Fag9KQKxFEye/x0xAqgBAX0BvUUDqVopysgxMQIUoYH083lJAlp1Fgjp2S0DCHso3vtxPQDKG6CNrWkxA+tqLUoQfS0DA1PlSDI9HQKZFyybKAUFAcMQP3dxyOkBsUTy21DcvQGLj5agJ9CpAaqc35xaHJUAzboDSt58xQNhn4bpzYzJAPHdEn5j5MkCUfR6C9Xo8QBJuINDxB0lAxJiv4v8jUEB4I8YljJNHQHRlHFOJbU9AO2MkvsPSS0CxYbqkb6lKQGhfDhAknkhADH5m5z7YSkCBTX6egS1NQJRkPLsEREZAdM/TRDKGQEC39nEWnik4QLlKNwpWhThAuZcqwwMsM0CSVyCM7C8wQBDPyrQh7TJAec6X0uAdNUAYR00K/843QNbmWoiMAkBAnMMJdH0sR0CwHSuTcV5KQJDRhzLOjk1AnOouimwHUUCYnImpps1LQLHBZskJVkpAV4ds5uinS0AQeLBlqplLQK5jYpqya0pAPJKrCgRVREA6yZpkVjlAQPL4ZvXKWDdAmIAWD7OHMEBw5s0hH6MrQM5+p1V9LjBA7gPZ+YaLN0DLTx8G7MI1QIjMSHDGuTxAwDTZ725oQ0ASjYrZ4TZNQHzW55VYB0RAGtOXMcFNWUBqca5xlhpKQHib4aDVtlNArgm+3bLvSkBgH9U9dYdNQMo/HNrYx0NAa9dNsA8VOUB30ZIJhK0xQDifE5fuBixAbmSATbyXKUCMnHmbmw4gQDzfiN4o0jJAWniOTHf8P0Cae+1pyTlXQHDettcJbElAPA2YpO9FTkA=\",\"dtype\":\"float64\",\"order\":\"little\",\"shape\":[100]}},\"selected\":{\"id\":\"3610\"},\"selection_policy\":{\"id\":\"3609\"}},\"id\":\"3383\",\"type\":\"ColumnDataSource\"},{\"attributes\":{\"days\":[1,8,15,22]},\"id\":\"3620\",\"type\":\"DaysTicker\"},{\"attributes\":{\"data\":{\"x\":{\"__ndarray__\":\"AADw/VK3dkIAANhsVrd2QgAA+Babt3ZC\",\"dtype\":\"float64\",\"order\":\"little\",\"shape\":[3]},\"y\":{\"__ndarray__\":\"AAAAAADAYEAAAAAAAABAQAAAAAAAwGJA\",\"dtype\":\"float64\",\"order\":\"little\",\"shape\":[3]}},\"selected\":{\"id\":\"3612\"},\"selection_policy\":{\"id\":\"3611\"}},\"id\":\"3388\",\"type\":\"ColumnDataSource\"},{\"attributes\":{},\"id\":\"3348\",\"type\":\"BasicTicker\"},{\"attributes\":{\"days\":[1,4,7,10,13,16,19,22,25,28]},\"id\":\"3619\",\"type\":\"DaysTicker\"},{\"attributes\":{},\"id\":\"3611\",\"type\":\"UnionRenderers\"},{\"attributes\":{\"line_color\":\"grey\",\"line_dash\":[6],\"line_width\":2,\"x\":{\"field\":\"x\"},\"y\":{\"field\":\"y\"}},\"id\":\"3374\",\"type\":\"Line\"},{\"attributes\":{\"days\":[1,15]},\"id\":\"3621\",\"type\":\"DaysTicker\"},{\"attributes\":{\"line_color\":\"grey\",\"line_dash\":[6],\"line_width\":2,\"x\":{\"field\":\"x\"},\"y\":{\"field\":\"y\"}},\"id\":\"3379\",\"type\":\"Line\"},{\"attributes\":{\"active_multi\":null,\"active_scroll\":{\"id\":\"3352\"},\"tools\":[{\"id\":\"3351\"},{\"id\":\"3352\"},{\"id\":\"3353\"},{\"id\":\"3354\"},{\"id\":\"3355\"},{\"id\":\"3356\"},{\"id\":\"3331\"}]},\"id\":\"3359\",\"type\":\"Toolbar\"},{\"attributes\":{},\"id\":\"3602\",\"type\":\"AllLabels\"},{\"attributes\":{\"axis\":{\"id\":\"3347\"},\"dimension\":1,\"ticker\":null},\"id\":\"3350\",\"type\":\"Grid\"},{\"attributes\":{\"months\":[0,4,8]},\"id\":\"3624\",\"type\":\"MonthsTicker\"},{\"attributes\":{\"overlay\":{\"id\":\"3357\"}},\"id\":\"3356\",\"type\":\"BoxSelectTool\"},{\"attributes\":{\"data_source\":{\"id\":\"3383\"},\"glyph\":{\"id\":\"3384\"},\"hover_glyph\":null,\"muted_glyph\":null,\"nonselection_glyph\":{\"id\":\"3385\"},\"view\":{\"id\":\"3387\"}},\"id\":\"3386\",\"type\":\"GlyphRenderer\"},{\"attributes\":{\"source\":{\"id\":\"3368\"}},\"id\":\"3372\",\"type\":\"CDSView\"},{\"attributes\":{\"line_color\":\"orange\",\"line_width\":2,\"x\":{\"field\":\"x\"},\"y\":{\"field\":\"y\"}},\"id\":\"3384\",\"type\":\"Line\"},{\"attributes\":{\"line_alpha\":0.1,\"line_color\":\"orange\",\"line_width\":2,\"x\":{\"field\":\"x\"},\"y\":{\"field\":\"y\"}},\"id\":\"3385\",\"type\":\"Line\"},{\"attributes\":{\"fill_alpha\":{\"value\":0.1},\"fill_color\":{\"value\":\"red\"},\"line_alpha\":{\"value\":0.1},\"line_color\":{\"value\":\"red\"},\"x\":{\"field\":\"x\"},\"y\":{\"field\":\"y\"}},\"id\":\"3390\",\"type\":\"Circle\"},{\"attributes\":{\"overlay\":{\"id\":\"3358\"}},\"id\":\"3353\",\"type\":\"BoxZoomTool\"},{\"attributes\":{},\"id\":\"3626\",\"type\":\"YearsTicker\"},{\"attributes\":{},\"id\":\"3355\",\"type\":\"SaveTool\"},{\"attributes\":{},\"id\":\"3335\",\"type\":\"DataRange1d\"},{\"attributes\":{\"source\":{\"id\":\"3388\"}},\"id\":\"3392\",\"type\":\"CDSView\"},{\"attributes\":{\"source\":{\"id\":\"3383\"}},\"id\":\"3387\",\"type\":\"CDSView\"},{\"attributes\":{},\"id\":\"3351\",\"type\":\"PanTool\"},{\"attributes\":{},\"id\":\"3605\",\"type\":\"UnionRenderers\"},{\"attributes\":{\"line_alpha\":0.1,\"line_color\":\"#1f77b4\",\"line_width\":2,\"x\":{\"field\":\"x\"},\"y\":{\"field\":\"y\"}},\"id\":\"3370\",\"type\":\"Line\"},{\"attributes\":{},\"id\":\"3607\",\"type\":\"UnionRenderers\"},{\"attributes\":{},\"id\":\"3354\",\"type\":\"ResetTool\"},{\"attributes\":{\"axis_label\":\"time\",\"formatter\":{\"id\":\"3330\"},\"major_label_policy\":{\"id\":\"3602\"},\"ticker\":{\"id\":\"3344\"}},\"id\":\"3343\",\"type\":\"DatetimeAxis\"},{\"attributes\":{\"axis_label\":\"value\",\"formatter\":{\"id\":\"3598\"},\"major_label_policy\":{\"id\":\"3600\"},\"ticker\":{\"id\":\"3348\"}},\"id\":\"3347\",\"type\":\"LinearAxis\"},{\"attributes\":{},\"id\":\"3612\",\"type\":\"Selection\"},{\"attributes\":{\"bottom_units\":\"screen\",\"fill_alpha\":0.5,\"fill_color\":\"lightgrey\",\"left_units\":\"screen\",\"level\":\"overlay\",\"line_alpha\":1.0,\"line_color\":\"black\",\"line_dash\":[4,4],\"line_width\":2,\"right_units\":\"screen\",\"syncable\":false,\"top_units\":\"screen\"},\"id\":\"3358\",\"type\":\"BoxAnnotation\"},{\"attributes\":{\"base\":60,\"mantissas\":[1,2,5,10,15,20,30],\"max_interval\":1800000.0,\"min_interval\":1000.0,\"num_minor_ticks\":0},\"id\":\"3616\",\"type\":\"AdaptiveTicker\"},{\"attributes\":{},\"id\":\"3608\",\"type\":\"Selection\"},{\"attributes\":{\"data\":{\"x\":{\"__ndarray__\":\"AACw7+21dkIAAJhe8bV2QgAAgM30tXZCAABoPPi1dkIAAFCr+7V2QgAAOBr/tXZCAAAgiQK2dkIAAAj4BbZ2QgAA8GYJtnZCAADY1Qy2dkIAAMBEELZ2QgAAqLMTtnZCAACQIhe2dkIAAHiRGrZ2QgAAYAAetnZCAABIbyG2dkIAADDeJLZ2QgAAuAg2tnZCAACgdzm2dkIAAIjmPLZ2QgAAcFVAtnZCAABYxEO2dkIAAEAzR7Z2QgAAKKJKtnZCAAAQEU62dkIAAPh/UbZ2QgAA4O5UtnZCAADIXVi2dkIAALDMW7Z2QgAAmDtftnZCAACAqmK2dkIAAGgZZrZ2QgAAUIhptnZCAAA492y2dkIAACBmcLZ2QgAACNVztnZCAADwQ3e2dkIAAGDdi7Z2QgAASEyPtnZCAAAwu5K2dkIAABgqlrZ2QgAAAJmZtnZCAADoB522dkIAANB2oLZ2QgAAuOWjtnZCAACgVKe2dkIAAIjDqrZ2QgAAcDKutnZCAABYobG2dkIAAEAQtbZ2QgAAKH+4tnZCAAAQ7ru2dkIAAPhcv7Z2QgAA4MvCtnZCAADIOsa2dkIAALCpybZ2QgAAIEPetnZCAAAIsuG2dkIAAPAg5bZ2QgAA2I/otnZCAADA/uu2dkIAAKht77Z2QgAAkNzytnZCAAB4S/a2dkIAAGC6+bZ2QgAASCn9tnZCAAAwmAC3dkIAABgHBLd2QgAAAHYHt3ZCAADo5Aq3dkIAANBTDrd2QgAAuMIRt3ZCAACgMRW3dkIAAIigGLd2QgAAcA8ct3ZCAADIFzS3dkIAALCGN7d2QgAAmPU6t3ZCAACAZD63dkIAAGjTQbd2QgAAUEJFt3ZCAAA4sUi3dkIAAAiPT7d2QgAA8P1St3ZCAADYbFa3dkIAAKhKXbd2QgAAkLlgt3ZCAAB4KGS3dkIAAGCXZ7d2QgAASAZrt3ZCAAAwdW63dkIAAHDsibd2QgAAWFuNt3ZCAABAypC3dkIAACg5lLd2QgAAEKiXt3ZCAAD4Fpu3dkIAAOCFnrd2QgAAyPSht3ZCAACwY6W3dkI=\",\"dtype\":\"float64\",\"order\":\"little\",\"shape\":[100]},\"y\":{\"__ndarray__\":\"AAAAAAAAHEAAAAAAAAAuQAAAAAAAADRAAAAAAAAAQEAAAAAAAABJQAAAAAAAQFFAAAAAAABAV0AAAAAAAEBUQAAAAAAAgFRAAAAAAADAVkAAAAAAAEBRQAAAAAAAgE5AAAAAAACATUAAAAAAAIBFQAAAAAAAADlAAAAAAAAAEEAAAAAAAADwPwAAAAAAAPA/AAAAAAAAEEAAAAAAAADwPwAAAAAAAABAAAAAAAAAKkAAAAAAAAA5QAAAAAAAADZAAAAAAACAREAAAAAAAABGQAAAAAAAgE9AAAAAAAAAQ0AAAAAAAABUQAAAAAAAAEVAAAAAAACAS0AAAAAAAABQQAAAAAAAgEtAAAAAAAAARkAAAAAAAAA/QAAAAAAAADBAAAAAAAAACEAAAAAAAADwPwAAAAAAABBAAAAAAAAAIkAAAAAAAAAgQAAAAAAAABRAAAAAAAAAMkAAAAAAAIBKQAAAAAAAQFFAAAAAAAAAMUAAAAAAAABJQAAAAAAAAEZAAAAAAAAAPkAAAAAAAABGQAAAAAAAgExAAAAAAACATEAAAAAAAIBDQAAAAAAAADtAAAAAAAAAKEAAAAAAAAAQQAAAAAAAABRAAAAAAAAAAEAAAAAAAAAQQAAAAAAAACRAAAAAAAAALEAAAAAAAAA4QAAAAAAAAEVAAAAAAAAARUAAAAAAAABHQAAAAAAAQFBAAAAAAAAAQkAAAAAAAABAQAAAAAAAAEtAAAAAAACASkAAAAAAAIBJQAAAAAAAgEJAAAAAAAAANUAAAAAAAAAcQAAAAAAAAPA/AAAAAAAAAEAAAAAAAADwPwAAAAAAACpAAAAAAAAAJkAAAAAAAAAzQAAAAAAAAEFAAAAAAACATkAAAAAAAAAgQAAAAAAAwGBAAAAAAAAAQEAAAAAAAIBOQAAAAAAAAE1AAAAAAACAR0AAAAAAAAA0QAAAAAAAAC5AAAAAAAAAAEAAAAAAAAAUQAAAAAAAAABAAAAAAAAAJEAAAAAAAAAgQAAAAAAAADxAAAAAAADAYkAAAAAAAABCQAAAAAAAADlAAAAAAAAA8D8=\",\"dtype\":\"float64\",\"order\":\"little\",\"shape\":[100]}},\"selected\":{\"id\":\"3604\"},\"selection_policy\":{\"id\":\"3603\"}},\"id\":\"3368\",\"type\":\"ColumnDataSource\"},{\"attributes\":{\"line_color\":\"#1f77b4\",\"line_width\":2,\"x\":{\"field\":\"x\"},\"y\":{\"field\":\"y\"}},\"id\":\"3369\",\"type\":\"Line\"},{\"attributes\":{\"callback\":null,\"formatters\":{\"@x\":\"datetime\"},\"mode\":\"vline\",\"tooltips\":[[\"date\",\"@x{%d-%m-%YT%H:%M:%S}\"],[\"value\",\"@y\"]]},\"id\":\"3331\",\"type\":\"HoverTool\"},{\"attributes\":{\"data\":{\"x\":{\"__ndarray__\":\"AACw7+21dkIAAJhe8bV2QgAAgM30tXZCAABoPPi1dkIAAFCr+7V2QgAAOBr/tXZCAAAgiQK2dkIAAAj4BbZ2QgAA8GYJtnZCAADY1Qy2dkIAAMBEELZ2QgAAqLMTtnZCAACQIhe2dkIAAHiRGrZ2QgAAYAAetnZCAABIbyG2dkIAADDeJLZ2QgAAuAg2tnZCAACgdzm2dkIAAIjmPLZ2QgAAcFVAtnZCAABYxEO2dkIAAEAzR7Z2QgAAKKJKtnZCAAAQEU62dkIAAPh/UbZ2QgAA4O5UtnZCAADIXVi2dkIAALDMW7Z2QgAAmDtftnZCAACAqmK2dkIAAGgZZrZ2QgAAUIhptnZCAAA492y2dkIAACBmcLZ2QgAACNVztnZCAADwQ3e2dkIAAGDdi7Z2QgAASEyPtnZCAAAwu5K2dkIAABgqlrZ2QgAAAJmZtnZCAADoB522dkIAANB2oLZ2QgAAuOWjtnZCAACgVKe2dkIAAIjDqrZ2QgAAcDKutnZCAABYobG2dkIAAEAQtbZ2QgAAKH+4tnZCAAAQ7ru2dkIAAPhcv7Z2QgAA4MvCtnZCAADIOsa2dkIAALCpybZ2QgAAIEPetnZCAAAIsuG2dkIAAPAg5bZ2QgAA2I/otnZCAADA/uu2dkIAAKht77Z2QgAAkNzytnZCAAB4S/a2dkIAAGC6+bZ2QgAASCn9tnZCAAAwmAC3dkIAABgHBLd2QgAAAHYHt3ZCAADo5Aq3dkIAANBTDrd2QgAAuMIRt3ZCAACgMRW3dkIAAIigGLd2QgAAcA8ct3ZCAADIFzS3dkIAALCGN7d2QgAAmPU6t3ZCAACAZD63dkIAAGjTQbd2QgAAUEJFt3ZCAAA4sUi3dkIAAAiPT7d2QgAA8P1St3ZCAADYbFa3dkIAAKhKXbd2QgAAkLlgt3ZCAAB4KGS3dkIAAGCXZ7d2QgAASAZrt3ZCAAAwdW63dkIAAHDsibd2QgAAWFuNt3ZCAABAypC3dkIAACg5lLd2QgAAEKiXt3ZCAAD4Fpu3dkIAAOCFnrd2QgAAyPSht3ZCAACwY6W3dkI=\",\"dtype\":\"float64\",\"order\":\"little\",\"shape\":[100]},\"y\":{\"__ndarray__\":\"Q7ONkcEpSsDSu3yqqdJFwBSWmNxDI0LAGgu2xojbPcAG+JmVljk0wGD6AxNV7BrA4LUSE2qZHkC06GBar/o1QNhtj1mv5TFASGMDYHfZMkCAo79RGfIyQGCKSOcPkhxAAE96lMe6AcDYrEvHMyQowDB8KWEA0jbA5L1cM7jmQsCixdfMirdLwH+4VkVdJU7AwmKhOx/nTcBCcaPnPzJMwDph3XWb90vALdSEFTyfSMDe1jqKznlDwGT5vDFWGz3AZJZ1tLW5OMDgys/xV14lwABCgtQG+hTAQJvj5gW8G0AQuMl4bNIawHgMc+TjVSlAsILv+iuGH8CANaSJjW/tP9A92O2mZBjAyMtevO4dIcCw5Ka6zl8vwIyQsLVryjzAtKsbk5EtQsCReRTUCplHwBQVapf9qUjAEqTVRzoFSsDSVmMYJJdGwADaMiRGNUbATlIBsjPqRcAiT5RAhSlBwGh/DMY4fCnAgHN0d/gf/D/QqXVvz00vwAAgXuNFJao/iFX5G+KhHMDssKRzQfYiwBC6VMZvIyvAgD/0aAQ7IsBYAyoZ88sRwLBSzoz2RTLA8HyfeZvBPcCQkmr2MFJDwJDoh/xUJEPAEEIOIP7QRcAjYpO7CU9HwGQmPidv8EXAsKZXmA/YRMBg6nx8gH9DwCxOkfLmyD7AoJQzGwV1MMDwwOG5OSIkwMDFu/Ecgw3AYDrSlcg+FUCgis/AysocwOww8+DYQyTAqDS42bj4HcDgrpjfrGoewPioBJ017SPAYPfv7fcjNsBkiRE6U1s+wHMR8IaaukPAoE0YeiYjR8BQFDA5OH5IwIXOz1bBT0fA9Qu3hDyhQ8AG5pP+iYVEwKgnf8kcCkHAWLKUIyL9N8DQBshA8YARwOBud9dOvzbASBiMYYI0Q0AIctQ/pjElwAhSP4BWDTBA+BCWjzTdIcDA6OY8rPgNwEScDk9OPjfANqJ8KXjcQsAwJdr8PZBGwB6m3ltEZUjA0HRD7hABScDJJsUaWWNLwE4eX5Lr/UXAfqO4tojRPsCQ0m6kJRk+QPC9sqfY6yfAAAu40AURAsA=\",\"dtype\":\"float64\",\"order\":\"little\",\"shape\":[100]}},\"selected\":{\"id\":\"3608\"},\"selection_policy\":{\"id\":\"3607\"}},\"id\":\"3378\",\"type\":\"ColumnDataSource\"},{\"attributes\":{},\"id\":\"3598\",\"type\":\"BasicTickFormatter\"},{\"attributes\":{},\"id\":\"3604\",\"type\":\"Selection\"},{\"attributes\":{\"data_source\":{\"id\":\"3373\"},\"glyph\":{\"id\":\"3374\"},\"hover_glyph\":null,\"muted_glyph\":null,\"nonselection_glyph\":{\"id\":\"3375\"},\"view\":{\"id\":\"3377\"}},\"id\":\"3376\",\"type\":\"GlyphRenderer\"},{\"attributes\":{\"line_alpha\":0.1,\"line_color\":\"grey\",\"line_dash\":[6],\"line_width\":2,\"x\":{\"field\":\"x\"},\"y\":{\"field\":\"y\"}},\"id\":\"3375\",\"type\":\"Line\"},{\"attributes\":{\"data_source\":{\"id\":\"3388\"},\"glyph\":{\"id\":\"3389\"},\"hover_glyph\":null,\"muted_glyph\":null,\"nonselection_glyph\":{\"id\":\"3390\"},\"view\":{\"id\":\"3392\"}},\"id\":\"3391\",\"type\":\"GlyphRenderer\"},{\"attributes\":{\"data\":{\"x\":{\"__ndarray__\":\"AACw7+21dkIAAJhe8bV2QgAAgM30tXZCAABoPPi1dkIAAFCr+7V2QgAAOBr/tXZCAAAgiQK2dkIAAAj4BbZ2QgAA8GYJtnZCAADY1Qy2dkIAAMBEELZ2QgAAqLMTtnZCAACQIhe2dkIAAHiRGrZ2QgAAYAAetnZCAABIbyG2dkIAADDeJLZ2QgAAuAg2tnZCAACgdzm2dkIAAIjmPLZ2QgAAcFVAtnZCAABYxEO2dkIAAEAzR7Z2QgAAKKJKtnZCAAAQEU62dkIAAPh/UbZ2QgAA4O5UtnZCAADIXVi2dkIAALDMW7Z2QgAAmDtftnZCAACAqmK2dkIAAGgZZrZ2QgAAUIhptnZCAAA492y2dkIAACBmcLZ2QgAACNVztnZCAADwQ3e2dkIAAGDdi7Z2QgAASEyPtnZCAAAwu5K2dkIAABgqlrZ2QgAAAJmZtnZCAADoB522dkIAANB2oLZ2QgAAuOWjtnZCAACgVKe2dkIAAIjDqrZ2QgAAcDKutnZCAABYobG2dkIAAEAQtbZ2QgAAKH+4tnZCAAAQ7ru2dkIAAPhcv7Z2QgAA4MvCtnZCAADIOsa2dkIAALCpybZ2QgAAIEPetnZCAAAIsuG2dkIAAPAg5bZ2QgAA2I/otnZCAADA/uu2dkIAAKht77Z2QgAAkNzytnZCAAB4S/a2dkIAAGC6+bZ2QgAASCn9tnZCAAAwmAC3dkIAABgHBLd2QgAAAHYHt3ZCAADo5Aq3dkIAANBTDrd2QgAAuMIRt3ZCAACgMRW3dkIAAIigGLd2QgAAcA8ct3ZCAADIFzS3dkIAALCGN7d2QgAAmPU6t3ZCAACAZD63dkIAAGjTQbd2QgAAUEJFt3ZCAAA4sUi3dkIAAAiPT7d2QgAA8P1St3ZCAADYbFa3dkIAAKhKXbd2QgAAkLlgt3ZCAAB4KGS3dkIAAGCXZ7d2QgAASAZrt3ZCAAAwdW63dkIAAHDsibd2QgAAWFuNt3ZCAABAypC3dkIAACg5lLd2QgAAEKiXt3ZCAAD4Fpu3dkIAAOCFnrd2QgAAyPSht3ZCAACwY6W3dkI=\",\"dtype\":\"float64\",\"order\":\"little\",\"shape\":[100]},\"y\":{\"__ndarray__\":\"SrTcOB9SUkADMGUsq31UQOJCVxNeVVZAJgv2zx3wV0DqDz1cmlhaQEZOc7A6uF1ApVxqUUuoYEAM5B3s1XJiQLG0A+w18GFAXzPS7K4OYkBmuwkrwxFiQEkLDIAQmGBAdLv/xCnZXkBRGLqIeWJcQOAuWel/sllA+i7156PzVUAbqzebOotRQKwx+F5RVFBAi9zSY3BzUEBL1dEN4E1RQE/dtEYya1FA1iPh9mEXU0B9Ioa8GKpVQJNPNHUqIFhAUyiGlJI4WUCQlGkDNbtcQMxpW5RfF15A0OMIMGCRYEBr8hY62bldQL73GD/eSGFAwZX0QZ1uXUBX1rYc36FfQA8KxpK14F1Ac7QXKkJDXUBWsU4qBntbQMlpNxRlNFhAErgVODdQVkAkUZmXeppTQGKD7jUBElNA47u43WJkUkCD4nH1bRtUQOwgiu9cTFRAxeSiKOZxVEBbZllhPdJWQP/94eh4N1xAul+B43/XX0Cy2LQTRn1bQLD5X6pEal9AlPjj3+GcXUDO9y7TNwhdQKr22AiSAlxA/AWFdJ8fXUC27RDQQEpeQED5b16C1VpAsK47I5n2V0CkRG6G571VQKSZX4PV1FVA5Gyc8YB+VEDa3Nkje79TQLp6BG7IblRAlLp3Nfj6VEC8GGXDP6dVQGE6/0TGtFdAxKjWur5JW0DOVWfKuOJcQL6vFRrnel5AyViARXZdYEBClZZVU5pdQM4nheWE3lxAogoIdHSHXUD+AqozVYBdQM34Ak5Z6VxAFJAnBgLeWUCTKx8zK9BXQDKFK76yiVVAHGeXxGzVU0DEgwvl4ydTQKqmO1Yfv1NA8gdIv2GWVUDpmlkCOyRVQBj645zx4VZAVmG+eLdnWUB/DZft8E5eQDSyxUsst1lACM00maCAZECr/6g5y8BcQDex2dAqtWFAzcuwb1krXUCmVryfOndeQNvm321sl1lA0Tzl7MP4VUBUezYD4R5UQN06tNNdNFNAhNOBinfmUkCI+kB0U7VRQMX+czgKaFRADGX1052yV0BIoV+1pHZjQC42reyEaVxAlM0d03fWXkA=\",\"dtype\":\"float64\",\"order\":\"little\",\"shape\":[100]}},\"selected\":{\"id\":\"3606\"},\"selection_policy\":{\"id\":\"3605\"}},\"id\":\"3373\",\"type\":\"ColumnDataSource\"},{\"attributes\":{\"source\":{\"id\":\"3378\"}},\"id\":\"3382\",\"type\":\"CDSView\"},{\"attributes\":{\"bottom_units\":\"screen\",\"fill_alpha\":0.5,\"fill_color\":\"lightgrey\",\"left_units\":\"screen\",\"level\":\"overlay\",\"line_alpha\":1.0,\"line_color\":\"black\",\"line_dash\":[4,4],\"line_width\":2,\"right_units\":\"screen\",\"syncable\":false,\"top_units\":\"screen\"},\"id\":\"3357\",\"type\":\"BoxAnnotation\"},{\"attributes\":{},\"id\":\"3333\",\"type\":\"Title\"},{\"attributes\":{\"fill_color\":{\"value\":\"red\"},\"line_color\":{\"value\":\"red\"},\"x\":{\"field\":\"x\"},\"y\":{\"field\":\"y\"}},\"id\":\"3389\",\"type\":\"Circle\"},{\"attributes\":{\"source\":{\"id\":\"3373\"}},\"id\":\"3377\",\"type\":\"CDSView\"},{\"attributes\":{\"data_source\":{\"id\":\"3378\"},\"glyph\":{\"id\":\"3379\"},\"hover_glyph\":null,\"muted_glyph\":null,\"nonselection_glyph\":{\"id\":\"3380\"},\"view\":{\"id\":\"3382\"}},\"id\":\"3381\",\"type\":\"GlyphRenderer\"},{\"attributes\":{},\"id\":\"3609\",\"type\":\"UnionRenderers\"},{\"attributes\":{},\"id\":\"3337\",\"type\":\"DataRange1d\"},{\"attributes\":{},\"id\":\"3600\",\"type\":\"AllLabels\"},{\"attributes\":{},\"id\":\"3339\",\"type\":\"LinearScale\"}],\"root_ids\":[\"3332\"]},\"title\":\"Bokeh Application\",\"version\":\"2.3.0\"}};\n",
       "  var render_items = [{\"docid\":\"aaf53bf3-c4ea-4191-b023-19be79ef9bd0\",\"root_ids\":[\"3332\"],\"roots\":{\"3332\":\"383210e5-480b-4a6b-a618-e42223efbb6e\"}}];\n",
       "  root.Bokeh.embed.embed_items_notebook(docs_json, render_items);\n",
       "\n",
       "  }\n",
       "  if (root.Bokeh !== undefined) {\n",
       "    embed_document(root);\n",
       "  } else {\n",
       "    var attempts = 0;\n",
       "    var timer = setInterval(function(root) {\n",
       "      if (root.Bokeh !== undefined) {\n",
       "        clearInterval(timer);\n",
       "        embed_document(root);\n",
       "      } else {\n",
       "        attempts++;\n",
       "        if (attempts > 100) {\n",
       "          clearInterval(timer);\n",
       "          console.log(\"Bokeh: ERROR: Unable to run BokehJS code because BokehJS library is missing\");\n",
       "        }\n",
       "      }\n",
       "    }, 10, root)\n",
       "  }\n",
       "})(window);"
      ],
      "application/vnd.bokehjs_exec.v0+json": ""
     },
     "metadata": {
      "application/vnd.bokehjs_exec.v0+json": {
       "id": "3332"
      }
     },
     "output_type": "display_data"
    }
   ],
   "source": [
    "plotting.plot_detection(ts_test, upper, lower, preds)"
   ]
  },
  {
   "cell_type": "markdown",
   "metadata": {},
   "source": [
    "## Практика"
   ]
  },
  {
   "cell_type": "code",
   "execution_count": 147,
   "metadata": {},
   "outputs": [],
   "source": [
    "class TimeSeriesDetector(TimeSeriesPredictor):\n",
    "    def __init__(self, sigma=2.7, *args, **kwargs):\n",
    "        super().__init__(*args, **kwargs)\n",
    "        self.sigma = sigma\n",
    "\n",
    "    def fit_statistics(self, ts: pd.Series):\n",
    "        \"\"\"\n",
    "        Используя метод predict_batch получает one-step-ahead предсказания на ряде ts.\n",
    "        Далее получает остатки, вычитая этот прогноз из факта. На остатках считает\n",
    "        стандартное отклонение и записывает его в аттрибут std\n",
    "        \"\"\"\n",
    "        self.std = std\n",
    "\n",
    "    def get_prediction_intervals(self, y_pred: pd.Series, season=False) -> Tuple[pd.Series]:\n",
    "        \"\"\"\n",
    "        Используя найденный std остатков, заданную self.sigma и предсказанные значения y_pred,\n",
    "        возвращает для них доверительные интервалы\n",
    "        \"\"\"\n",
    "        return lower, upper\n",
    "\n",
    "    def detect(self, ts_true, ts_pred, season=False) -> pd.Series:\n",
    "        \"\"\"\n",
    "        Используя метод get_predictions_intervals, получает те значения ряда ts_true,\n",
    "        которые выходят за границы доверительных интервалов\n",
    "        \"\"\"\n",
    "        return \n",
    "\n",
    "    def fit_seasonal_statistics(self, ts_train, n_splits=3, period=24):\n",
    "        pass"
   ]
  },
  {
   "cell_type": "markdown",
   "metadata": {},
   "source": [
    "## Практика. Часть1. Базовая."
   ]
  },
  {
   "cell_type": "markdown",
   "metadata": {},
   "source": [
    "### Задание 1. Метод fit_statistics."
   ]
  },
  {
   "cell_type": "markdown",
   "metadata": {},
   "source": [
    "Добавить в класс `TimeSeriesPredictor` метод `fit_statistics`, который при помощи обученной модели получает остатки\n",
    "предсказаний на трейне и возвращает стандартное отклонение остатков.\n",
    "* принимает на вход ряд ts\n",
    "* используя метод `self.predict_batch` получает in-sample прогноз для ts\n",
    "* получает остатки, вычитая прогноз из факта (не забудьте про abs())\n",
    "* на остатках считает стандартное отклонение и записывает его в аттрибут `self.std`"
   ]
  },
  {
   "cell_type": "markdown",
   "metadata": {},
   "source": [
    "### Задание 2. Метод get_predictions_intervals."
   ]
  },
  {
   "cell_type": "markdown",
   "metadata": {},
   "source": [
    "Добавить в класс TimeSeriesPredictor метод get_prediction_intervals, который принимает предсказанный батч ts_pred,  и, используя std на трейне возвращает для каждой точки ее lower и upper доверительные интервалы."
   ]
  },
  {
   "cell_type": "markdown",
   "metadata": {},
   "source": [
    "* принимает на вход предсказанный батч y_pred\n",
    "* возвращает для него верхний и нижный интервал по формуле `upper, lower = y_pred +/- sigma * std`"
   ]
  },
  {
   "cell_type": "markdown",
   "metadata": {},
   "source": [
    "### Задание 3. Метод detect."
   ]
  },
  {
   "cell_type": "markdown",
   "metadata": {},
   "source": [
    "Добавить в класс TimeSeriesPredictor метод detect, который принимает на вход ts_true и ts_pred и возвращает          значения ряда, выходящие за границы доверительных интервалов. "
   ]
  },
  {
   "cell_type": "code",
   "execution_count": null,
   "metadata": {},
   "outputs": [],
   "source": []
  },
  {
   "cell_type": "code",
   "execution_count": null,
   "metadata": {},
   "outputs": [],
   "source": []
  },
  {
   "cell_type": "markdown",
   "metadata": {},
   "source": [
    "## Практика. Часть 2. Продвинутая."
   ]
  },
  {
   "cell_type": "markdown",
   "metadata": {},
   "source": [
    "* Самое важное допущение данного метода заключается в том, что остатки нашего метода хоть как-то похожи на нормальные.\n",
    "\n",
    "* Одно из очевидных нарушений \"нормальности\" остатков можно наблюдать в тех рядах, где шумовая компонента имеет разную дисперсию в зависимости от того, в каком моменте периода сезонности она находится. Так, например, у нашего ряда шум днем, \"в пиках\" ряда, явно выше того, что наблюдается рано утром или ночью, что объясняется естественным отличием в бизнес правилах.\n",
    "\n",
    "* Одним из способов справиться с проблемой выше может быть метод расчета сезонных интервалов, когда вместо расчета стандартного отклонения остатков на всей истории ряда, мы считаем стандартное отклонение, соответствующее определенному периоду на сезонном интервале"
   ]
  },
  {
   "cell_type": "markdown",
   "metadata": {},
   "source": [
    "### Задание 1. Метод fit_seasonal_statistics."
   ]
  },
  {
   "cell_type": "markdown",
   "metadata": {},
   "source": [
    "Добавить метод `fit_seasonal_statistics`, который бы возвращал стандартное отклонение остатков предсказания для       `n_splits` равных участков внутри периода сезонности. Например для часовых рядов возвращал сигмы для `n_splits=3` участков: с        0 до 8-ми утра, с 8-ми утра до 16 вечера, с 16 до полуночи. \n",
    "* `def fit_seasonal_statistics(self, ts_train, n_splits=3, period=24):`\n",
    "       # получаю предсказания ts_train\n",
    "       # разбиваю остатки на datetime интервалы длинной period/n_splits\n",
    "       # считаю стандартное отклонение для каждого участка\n",
    "       # записываю стандартное отклонение в аттрибут self.season_std = {\n",
    "                                                                        datetime_range_1: std_1,\n",
    "                                                                        datetime_range_2: std_2,\n",
    "                                                                        datetime_range_3: std_3,\n",
    "                                                                        }\n",
    "\n"
   ]
  },
  {
   "cell_type": "markdown",
   "metadata": {},
   "source": [
    "### Задание 2. Модифицировать get_predictions_intervals."
   ]
  },
  {
   "cell_type": "markdown",
   "metadata": {},
   "source": [
    "В метод `get_prediction_intervals` добавить параметр `season=True/False`, который, будучи включенным, определяет к \n",
    "какому из интервалов в `self.season_std` относится каждая точка из `ts_pred`, и, использую соответствующий `std`, \n",
    "возвращает для нее доверительные интервалы."
   ]
  },
  {
   "cell_type": "code",
   "execution_count": 260,
   "metadata": {},
   "outputs": [],
   "source": [
    "predictor.fit(ts_train)"
   ]
  },
  {
   "cell_type": "code",
   "execution_count": 261,
   "metadata": {
    "scrolled": true
   },
   "outputs": [],
   "source": [
    "predictor.fit_seasonal_statistics(ts_train)"
   ]
  },
  {
   "cell_type": "code",
   "execution_count": 262,
   "metadata": {},
   "outputs": [],
   "source": [
    "predictions = predictor.predict_batch(ts_train, ts_test)"
   ]
  },
  {
   "cell_type": "code",
   "execution_count": 263,
   "metadata": {},
   "outputs": [],
   "source": [
    "lower, upper = predictor.get_prediction_intervals(predictions, season=True)"
   ]
  },
  {
   "cell_type": "code",
   "execution_count": 264,
   "metadata": {},
   "outputs": [
    {
     "data": {
      "text/plain": [
       "2019-05-19T03:00:00\n",
       "2019-06-20 14:00:00    134.0\n",
       "Name: 1.0, dtype: float64"
      ]
     },
     "execution_count": 264,
     "metadata": {},
     "output_type": "execute_result"
    }
   ],
   "source": [
    "predictor.detect(ts_test, predictions, season=True)"
   ]
  },
  {
   "cell_type": "code",
   "execution_count": 227,
   "metadata": {},
   "outputs": [
    {
     "data": {
      "text/plain": [
       "100"
      ]
     },
     "execution_count": 227,
     "metadata": {},
     "output_type": "execute_result"
    }
   ],
   "source": []
  },
  {
   "cell_type": "code",
   "execution_count": null,
   "metadata": {},
   "outputs": [],
   "source": []
  }
 ],
 "metadata": {
  "kernelspec": {
   "display_name": "Python 3",
   "language": "python",
   "name": "python3"
  },
  "language_info": {
   "codemirror_mode": {
    "name": "ipython",
    "version": 3
   },
   "file_extension": ".py",
   "mimetype": "text/x-python",
   "name": "python",
   "nbconvert_exporter": "python",
   "pygments_lexer": "ipython3",
   "version": "3.8.2"
  }
 },
 "nbformat": 4,
 "nbformat_minor": 2
}
